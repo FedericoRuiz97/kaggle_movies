{
 "cells": [
  {
   "cell_type": "markdown",
   "metadata": {},
   "source": [
    "<img src=\"https://i1.wp.com/sublibanderas.com/wp-content/uploads/2021/04/kueski-pay-PNG.png?fit=455%2C130&ssl=1\" align=\"center\" width=\"400\"/>"
   ]
  },
  {
   "cell_type": "markdown",
   "metadata": {},
   "source": [
    "<div class=\"alert alert-block alert-warning\">\n",
    "    \n",
    "## In this notebook we solve a Kaggle challenge for Kueski, focusing on feature engineering\n",
    "    \n",
    "</div>"
   ]
  },
  {
   "cell_type": "markdown",
   "metadata": {},
   "source": [
    "<hr style=\"border:2px solid gray\"> </hr>"
   ]
  },
  {
   "cell_type": "markdown",
   "metadata": {},
   "source": [
    "# Import libraries"
   ]
  },
  {
   "cell_type": "code",
   "execution_count": 21,
   "metadata": {},
   "outputs": [],
   "source": [
    "# Import libraries\n",
    "import pandas as pd\n",
    "import os\n",
    "import datetime\n",
    "import re\n",
    "import time"
   ]
  },
  {
   "cell_type": "code",
   "execution_count": 22,
   "metadata": {},
   "outputs": [],
   "source": [
    "# We take the time of start of the execution\n",
    "start_time = time.time()"
   ]
  },
  {
   "cell_type": "code",
   "execution_count": null,
   "metadata": {},
   "outputs": [],
   "source": [
    "#Seteamos para que no utilice notacion cientifica\n",
    "pd.options.display.float_format = '{:.9f}'.format\n",
    "#Seteo para que el máximo de columnas que muestra al levantar una base sean 500\n",
    "pd.set_option('display.max_columns',500)\n",
    "#Estos códigos hacen que la visualización de la consola abarque toda la pantalla (sin los recortes a los costados). Tambien hacen que al mostrar dataframes podamos ver todas las columnas que tiene.\n",
    "from IPython.core.display import display, HTML\n",
    "display(HTML(\"<style>.container { width:100% !important; }</style>\"))\n",
    "\n",
    "\n",
    "# Codigo para poder imprimir multiples outputs en una misma línea\n",
    "from IPython.core.interactiveshell import InteractiveShell\n",
    "InteractiveShell.ast_node_interactivity = \"all\""
   ]
  },
  {
   "cell_type": "markdown",
   "metadata": {},
   "source": [
    "# Build dataset and base features (using each register only)"
   ]
  },
  {
   "cell_type": "markdown",
   "metadata": {},
   "source": [
    "## 1. Main table"
   ]
  },
  {
   "cell_type": "code",
   "execution_count": 23,
   "metadata": {},
   "outputs": [
    {
     "data": {
      "text/html": [
       "<div>\n",
       "<style scoped>\n",
       "    .dataframe tbody tr th:only-of-type {\n",
       "        vertical-align: middle;\n",
       "    }\n",
       "\n",
       "    .dataframe tbody tr th {\n",
       "        vertical-align: top;\n",
       "    }\n",
       "\n",
       "    .dataframe thead th {\n",
       "        text-align: right;\n",
       "    }\n",
       "</style>\n",
       "<table border=\"1\" class=\"dataframe\">\n",
       "  <thead>\n",
       "    <tr style=\"text-align: right;\">\n",
       "      <th></th>\n",
       "      <th>userId</th>\n",
       "      <th>movieId</th>\n",
       "      <th>rating</th>\n",
       "      <th>timestamp</th>\n",
       "      <th>date</th>\n",
       "      <th>target</th>\n",
       "    </tr>\n",
       "  </thead>\n",
       "  <tbody>\n",
       "    <tr>\n",
       "      <th>0</th>\n",
       "      <td>1</td>\n",
       "      <td>2</td>\n",
       "      <td>3.5</td>\n",
       "      <td>2005-04-02 23:53:47</td>\n",
       "      <td>2005-04-02</td>\n",
       "      <td>0</td>\n",
       "    </tr>\n",
       "    <tr>\n",
       "      <th>1</th>\n",
       "      <td>1</td>\n",
       "      <td>29</td>\n",
       "      <td>3.5</td>\n",
       "      <td>2005-04-02 23:31:16</td>\n",
       "      <td>2005-04-02</td>\n",
       "      <td>0</td>\n",
       "    </tr>\n",
       "    <tr>\n",
       "      <th>2</th>\n",
       "      <td>1</td>\n",
       "      <td>32</td>\n",
       "      <td>3.5</td>\n",
       "      <td>2005-04-02 23:33:39</td>\n",
       "      <td>2005-04-02</td>\n",
       "      <td>0</td>\n",
       "    </tr>\n",
       "  </tbody>\n",
       "</table>\n",
       "</div>"
      ],
      "text/plain": [
       "   userId  movieId  rating            timestamp       date  target\n",
       "0       1        2     3.5  2005-04-02 23:53:47 2005-04-02       0\n",
       "1       1       29     3.5  2005-04-02 23:31:16 2005-04-02       0\n",
       "2       1       32     3.5  2005-04-02 23:33:39 2005-04-02       0"
      ]
     },
     "execution_count": 23,
     "metadata": {},
     "output_type": "execute_result"
    }
   ],
   "source": [
    "# Load rating data (first 1M rows) --> BECAUSE THIS IS A CHALLENGE! IT'S ONLY A DEMO OF MY WORK \n",
    "df_rating = pd.read_csv('raw_data/rating.csv', nrows=1000000)\n",
    "# Get date of rating from timestamp\n",
    "df_rating['date'] = pd.to_datetime(df_rating['timestamp'].str[:10], format='%Y-%m-%d', errors='coerce')\n",
    "# We create the target based on the business definition --> rating >=4 means 1 (or a 'high' rating)\n",
    "df_rating['target'] = np.where(df_rating['rating']>=4, 1, 0) \n",
    "df_rating.head(3)"
   ]
  },
  {
   "cell_type": "markdown",
   "metadata": {},
   "source": [
    "### 1.2 Features from Main table --> Not in ETL process"
   ]
  },
  {
   "cell_type": "markdown",
   "metadata": {},
   "source": [
    "## Movie title & genre"
   ]
  },
  {
   "cell_type": "code",
   "execution_count": 24,
   "metadata": {},
   "outputs": [
    {
     "data": {
      "text/html": [
       "<div>\n",
       "<style scoped>\n",
       "    .dataframe tbody tr th:only-of-type {\n",
       "        vertical-align: middle;\n",
       "    }\n",
       "\n",
       "    .dataframe tbody tr th {\n",
       "        vertical-align: top;\n",
       "    }\n",
       "\n",
       "    .dataframe thead th {\n",
       "        text-align: right;\n",
       "    }\n",
       "</style>\n",
       "<table border=\"1\" class=\"dataframe\">\n",
       "  <thead>\n",
       "    <tr style=\"text-align: right;\">\n",
       "      <th></th>\n",
       "      <th>movieId</th>\n",
       "      <th>title</th>\n",
       "      <th>genres</th>\n",
       "    </tr>\n",
       "  </thead>\n",
       "  <tbody>\n",
       "    <tr>\n",
       "      <th>0</th>\n",
       "      <td>1</td>\n",
       "      <td>Toy Story (1995)</td>\n",
       "      <td>Adventure|Animation|Children|Comedy|Fantasy</td>\n",
       "    </tr>\n",
       "    <tr>\n",
       "      <th>1</th>\n",
       "      <td>2</td>\n",
       "      <td>Jumanji (1995)</td>\n",
       "      <td>Adventure|Children|Fantasy</td>\n",
       "    </tr>\n",
       "    <tr>\n",
       "      <th>2</th>\n",
       "      <td>3</td>\n",
       "      <td>Grumpier Old Men (1995)</td>\n",
       "      <td>Comedy|Romance</td>\n",
       "    </tr>\n",
       "  </tbody>\n",
       "</table>\n",
       "</div>"
      ],
      "text/plain": [
       "   movieId                    title  \\\n",
       "0        1         Toy Story (1995)   \n",
       "1        2           Jumanji (1995)   \n",
       "2        3  Grumpier Old Men (1995)   \n",
       "\n",
       "                                        genres  \n",
       "0  Adventure|Animation|Children|Comedy|Fantasy  \n",
       "1                   Adventure|Children|Fantasy  \n",
       "2                               Comedy|Romance  "
      ]
     },
     "execution_count": 24,
     "metadata": {},
     "output_type": "execute_result"
    }
   ],
   "source": [
    "# Load movie general data (title and genre)\n",
    "df_movie = pd.read_csv('raw_data/movie.csv')\n",
    "df_movie.head(3)"
   ]
  },
  {
   "cell_type": "markdown",
   "metadata": {},
   "source": [
    "### Movie general features:\n",
    "* Movie Year\n",
    "* Movie genre"
   ]
  },
  {
   "cell_type": "code",
   "execution_count": 25,
   "metadata": {},
   "outputs": [],
   "source": [
    "# FEATURE: MOVIE YEAR\n",
    "# We apply a regex (4 digits between parenthesis) to find the year of the movie\n",
    "pattern = re.compile(r\"\\((\\d{4})\\)\")\n",
    "years_list = df_movie['title'].apply(lambda x: pattern.findall(x))\n",
    "df_movie['movie_year']=[x[0] if len(x)==1 else np.nan for x in years_list]"
   ]
  },
  {
   "cell_type": "code",
   "execution_count": 26,
   "metadata": {},
   "outputs": [
    {
     "name": "stderr",
     "output_type": "stream",
     "text": [
      "C:\\Users\\ruizf\\AppData\\Roaming\\Python\\Python37\\site-packages\\pandas\\core\\strings\\accessor.py:101: UserWarning: This pattern has match groups. To actually get the groups, use str.extract.\n",
      "  return func(self, *args, **kwargs)\n"
     ]
    },
    {
     "data": {
      "text/html": [
       "<div>\n",
       "<style scoped>\n",
       "    .dataframe tbody tr th:only-of-type {\n",
       "        vertical-align: middle;\n",
       "    }\n",
       "\n",
       "    .dataframe tbody tr th {\n",
       "        vertical-align: top;\n",
       "    }\n",
       "\n",
       "    .dataframe thead th {\n",
       "        text-align: right;\n",
       "    }\n",
       "</style>\n",
       "<table border=\"1\" class=\"dataframe\">\n",
       "  <thead>\n",
       "    <tr style=\"text-align: right;\">\n",
       "      <th></th>\n",
       "      <th>movieId</th>\n",
       "      <th>title</th>\n",
       "      <th>movie_year</th>\n",
       "      <th>genre_film-noir</th>\n",
       "      <th>genre_documentary</th>\n",
       "      <th>genre_war</th>\n",
       "      <th>genre_horror</th>\n",
       "      <th>genre_thriller</th>\n",
       "      <th>genre_crime</th>\n",
       "      <th>genre_animation</th>\n",
       "      <th>...</th>\n",
       "      <th>genre_romance</th>\n",
       "      <th>genre_sci-fi</th>\n",
       "      <th>genre_adventure</th>\n",
       "      <th>genre_action</th>\n",
       "      <th>genre_fantasy</th>\n",
       "      <th>genre_mystery</th>\n",
       "      <th>genre_imax</th>\n",
       "      <th>genre_western</th>\n",
       "      <th>genre_drama</th>\n",
       "      <th>genre_children</th>\n",
       "    </tr>\n",
       "  </thead>\n",
       "  <tbody>\n",
       "    <tr>\n",
       "      <th>0</th>\n",
       "      <td>1</td>\n",
       "      <td>Toy Story (1995)</td>\n",
       "      <td>1995</td>\n",
       "      <td>0</td>\n",
       "      <td>0</td>\n",
       "      <td>0</td>\n",
       "      <td>0</td>\n",
       "      <td>0</td>\n",
       "      <td>0</td>\n",
       "      <td>1</td>\n",
       "      <td>...</td>\n",
       "      <td>0</td>\n",
       "      <td>0</td>\n",
       "      <td>1</td>\n",
       "      <td>0</td>\n",
       "      <td>1</td>\n",
       "      <td>0</td>\n",
       "      <td>0</td>\n",
       "      <td>0</td>\n",
       "      <td>0</td>\n",
       "      <td>1</td>\n",
       "    </tr>\n",
       "    <tr>\n",
       "      <th>1</th>\n",
       "      <td>2</td>\n",
       "      <td>Jumanji (1995)</td>\n",
       "      <td>1995</td>\n",
       "      <td>0</td>\n",
       "      <td>0</td>\n",
       "      <td>0</td>\n",
       "      <td>0</td>\n",
       "      <td>0</td>\n",
       "      <td>0</td>\n",
       "      <td>0</td>\n",
       "      <td>...</td>\n",
       "      <td>0</td>\n",
       "      <td>0</td>\n",
       "      <td>1</td>\n",
       "      <td>0</td>\n",
       "      <td>1</td>\n",
       "      <td>0</td>\n",
       "      <td>0</td>\n",
       "      <td>0</td>\n",
       "      <td>0</td>\n",
       "      <td>1</td>\n",
       "    </tr>\n",
       "    <tr>\n",
       "      <th>2</th>\n",
       "      <td>3</td>\n",
       "      <td>Grumpier Old Men (1995)</td>\n",
       "      <td>1995</td>\n",
       "      <td>0</td>\n",
       "      <td>0</td>\n",
       "      <td>0</td>\n",
       "      <td>0</td>\n",
       "      <td>0</td>\n",
       "      <td>0</td>\n",
       "      <td>0</td>\n",
       "      <td>...</td>\n",
       "      <td>1</td>\n",
       "      <td>0</td>\n",
       "      <td>0</td>\n",
       "      <td>0</td>\n",
       "      <td>0</td>\n",
       "      <td>0</td>\n",
       "      <td>0</td>\n",
       "      <td>0</td>\n",
       "      <td>0</td>\n",
       "      <td>0</td>\n",
       "    </tr>\n",
       "    <tr>\n",
       "      <th>3</th>\n",
       "      <td>4</td>\n",
       "      <td>Waiting to Exhale (1995)</td>\n",
       "      <td>1995</td>\n",
       "      <td>0</td>\n",
       "      <td>0</td>\n",
       "      <td>0</td>\n",
       "      <td>0</td>\n",
       "      <td>0</td>\n",
       "      <td>0</td>\n",
       "      <td>0</td>\n",
       "      <td>...</td>\n",
       "      <td>1</td>\n",
       "      <td>0</td>\n",
       "      <td>0</td>\n",
       "      <td>0</td>\n",
       "      <td>0</td>\n",
       "      <td>0</td>\n",
       "      <td>0</td>\n",
       "      <td>0</td>\n",
       "      <td>1</td>\n",
       "      <td>0</td>\n",
       "    </tr>\n",
       "    <tr>\n",
       "      <th>4</th>\n",
       "      <td>5</td>\n",
       "      <td>Father of the Bride Part II (1995)</td>\n",
       "      <td>1995</td>\n",
       "      <td>0</td>\n",
       "      <td>0</td>\n",
       "      <td>0</td>\n",
       "      <td>0</td>\n",
       "      <td>0</td>\n",
       "      <td>0</td>\n",
       "      <td>0</td>\n",
       "      <td>...</td>\n",
       "      <td>0</td>\n",
       "      <td>0</td>\n",
       "      <td>0</td>\n",
       "      <td>0</td>\n",
       "      <td>0</td>\n",
       "      <td>0</td>\n",
       "      <td>0</td>\n",
       "      <td>0</td>\n",
       "      <td>0</td>\n",
       "      <td>0</td>\n",
       "    </tr>\n",
       "  </tbody>\n",
       "</table>\n",
       "<p>5 rows × 23 columns</p>\n",
       "</div>"
      ],
      "text/plain": [
       "   movieId                               title movie_year  genre_film-noir  \\\n",
       "0        1                    Toy Story (1995)       1995                0   \n",
       "1        2                      Jumanji (1995)       1995                0   \n",
       "2        3             Grumpier Old Men (1995)       1995                0   \n",
       "3        4            Waiting to Exhale (1995)       1995                0   \n",
       "4        5  Father of the Bride Part II (1995)       1995                0   \n",
       "\n",
       "   genre_documentary  genre_war  genre_horror  genre_thriller  genre_crime  \\\n",
       "0                  0          0             0               0            0   \n",
       "1                  0          0             0               0            0   \n",
       "2                  0          0             0               0            0   \n",
       "3                  0          0             0               0            0   \n",
       "4                  0          0             0               0            0   \n",
       "\n",
       "   genre_animation  ...  genre_romance  genre_sci-fi  genre_adventure  \\\n",
       "0                1  ...              0             0                1   \n",
       "1                0  ...              0             0                1   \n",
       "2                0  ...              1             0                0   \n",
       "3                0  ...              1             0                0   \n",
       "4                0  ...              0             0                0   \n",
       "\n",
       "   genre_action  genre_fantasy  genre_mystery  genre_imax  genre_western  \\\n",
       "0             0              1              0           0              0   \n",
       "1             0              1              0           0              0   \n",
       "2             0              0              0           0              0   \n",
       "3             0              0              0           0              0   \n",
       "4             0              0              0           0              0   \n",
       "\n",
       "   genre_drama  genre_children  \n",
       "0            0               1  \n",
       "1            0               1  \n",
       "2            0               0  \n",
       "3            1               0  \n",
       "4            0               0  \n",
       "\n",
       "[5 rows x 23 columns]"
      ]
     },
     "execution_count": 26,
     "metadata": {},
     "output_type": "execute_result"
    }
   ],
   "source": [
    "# FEATURES DE GENEROS DE PELICULAS\n",
    "# listamos los diferentes generos que hay en el dataframe\n",
    "dif_genres=set(np.concatenate(df_movie['genres'].str.split('|')).ravel().tolist())\n",
    "# Para cada genero posible crearemos una columna a modo de flag\n",
    "for genre_i in dif_genres:\n",
    "    df_movie['genre_'+genre_i.lower()] = np.where(df_movie['genres'].str.contains(genre_i), 1, 0)\n",
    "    \n",
    "# We are ready to drop the genre list column\n",
    "df_movie.drop(columns='genres',inplace=True)\n",
    "df_movie.head()"
   ]
  },
  {
   "cell_type": "markdown",
   "metadata": {},
   "source": [
    "## Load Tag data"
   ]
  },
  {
   "cell_type": "code",
   "execution_count": 27,
   "metadata": {},
   "outputs": [
    {
     "data": {
      "text/html": [
       "<div>\n",
       "<style scoped>\n",
       "    .dataframe tbody tr th:only-of-type {\n",
       "        vertical-align: middle;\n",
       "    }\n",
       "\n",
       "    .dataframe tbody tr th {\n",
       "        vertical-align: top;\n",
       "    }\n",
       "\n",
       "    .dataframe thead th {\n",
       "        text-align: right;\n",
       "    }\n",
       "</style>\n",
       "<table border=\"1\" class=\"dataframe\">\n",
       "  <thead>\n",
       "    <tr style=\"text-align: right;\">\n",
       "      <th></th>\n",
       "      <th>movieId</th>\n",
       "      <th>tagId</th>\n",
       "      <th>relevance</th>\n",
       "      <th>tag</th>\n",
       "    </tr>\n",
       "  </thead>\n",
       "  <tbody>\n",
       "    <tr>\n",
       "      <th>0</th>\n",
       "      <td>1</td>\n",
       "      <td>1</td>\n",
       "      <td>0.02500</td>\n",
       "      <td>007</td>\n",
       "    </tr>\n",
       "    <tr>\n",
       "      <th>1</th>\n",
       "      <td>1</td>\n",
       "      <td>2</td>\n",
       "      <td>0.02500</td>\n",
       "      <td>007 (series)</td>\n",
       "    </tr>\n",
       "    <tr>\n",
       "      <th>2</th>\n",
       "      <td>1</td>\n",
       "      <td>3</td>\n",
       "      <td>0.05775</td>\n",
       "      <td>18th century</td>\n",
       "    </tr>\n",
       "  </tbody>\n",
       "</table>\n",
       "</div>"
      ],
      "text/plain": [
       "   movieId  tagId  relevance           tag\n",
       "0        1      1    0.02500           007\n",
       "1        1      2    0.02500  007 (series)\n",
       "2        1      3    0.05775  18th century"
      ]
     },
     "execution_count": 27,
     "metadata": {},
     "output_type": "execute_result"
    }
   ],
   "source": [
    "# LOAD TAG DATA\n",
    "# Load relevance of each tag for each movie\n",
    "df_gen_scores = pd.read_csv('raw_data/genome_scores.csv')\n",
    "# Load meaning of each tag\n",
    "df_gen_tags = pd.read_csv('raw_data/genome_tags.csv')\n",
    "# Merge the data \n",
    "df_gen = pd.merge(df_gen_scores, df_gen_tags, how='left', on='tagId')\n",
    "df_gen.head(3)"
   ]
  },
  {
   "cell_type": "markdown",
   "metadata": {},
   "source": [
    "### Features with Tag Data"
   ]
  },
  {
   "cell_type": "markdown",
   "metadata": {},
   "source": [
    "We'll reduce Tag data (1128 tags per movie is too much).So we will get:\n",
    "* Top 5 most relevant tags of the movie\n",
    "* Top 5 most relevant tags overall --> relevance of those for each movie\n",
    "* Top 5 most discriminant tags overall --> relevance of those for each movie"
   ]
  },
  {
   "cell_type": "code",
   "execution_count": 28,
   "metadata": {},
   "outputs": [],
   "source": [
    "# Problema: Para cada película tenemos 1128 tags. \n",
    "# Si esto lo cruzamos con nuestra tabla principal (ratings de userId a cada movieId) la base explota dimensionalmente\n",
    "# (sumaríamos 1128 columnas, y generaría problemas predictivos --> features de casualidad predicen bien)\n",
    "# por lo cual solamente tomaremos los top5 tags más importantes para cada una\n",
    "\n",
    "# First we sort the data, based on relevance for each movie (descending), so we can get the first 5 of each movie\n",
    "df_gen.sort_values(['movieId', 'relevance'], ascending=[True, False], inplace=True)\n",
    "# Then we select, for each movie, the top 5 rows (tagIds)\n",
    "df_top5_tags = df_gen.groupby('movieId').head(5)"
   ]
  },
  {
   "cell_type": "code",
   "execution_count": 29,
   "metadata": {},
   "outputs": [],
   "source": [
    "# TAGS: MOST RELEVANT TAGS, & MOST DISCRIMINANT TAGS\n",
    "# To define this, it is very important to understand de concept behind de \"RELEVANCE\" feature\n",
    "# as the documentation is not very clear, I'll assume-->  relevance = how accurate the tag is for the movie \n",
    "# we define how many we'll take\n",
    "top_n_tags_to_get = 5\n",
    "\n",
    "# We group the data by tag and sumarize the relevancy, and also take the standard deviation that it has\n",
    "df_tag_relevance = df_gen.groupby('tagId').agg({'relevance':['sum','mean','std']}).reset_index()\n",
    "# Rename the columns just to be clearer\n",
    "df_tag_relevance.columns = ['tagId','sum_relevance', 'mean_relevance','std_relevance']\n",
    "\n",
    "# We add the tag description (meaning) \n",
    "df_tag_relevance = pd.merge(df_tag_relevance, df_gen_tags, how='left', on='tagId')\n",
    "\n",
    "# We take the most relevant (sum of relevancies)\n",
    "list_most_relevant_tags = df_tag_relevance.sort_values('sum_relevance', ascending=False).head(top_n_tags_to_get)['tagId'].values.tolist()\n",
    "list_most_discrim_tags = df_tag_relevance.sort_values('std_relevance', ascending=False).head(top_n_tags_to_get)['tagId'].values.tolist()\n",
    "# and their description\n",
    "list_most_relevant_tags_desc = df_tag_relevance.sort_values('sum_relevance', ascending=False).head(top_n_tags_to_get)['tag'].values.tolist()\n",
    "list_most_discrim_tags_desc = df_tag_relevance.sort_values('std_relevance', ascending=False).head(top_n_tags_to_get)['tag'].values.tolist()"
   ]
  },
  {
   "cell_type": "code",
   "execution_count": 30,
   "metadata": {},
   "outputs": [
    {
     "name": "stderr",
     "output_type": "stream",
     "text": [
      "C:\\Users\\ruizf\\anaconda3\\lib\\site-packages\\ipykernel_launcher.py:5: SettingWithCopyWarning: \n",
      "A value is trying to be set on a copy of a slice from a DataFrame.\n",
      "Try using .loc[row_indexer,col_indexer] = value instead\n",
      "\n",
      "See the caveats in the documentation: https://pandas.pydata.org/pandas-docs/stable/user_guide/indexing.html#returning-a-view-versus-a-copy\n",
      "  \"\"\"\n"
     ]
    },
    {
     "data": {
      "text/html": [
       "<div>\n",
       "<style scoped>\n",
       "    .dataframe tbody tr th:only-of-type {\n",
       "        vertical-align: middle;\n",
       "    }\n",
       "\n",
       "    .dataframe tbody tr th {\n",
       "        vertical-align: top;\n",
       "    }\n",
       "\n",
       "    .dataframe thead th {\n",
       "        text-align: right;\n",
       "    }\n",
       "</style>\n",
       "<table border=\"1\" class=\"dataframe\">\n",
       "  <thead>\n",
       "    <tr style=\"text-align: right;\">\n",
       "      <th></th>\n",
       "      <th>top_1_tagId</th>\n",
       "      <th>top_2_tagId</th>\n",
       "      <th>top_3_tagId</th>\n",
       "      <th>top_4_tagId</th>\n",
       "      <th>top_5_tagId</th>\n",
       "      <th>tag_original</th>\n",
       "      <th>tag_mentor</th>\n",
       "      <th>tag_great ending</th>\n",
       "      <th>tag_dialogue</th>\n",
       "      <th>tag_good soundtrack</th>\n",
       "      <th>tag_comedy</th>\n",
       "      <th>tag_action</th>\n",
       "      <th>tag_tense</th>\n",
       "      <th>tag_relationships</th>\n",
       "      <th>tag_horror</th>\n",
       "    </tr>\n",
       "    <tr>\n",
       "      <th>movieId</th>\n",
       "      <th></th>\n",
       "      <th></th>\n",
       "      <th></th>\n",
       "      <th></th>\n",
       "      <th></th>\n",
       "      <th></th>\n",
       "      <th></th>\n",
       "      <th></th>\n",
       "      <th></th>\n",
       "      <th></th>\n",
       "      <th></th>\n",
       "      <th></th>\n",
       "      <th></th>\n",
       "      <th></th>\n",
       "      <th></th>\n",
       "    </tr>\n",
       "  </thead>\n",
       "  <tbody>\n",
       "    <tr>\n",
       "      <th>1</th>\n",
       "      <td>toys</td>\n",
       "      <td>computer animation</td>\n",
       "      <td>pixar animation</td>\n",
       "      <td>kids and family</td>\n",
       "      <td>animation</td>\n",
       "      <td>0.87925</td>\n",
       "      <td>0.64925</td>\n",
       "      <td>0.6315</td>\n",
       "      <td>0.63750</td>\n",
       "      <td>0.73375</td>\n",
       "      <td>0.61800</td>\n",
       "      <td>0.67050</td>\n",
       "      <td>0.3335</td>\n",
       "      <td>0.11650</td>\n",
       "      <td>0.04725</td>\n",
       "    </tr>\n",
       "    <tr>\n",
       "      <th>2</th>\n",
       "      <td>adventure</td>\n",
       "      <td>jungle</td>\n",
       "      <td>children</td>\n",
       "      <td>kids</td>\n",
       "      <td>special effects</td>\n",
       "      <td>0.71900</td>\n",
       "      <td>0.61000</td>\n",
       "      <td>0.4295</td>\n",
       "      <td>0.37275</td>\n",
       "      <td>0.24625</td>\n",
       "      <td>0.54025</td>\n",
       "      <td>0.64600</td>\n",
       "      <td>0.1205</td>\n",
       "      <td>0.10125</td>\n",
       "      <td>0.06400</td>\n",
       "    </tr>\n",
       "    <tr>\n",
       "      <th>3</th>\n",
       "      <td>good sequel</td>\n",
       "      <td>sequel</td>\n",
       "      <td>sequels</td>\n",
       "      <td>comedy</td>\n",
       "      <td>original</td>\n",
       "      <td>0.77900</td>\n",
       "      <td>0.54575</td>\n",
       "      <td>0.4530</td>\n",
       "      <td>0.45600</td>\n",
       "      <td>0.31175</td>\n",
       "      <td>0.84675</td>\n",
       "      <td>0.16475</td>\n",
       "      <td>0.1045</td>\n",
       "      <td>0.31000</td>\n",
       "      <td>0.02400</td>\n",
       "    </tr>\n",
       "  </tbody>\n",
       "</table>\n",
       "</div>"
      ],
      "text/plain": [
       "         top_1_tagId         top_2_tagId      top_3_tagId      top_4_tagId  \\\n",
       "movieId                                                                      \n",
       "1               toys  computer animation  pixar animation  kids and family   \n",
       "2          adventure              jungle         children             kids   \n",
       "3        good sequel              sequel          sequels           comedy   \n",
       "\n",
       "             top_5_tagId  tag_original  tag_mentor  tag_great ending  \\\n",
       "movieId                                                                \n",
       "1              animation       0.87925     0.64925            0.6315   \n",
       "2        special effects       0.71900     0.61000            0.4295   \n",
       "3               original       0.77900     0.54575            0.4530   \n",
       "\n",
       "         tag_dialogue  tag_good soundtrack  tag_comedy  tag_action  tag_tense  \\\n",
       "movieId                                                                         \n",
       "1             0.63750              0.73375     0.61800     0.67050     0.3335   \n",
       "2             0.37275              0.24625     0.54025     0.64600     0.1205   \n",
       "3             0.45600              0.31175     0.84675     0.16475     0.1045   \n",
       "\n",
       "         tag_relationships  tag_horror  \n",
       "movieId                                 \n",
       "1                  0.11650     0.04725  \n",
       "2                  0.10125     0.06400  \n",
       "3                  0.31000     0.02400  "
      ]
     },
     "execution_count": 30,
     "metadata": {},
     "output_type": "execute_result"
    }
   ],
   "source": [
    "# We build the features based on the former explanations\n",
    "# 1) For each movie we get the TagId of it's most relevants tags\n",
    "\n",
    "# we add order to the tags\n",
    "df_top5_tags['order']=df_top5_tags.groupby('movieId')['relevance'].rank(method='first', ascending=False).astype(int)\n",
    "# then we create a pivot table so there is only 1 row for each movie, and the columns have the top_n_tagId\n",
    "df_tags_movies = pd.pivot_table(df_top5_tags, values='tag', index='movieId', columns='order', aggfunc=lambda x: ' '.join(x))\n",
    "# df_tags_movies = pd.pivot_table(df_top5_tags, values='tagId', index='movieId', columns='order')\n",
    "# change col names\n",
    "df_tags_movies.columns = ['top_'+str(x)+'_tagId' for x in df_tags_movies.columns.tolist()]\n",
    "\n",
    "# 2) We build columns for specific tags (top5 most relevant overall, and top5 most discriminant\n",
    "# first we do it for the relevant tags\n",
    "df_relevant_tags = pd.DataFrame(index=df_gen.movieId.unique())\n",
    "for tag_i in list_most_relevant_tags_desc:\n",
    "    df_relevant_tags['tag_'+str(tag_i)]=df_gen[df_gen['tag']==tag_i]['relevance'].values\n",
    "# then we repeat the process for the most discriminant\n",
    "df_discrim_tags = pd.DataFrame(index=df_gen.movieId.unique())\n",
    "for tag_i in list_most_discrim_tags_desc:\n",
    "    df_discrim_tags['tag_'+str(tag_i)]=df_gen[df_gen['tag']==tag_i]['relevance'].values \n",
    "\n",
    "# We gather all these features in one table\n",
    "df_tag_features = pd.merge(df_tags_movies, df_relevant_tags, how='left', left_index=True, right_index=True)\n",
    "df_tag_features = pd.merge(df_tag_features, df_discrim_tags, how='left', left_index=True, right_index=True)\n",
    "df_tag_features.head(3)"
   ]
  },
  {
   "cell_type": "markdown",
   "metadata": {},
   "source": [
    "## Load movie ids for external data"
   ]
  },
  {
   "cell_type": "code",
   "execution_count": 31,
   "metadata": {},
   "outputs": [
    {
     "data": {
      "text/html": [
       "<div>\n",
       "<style scoped>\n",
       "    .dataframe tbody tr th:only-of-type {\n",
       "        vertical-align: middle;\n",
       "    }\n",
       "\n",
       "    .dataframe tbody tr th {\n",
       "        vertical-align: top;\n",
       "    }\n",
       "\n",
       "    .dataframe thead th {\n",
       "        text-align: right;\n",
       "    }\n",
       "</style>\n",
       "<table border=\"1\" class=\"dataframe\">\n",
       "  <thead>\n",
       "    <tr style=\"text-align: right;\">\n",
       "      <th></th>\n",
       "      <th>movieId</th>\n",
       "      <th>imdbId</th>\n",
       "      <th>tmdbId</th>\n",
       "    </tr>\n",
       "  </thead>\n",
       "  <tbody>\n",
       "    <tr>\n",
       "      <th>0</th>\n",
       "      <td>1</td>\n",
       "      <td>114709</td>\n",
       "      <td>862.0</td>\n",
       "    </tr>\n",
       "    <tr>\n",
       "      <th>1</th>\n",
       "      <td>2</td>\n",
       "      <td>113497</td>\n",
       "      <td>8844.0</td>\n",
       "    </tr>\n",
       "    <tr>\n",
       "      <th>2</th>\n",
       "      <td>3</td>\n",
       "      <td>113228</td>\n",
       "      <td>15602.0</td>\n",
       "    </tr>\n",
       "    <tr>\n",
       "      <th>3</th>\n",
       "      <td>4</td>\n",
       "      <td>114885</td>\n",
       "      <td>31357.0</td>\n",
       "    </tr>\n",
       "    <tr>\n",
       "      <th>4</th>\n",
       "      <td>5</td>\n",
       "      <td>113041</td>\n",
       "      <td>11862.0</td>\n",
       "    </tr>\n",
       "  </tbody>\n",
       "</table>\n",
       "</div>"
      ],
      "text/plain": [
       "   movieId  imdbId   tmdbId\n",
       "0        1  114709    862.0\n",
       "1        2  113497   8844.0\n",
       "2        3  113228  15602.0\n",
       "3        4  114885  31357.0\n",
       "4        5  113041  11862.0"
      ]
     },
     "execution_count": 31,
     "metadata": {},
     "output_type": "execute_result"
    }
   ],
   "source": [
    "df_link = pd.read_csv('raw_data/link.csv')\n",
    "df_link.head()"
   ]
  },
  {
   "cell_type": "markdown",
   "metadata": {},
   "source": [
    "### Features external data (IMDB average rating and amount of them)"
   ]
  },
  {
   "cell_type": "code",
   "execution_count": 32,
   "metadata": {},
   "outputs": [
    {
     "data": {
      "text/html": [
       "<div>\n",
       "<style scoped>\n",
       "    .dataframe tbody tr th:only-of-type {\n",
       "        vertical-align: middle;\n",
       "    }\n",
       "\n",
       "    .dataframe tbody tr th {\n",
       "        vertical-align: top;\n",
       "    }\n",
       "\n",
       "    .dataframe thead th {\n",
       "        text-align: right;\n",
       "    }\n",
       "</style>\n",
       "<table border=\"1\" class=\"dataframe\">\n",
       "  <thead>\n",
       "    <tr style=\"text-align: right;\">\n",
       "      <th></th>\n",
       "      <th>movieId</th>\n",
       "      <th>imdb_avg_rating</th>\n",
       "      <th>imdb_qnt_votes</th>\n",
       "    </tr>\n",
       "  </thead>\n",
       "  <tbody>\n",
       "    <tr>\n",
       "      <th>0</th>\n",
       "      <td>1</td>\n",
       "      <td>5.7</td>\n",
       "      <td>1847.0</td>\n",
       "    </tr>\n",
       "    <tr>\n",
       "      <th>1</th>\n",
       "      <td>2</td>\n",
       "      <td>6.0</td>\n",
       "      <td>240.0</td>\n",
       "    </tr>\n",
       "    <tr>\n",
       "      <th>2</th>\n",
       "      <td>3</td>\n",
       "      <td>6.5</td>\n",
       "      <td>1614.0</td>\n",
       "    </tr>\n",
       "  </tbody>\n",
       "</table>\n",
       "</div>"
      ],
      "text/plain": [
       "   movieId  imdb_avg_rating  imdb_qnt_votes\n",
       "0        1              5.7          1847.0\n",
       "1        2              6.0           240.0\n",
       "2        3              6.5          1614.0"
      ]
     },
     "execution_count": 32,
     "metadata": {},
     "output_type": "execute_result"
    }
   ],
   "source": [
    "# Loads imdb rating data (from https://www.imdb.com/interfaces/)\n",
    "df_imdb_ratings = pd.read_csv('raw_data/imdb_ratings.tsv', sep=\"\\t\")\n",
    "# Deletes 'tt' and trailing zeros from the titleid (tconst)\n",
    "df_imdb_ratings['tconst']=df_imdb_ratings['tconst'].str.replace('tt','').astype(int)\n",
    "# We get the features only for the movies we have \n",
    "df_imdb_features=pd.merge(df_link[['movieId','imdbId']], df_imdb_ratings, how='left', left_on='movieId', right_on='tconst')\n",
    "# We remove the imdbIDs because we already used them\n",
    "df_imdb_features.drop(columns=['tconst','imdbId'],inplace=True)\n",
    "# Change column names \n",
    "df_imdb_features.columns = ['movieId','imdb_avg_rating', 'imdb_qnt_votes']\n",
    "df_imdb_features.head(3)"
   ]
  },
  {
   "cell_type": "markdown",
   "metadata": {},
   "source": [
    "## Load tags applied to movies by users"
   ]
  },
  {
   "cell_type": "code",
   "execution_count": 33,
   "metadata": {},
   "outputs": [
    {
     "data": {
      "text/html": [
       "<div>\n",
       "<style scoped>\n",
       "    .dataframe tbody tr th:only-of-type {\n",
       "        vertical-align: middle;\n",
       "    }\n",
       "\n",
       "    .dataframe tbody tr th {\n",
       "        vertical-align: top;\n",
       "    }\n",
       "\n",
       "    .dataframe thead th {\n",
       "        text-align: right;\n",
       "    }\n",
       "</style>\n",
       "<table border=\"1\" class=\"dataframe\">\n",
       "  <thead>\n",
       "    <tr style=\"text-align: right;\">\n",
       "      <th></th>\n",
       "      <th>userId</th>\n",
       "      <th>movieId</th>\n",
       "      <th>tag</th>\n",
       "      <th>timestamp</th>\n",
       "    </tr>\n",
       "  </thead>\n",
       "  <tbody>\n",
       "    <tr>\n",
       "      <th>0</th>\n",
       "      <td>18</td>\n",
       "      <td>4141</td>\n",
       "      <td>Mark Waters</td>\n",
       "      <td>2009-04-24 18:19:40</td>\n",
       "    </tr>\n",
       "    <tr>\n",
       "      <th>1</th>\n",
       "      <td>65</td>\n",
       "      <td>208</td>\n",
       "      <td>dark hero</td>\n",
       "      <td>2013-05-10 01:41:18</td>\n",
       "    </tr>\n",
       "    <tr>\n",
       "      <th>2</th>\n",
       "      <td>65</td>\n",
       "      <td>353</td>\n",
       "      <td>dark hero</td>\n",
       "      <td>2013-05-10 01:41:19</td>\n",
       "    </tr>\n",
       "    <tr>\n",
       "      <th>3</th>\n",
       "      <td>65</td>\n",
       "      <td>521</td>\n",
       "      <td>noir thriller</td>\n",
       "      <td>2013-05-10 01:39:43</td>\n",
       "    </tr>\n",
       "    <tr>\n",
       "      <th>4</th>\n",
       "      <td>65</td>\n",
       "      <td>592</td>\n",
       "      <td>dark hero</td>\n",
       "      <td>2013-05-10 01:41:18</td>\n",
       "    </tr>\n",
       "  </tbody>\n",
       "</table>\n",
       "</div>"
      ],
      "text/plain": [
       "   userId  movieId            tag            timestamp\n",
       "0      18     4141    Mark Waters  2009-04-24 18:19:40\n",
       "1      65      208      dark hero  2013-05-10 01:41:18\n",
       "2      65      353      dark hero  2013-05-10 01:41:19\n",
       "3      65      521  noir thriller  2013-05-10 01:39:43\n",
       "4      65      592      dark hero  2013-05-10 01:41:18"
      ]
     },
     "execution_count": 33,
     "metadata": {},
     "output_type": "execute_result"
    }
   ],
   "source": [
    "df_user_tag = pd.read_csv('raw_data/tag.csv')\n",
    "df_user_tag.head()"
   ]
  },
  {
   "cell_type": "markdown",
   "metadata": {},
   "source": [
    "## Output: \n",
    "* Main table with added features from: movie info, tags, imdb ratings\n",
    "* Tags applied by users"
   ]
  },
  {
   "cell_type": "code",
   "execution_count": 34,
   "metadata": {},
   "outputs": [],
   "source": [
    "# Add movie features to main dataframe\n",
    "df_main = pd.merge(df_rating, df_movie, how='left', on='movieId' )\n",
    "# Then we add tag features to the table\n",
    "df_main = pd.merge(df_main, df_tag_features, how='left', left_on='movieId', right_index=True)\n",
    "# Finally we add the external features (imdb ratings)\n",
    "df_main = pd.merge(df_main,df_imdb_features, how='left', on='movieId')"
   ]
  },
  {
   "cell_type": "markdown",
   "metadata": {},
   "source": [
    "### Export output"
   ]
  },
  {
   "cell_type": "code",
   "execution_count": 35,
   "metadata": {},
   "outputs": [],
   "source": [
    "# Export main table as csv\n",
    "df_main.to_csv('model_input/main_table.csv', sep=';', index=False)"
   ]
  },
  {
   "cell_type": "code",
   "execution_count": 36,
   "metadata": {},
   "outputs": [],
   "source": [
    "# Export user_tags (unchanged) as csv\n",
    "df_user_tag.to_csv('model_input/user_tags.csv', sep=';',index=False)"
   ]
  },
  {
   "cell_type": "code",
   "execution_count": 37,
   "metadata": {},
   "outputs": [
    {
     "name": "stdout",
     "output_type": "stream",
     "text": [
      "El script tarda 1.0394009868303935 minutos en correr\n"
     ]
    }
   ],
   "source": [
    "# Calculate total time of execution\n",
    "end_time = time.time()\n",
    "print(f\"El script tarda {(end_time - start_time)/60} minutos en correr\")"
   ]
  }
 ],
 "metadata": {
  "kernelspec": {
   "display_name": "Python 3",
   "language": "python",
   "name": "python3"
  },
  "latex_envs": {
   "LaTeX_envs_menu_present": true,
   "autoclose": false,
   "autocomplete": true,
   "bibliofile": "biblio.bib",
   "cite_by": "apalike",
   "current_citInitial": 1,
   "eqLabelWithNumbers": true,
   "eqNumInitial": 1,
   "hotkeys": {
    "equation": "Ctrl-E",
    "itemize": "Ctrl-I"
   },
   "labels_anchors": false,
   "latex_user_defs": false,
   "report_style_numbering": false,
   "user_envs_cfg": false
  },
  "toc": {
   "base_numbering": 1,
   "nav_menu": {},
   "number_sections": true,
   "sideBar": true,
   "skip_h1_title": false,
   "title_cell": "Table of Contents",
   "title_sidebar": "Contents",
   "toc_cell": false,
   "toc_position": {},
   "toc_section_display": true,
   "toc_window_display": false
  },
  "varInspector": {
   "cols": {
    "lenName": 16,
    "lenType": 16,
    "lenVar": 40
   },
   "kernels_config": {
    "python": {
     "delete_cmd_postfix": "",
     "delete_cmd_prefix": "del ",
     "library": "var_list.py",
     "varRefreshCmd": "print(var_dic_list())"
    },
    "r": {
     "delete_cmd_postfix": ") ",
     "delete_cmd_prefix": "rm(",
     "library": "var_list.r",
     "varRefreshCmd": "cat(var_dic_list()) "
    }
   },
   "position": {
    "height": "154.85px",
    "left": "990.2px",
    "right": "20px",
    "top": "120px",
    "width": "509px"
   },
   "types_to_exclude": [
    "module",
    "function",
    "builtin_function_or_method",
    "instance",
    "_Feature"
   ],
   "window_display": false
  }
 },
 "nbformat": 4,
 "nbformat_minor": 4
}
