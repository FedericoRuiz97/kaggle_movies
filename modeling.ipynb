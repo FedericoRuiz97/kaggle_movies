{
 "cells": [
  {
   "cell_type": "markdown",
   "metadata": {},
   "source": [
    "<img src=\"https://i1.wp.com/sublibanderas.com/wp-content/uploads/2021/04/kueski-pay-PNG.png?fit=455%2C130&ssl=1\" align=\"center\" width=\"400\"/>"
   ]
  },
  {
   "cell_type": "markdown",
   "metadata": {},
   "source": [
    "<div class=\"alert alert-block alert-warning\">\n",
    "    \n",
    "## In this notebook we solve a Kaggle challenge for Kueski, focusing on feature engineering\n",
    "    \n",
    "</div>"
   ]
  },
  {
   "cell_type": "markdown",
   "metadata": {},
   "source": [
    "<hr style=\"border:2px solid gray\"> </hr>"
   ]
  },
  {
   "cell_type": "markdown",
   "metadata": {},
   "source": [
    "# Import libraries"
   ]
  },
  {
   "cell_type": "code",
   "execution_count": 1,
   "metadata": {},
   "outputs": [],
   "source": [
    "# Import libraries\n",
    "import pandas as pd\n",
    "import os\n",
    "import datetime\n",
    "import re\n",
    "import time\n",
    "import joblib\n",
    "import sklearn\n",
    "from sklearn.model_selection import GroupKFold\n",
    "\n",
    "# Liberías para el tratamiento de los datos\n",
    "import feature_engine\n",
    "from feature_engine.imputation import AddMissingIndicator, CategoricalImputer, MeanMedianImputer, ArbitraryNumberImputer\n",
    "from feature_engine.encoding import RareLabelEncoder\n",
    "from feature_engine.outliers import Winsorizer\n",
    "from feature_engine.selection import DropConstantFeatures, DropCorrelatedFeatures, SmartCorrelatedSelection\n",
    "import category_encoders as ce\n",
    "from sklearn.base import BaseEstimator, TransformerMixin\n",
    "from sklearn import linear_model\n",
    "from sklearn.linear_model import LinearRegression\n",
    "from sklearn.utils.validation import check_is_fitted\n",
    "from utils import FeatureSelector, find_numerical_vars, BaseImputer, LinearModelImputer\n",
    "\n",
    "# Librerías para modelado\n",
    "import lightgbm as lgb\n",
    "from sklearn.model_selection import train_test_split, StratifiedKFold, GridSearchCV\n",
    "from imblearn.pipeline import Pipeline\n",
    "from copy import deepcopy\n",
    "from sklearn.ensemble import GradientBoostingRegressor, RandomForestRegressor\n",
    "from sklearn.metrics import roc_auc_score, mean_squared_error, mean_absolute_error\n",
    "from math import sqrt\n",
    "import skopt\n",
    "from skopt.space import Real, Integer, Categorical\n",
    "from skopt.utils import use_named_args\n",
    "from skopt import gp_minimize, forest_minimize, dump\n",
    "# import joblib\n",
    "from tqdm.notebook import tqdm\n",
    "\n",
    "# Liberías para análisis del modelo\n",
    "import seaborn as sns\n",
    "import matplotlib.pyplot as plt\n",
    "from sklearn.metrics import precision_recall_curve, confusion_matrix, ConfusionMatrixDisplay\n",
    "import shap\n"
   ]
  },
  {
   "cell_type": "code",
   "execution_count": 78,
   "metadata": {},
   "outputs": [],
   "source": [
    "import matplotlib"
   ]
  },
  {
   "cell_type": "code",
   "execution_count": 79,
   "metadata": {},
   "outputs": [
    {
     "name": "stdout",
     "output_type": "stream",
     "text": [
      "3.1.3\n"
     ]
    }
   ],
   "source": [
    "print(matplotlib.__version__)"
   ]
  },
  {
   "cell_type": "code",
   "execution_count": 2,
   "metadata": {},
   "outputs": [],
   "source": [
    "# We take the time of start of the execution\n",
    "start_time = time.time()"
   ]
  },
  {
   "cell_type": "code",
   "execution_count": 3,
   "metadata": {},
   "outputs": [
    {
     "data": {
      "text/html": [
       "<style>.container { width:100% !important; }</style>"
      ],
      "text/plain": [
       "<IPython.core.display.HTML object>"
      ]
     },
     "metadata": {},
     "output_type": "display_data"
    }
   ],
   "source": [
    "#Seteamos para que no utilice notacion cientifica\n",
    "pd.options.display.float_format = '{:.9f}'.format\n",
    "#Seteo para que el máximo de columnas que muestra al levantar una base sean 500\n",
    "pd.set_option('display.max_columns',500)\n",
    "#Estos códigos hacen que la visualización de la consola abarque toda la pantalla (sin los recortes a los costados). Tambien hacen que al mostrar dataframes podamos ver todas las columnas que tiene.\n",
    "from IPython.core.display import display, HTML\n",
    "display(HTML(\"<style>.container { width:100% !important; }</style>\"))\n",
    "\n",
    "\n",
    "# Codigo para poder imprimir multiples outputs en una misma línea\n",
    "from IPython.core.interactiveshell import InteractiveShell\n",
    "InteractiveShell.ast_node_interactivity = \"all\""
   ]
  },
  {
   "cell_type": "markdown",
   "metadata": {},
   "source": [
    "# Load input datasets"
   ]
  },
  {
   "cell_type": "markdown",
   "metadata": {},
   "source": [
    "## 1. Main table"
   ]
  },
  {
   "cell_type": "code",
   "execution_count": 4,
   "metadata": {},
   "outputs": [
    {
     "data": {
      "text/html": [
       "<div>\n",
       "<style scoped>\n",
       "    .dataframe tbody tr th:only-of-type {\n",
       "        vertical-align: middle;\n",
       "    }\n",
       "\n",
       "    .dataframe tbody tr th {\n",
       "        vertical-align: top;\n",
       "    }\n",
       "\n",
       "    .dataframe thead th {\n",
       "        text-align: right;\n",
       "    }\n",
       "</style>\n",
       "<table border=\"1\" class=\"dataframe\">\n",
       "  <thead>\n",
       "    <tr style=\"text-align: right;\">\n",
       "      <th></th>\n",
       "      <th>userId</th>\n",
       "      <th>movieId</th>\n",
       "      <th>rating</th>\n",
       "      <th>timestamp</th>\n",
       "      <th>date</th>\n",
       "      <th>target</th>\n",
       "      <th>title</th>\n",
       "      <th>movie_year</th>\n",
       "      <th>genre_film-noir</th>\n",
       "      <th>genre_documentary</th>\n",
       "      <th>genre_war</th>\n",
       "      <th>genre_horror</th>\n",
       "      <th>genre_thriller</th>\n",
       "      <th>genre_crime</th>\n",
       "      <th>genre_animation</th>\n",
       "      <th>genre_(no genres listed)</th>\n",
       "      <th>genre_comedy</th>\n",
       "      <th>genre_musical</th>\n",
       "      <th>genre_romance</th>\n",
       "      <th>genre_sci-fi</th>\n",
       "      <th>genre_adventure</th>\n",
       "      <th>genre_action</th>\n",
       "      <th>genre_fantasy</th>\n",
       "      <th>genre_mystery</th>\n",
       "      <th>genre_imax</th>\n",
       "      <th>genre_western</th>\n",
       "      <th>genre_drama</th>\n",
       "      <th>genre_children</th>\n",
       "      <th>top_1_tagId</th>\n",
       "      <th>top_2_tagId</th>\n",
       "      <th>top_3_tagId</th>\n",
       "      <th>top_4_tagId</th>\n",
       "      <th>top_5_tagId</th>\n",
       "      <th>tag_original</th>\n",
       "      <th>tag_mentor</th>\n",
       "      <th>tag_great ending</th>\n",
       "      <th>tag_dialogue</th>\n",
       "      <th>tag_good soundtrack</th>\n",
       "      <th>tag_comedy</th>\n",
       "      <th>tag_action</th>\n",
       "      <th>tag_tense</th>\n",
       "      <th>tag_relationships</th>\n",
       "      <th>tag_horror</th>\n",
       "      <th>imdb_avg_rating</th>\n",
       "      <th>imdb_qnt_votes</th>\n",
       "      <th>movie_recency</th>\n",
       "      <th>timestamp_year</th>\n",
       "    </tr>\n",
       "  </thead>\n",
       "  <tbody>\n",
       "    <tr>\n",
       "      <th>0</th>\n",
       "      <td>1</td>\n",
       "      <td>2</td>\n",
       "      <td>3.500000000</td>\n",
       "      <td>2005-04-02 23:53:47</td>\n",
       "      <td>2005-04-02</td>\n",
       "      <td>0</td>\n",
       "      <td>Jumanji (1995)</td>\n",
       "      <td>1995.000000000</td>\n",
       "      <td>0</td>\n",
       "      <td>0</td>\n",
       "      <td>0</td>\n",
       "      <td>0</td>\n",
       "      <td>0</td>\n",
       "      <td>0</td>\n",
       "      <td>0</td>\n",
       "      <td>0</td>\n",
       "      <td>0</td>\n",
       "      <td>0</td>\n",
       "      <td>0</td>\n",
       "      <td>0</td>\n",
       "      <td>1</td>\n",
       "      <td>0</td>\n",
       "      <td>1</td>\n",
       "      <td>0</td>\n",
       "      <td>0</td>\n",
       "      <td>0</td>\n",
       "      <td>0</td>\n",
       "      <td>1</td>\n",
       "      <td>adventure</td>\n",
       "      <td>jungle</td>\n",
       "      <td>children</td>\n",
       "      <td>kids</td>\n",
       "      <td>special effects</td>\n",
       "      <td>0.719000000</td>\n",
       "      <td>0.610000000</td>\n",
       "      <td>0.429500000</td>\n",
       "      <td>0.372750000</td>\n",
       "      <td>0.246250000</td>\n",
       "      <td>0.540250000</td>\n",
       "      <td>0.646000000</td>\n",
       "      <td>0.120500000</td>\n",
       "      <td>0.101250000</td>\n",
       "      <td>0.064000000</td>\n",
       "      <td>6.000000000</td>\n",
       "      <td>240.000000000</td>\n",
       "      <td>10.000000000</td>\n",
       "      <td>2005</td>\n",
       "    </tr>\n",
       "    <tr>\n",
       "      <th>1</th>\n",
       "      <td>1</td>\n",
       "      <td>29</td>\n",
       "      <td>3.500000000</td>\n",
       "      <td>2005-04-02 23:31:16</td>\n",
       "      <td>2005-04-02</td>\n",
       "      <td>0</td>\n",
       "      <td>City of Lost Children, The (Cité des enfants p...</td>\n",
       "      <td>1995.000000000</td>\n",
       "      <td>0</td>\n",
       "      <td>0</td>\n",
       "      <td>0</td>\n",
       "      <td>0</td>\n",
       "      <td>0</td>\n",
       "      <td>0</td>\n",
       "      <td>0</td>\n",
       "      <td>0</td>\n",
       "      <td>0</td>\n",
       "      <td>0</td>\n",
       "      <td>0</td>\n",
       "      <td>1</td>\n",
       "      <td>1</td>\n",
       "      <td>0</td>\n",
       "      <td>1</td>\n",
       "      <td>1</td>\n",
       "      <td>0</td>\n",
       "      <td>0</td>\n",
       "      <td>1</td>\n",
       "      <td>0</td>\n",
       "      <td>dark fantasy</td>\n",
       "      <td>visually stunning</td>\n",
       "      <td>visual</td>\n",
       "      <td>surreal</td>\n",
       "      <td>imagination</td>\n",
       "      <td>0.884500000</td>\n",
       "      <td>0.472000000</td>\n",
       "      <td>0.732750000</td>\n",
       "      <td>0.659500000</td>\n",
       "      <td>0.738500000</td>\n",
       "      <td>0.057500000</td>\n",
       "      <td>0.091500000</td>\n",
       "      <td>0.138500000</td>\n",
       "      <td>0.154250000</td>\n",
       "      <td>0.024000000</td>\n",
       "      <td>6.000000000</td>\n",
       "      <td>3151.000000000</td>\n",
       "      <td>10.000000000</td>\n",
       "      <td>2005</td>\n",
       "    </tr>\n",
       "    <tr>\n",
       "      <th>2</th>\n",
       "      <td>1</td>\n",
       "      <td>32</td>\n",
       "      <td>3.500000000</td>\n",
       "      <td>2005-04-02 23:33:39</td>\n",
       "      <td>2005-04-02</td>\n",
       "      <td>0</td>\n",
       "      <td>Twelve Monkeys (a.k.a. 12 Monkeys) (1995)</td>\n",
       "      <td>1995.000000000</td>\n",
       "      <td>0</td>\n",
       "      <td>0</td>\n",
       "      <td>0</td>\n",
       "      <td>0</td>\n",
       "      <td>1</td>\n",
       "      <td>0</td>\n",
       "      <td>0</td>\n",
       "      <td>0</td>\n",
       "      <td>0</td>\n",
       "      <td>0</td>\n",
       "      <td>0</td>\n",
       "      <td>1</td>\n",
       "      <td>0</td>\n",
       "      <td>0</td>\n",
       "      <td>0</td>\n",
       "      <td>1</td>\n",
       "      <td>0</td>\n",
       "      <td>0</td>\n",
       "      <td>0</td>\n",
       "      <td>0</td>\n",
       "      <td>future</td>\n",
       "      <td>time loop</td>\n",
       "      <td>time travel</td>\n",
       "      <td>science fiction</td>\n",
       "      <td>sci fi</td>\n",
       "      <td>0.953750000</td>\n",
       "      <td>0.607250000</td>\n",
       "      <td>0.952000000</td>\n",
       "      <td>0.590500000</td>\n",
       "      <td>0.651750000</td>\n",
       "      <td>0.070000000</td>\n",
       "      <td>0.162000000</td>\n",
       "      <td>0.276250000</td>\n",
       "      <td>0.116000000</td>\n",
       "      <td>0.025250000</td>\n",
       "      <td>5.100000000</td>\n",
       "      <td>391.000000000</td>\n",
       "      <td>10.000000000</td>\n",
       "      <td>2005</td>\n",
       "    </tr>\n",
       "    <tr>\n",
       "      <th>3</th>\n",
       "      <td>1</td>\n",
       "      <td>47</td>\n",
       "      <td>3.500000000</td>\n",
       "      <td>2005-04-02 23:32:07</td>\n",
       "      <td>2005-04-02</td>\n",
       "      <td>0</td>\n",
       "      <td>Seven (a.k.a. Se7en) (1995)</td>\n",
       "      <td>1995.000000000</td>\n",
       "      <td>0</td>\n",
       "      <td>0</td>\n",
       "      <td>0</td>\n",
       "      <td>0</td>\n",
       "      <td>1</td>\n",
       "      <td>0</td>\n",
       "      <td>0</td>\n",
       "      <td>0</td>\n",
       "      <td>0</td>\n",
       "      <td>0</td>\n",
       "      <td>0</td>\n",
       "      <td>0</td>\n",
       "      <td>0</td>\n",
       "      <td>0</td>\n",
       "      <td>0</td>\n",
       "      <td>1</td>\n",
       "      <td>0</td>\n",
       "      <td>0</td>\n",
       "      <td>0</td>\n",
       "      <td>0</td>\n",
       "      <td>serial killer</td>\n",
       "      <td>detective</td>\n",
       "      <td>police investigation</td>\n",
       "      <td>powerful ending</td>\n",
       "      <td>dark</td>\n",
       "      <td>0.873500000</td>\n",
       "      <td>0.700250000</td>\n",
       "      <td>0.968750000</td>\n",
       "      <td>0.691750000</td>\n",
       "      <td>0.744250000</td>\n",
       "      <td>0.087250000</td>\n",
       "      <td>0.361250000</td>\n",
       "      <td>0.893000000</td>\n",
       "      <td>0.173250000</td>\n",
       "      <td>0.379500000</td>\n",
       "      <td>3.700000000</td>\n",
       "      <td>33.000000000</td>\n",
       "      <td>10.000000000</td>\n",
       "      <td>2005</td>\n",
       "    </tr>\n",
       "    <tr>\n",
       "      <th>4</th>\n",
       "      <td>1</td>\n",
       "      <td>50</td>\n",
       "      <td>3.500000000</td>\n",
       "      <td>2005-04-02 23:29:40</td>\n",
       "      <td>2005-04-02</td>\n",
       "      <td>0</td>\n",
       "      <td>Usual Suspects, The (1995)</td>\n",
       "      <td>1995.000000000</td>\n",
       "      <td>0</td>\n",
       "      <td>0</td>\n",
       "      <td>0</td>\n",
       "      <td>0</td>\n",
       "      <td>1</td>\n",
       "      <td>1</td>\n",
       "      <td>0</td>\n",
       "      <td>0</td>\n",
       "      <td>0</td>\n",
       "      <td>0</td>\n",
       "      <td>0</td>\n",
       "      <td>0</td>\n",
       "      <td>0</td>\n",
       "      <td>0</td>\n",
       "      <td>0</td>\n",
       "      <td>1</td>\n",
       "      <td>0</td>\n",
       "      <td>0</td>\n",
       "      <td>0</td>\n",
       "      <td>0</td>\n",
       "      <td>oscar (best supporting actor)</td>\n",
       "      <td>surprise ending</td>\n",
       "      <td>plot twist</td>\n",
       "      <td>twists &amp; turns</td>\n",
       "      <td>twist ending</td>\n",
       "      <td>0.900250000</td>\n",
       "      <td>0.733000000</td>\n",
       "      <td>0.988500000</td>\n",
       "      <td>0.827250000</td>\n",
       "      <td>0.838750000</td>\n",
       "      <td>0.457500000</td>\n",
       "      <td>0.725250000</td>\n",
       "      <td>0.775500000</td>\n",
       "      <td>0.198750000</td>\n",
       "      <td>0.028750000</td>\n",
       "      <td>4.200000000</td>\n",
       "      <td>33.000000000</td>\n",
       "      <td>10.000000000</td>\n",
       "      <td>2005</td>\n",
       "    </tr>\n",
       "  </tbody>\n",
       "</table>\n",
       "</div>"
      ],
      "text/plain": [
       "   userId  movieId      rating            timestamp        date  target  \\\n",
       "0       1        2 3.500000000  2005-04-02 23:53:47  2005-04-02       0   \n",
       "1       1       29 3.500000000  2005-04-02 23:31:16  2005-04-02       0   \n",
       "2       1       32 3.500000000  2005-04-02 23:33:39  2005-04-02       0   \n",
       "3       1       47 3.500000000  2005-04-02 23:32:07  2005-04-02       0   \n",
       "4       1       50 3.500000000  2005-04-02 23:29:40  2005-04-02       0   \n",
       "\n",
       "                                               title     movie_year  \\\n",
       "0                                     Jumanji (1995) 1995.000000000   \n",
       "1  City of Lost Children, The (Cité des enfants p... 1995.000000000   \n",
       "2          Twelve Monkeys (a.k.a. 12 Monkeys) (1995) 1995.000000000   \n",
       "3                        Seven (a.k.a. Se7en) (1995) 1995.000000000   \n",
       "4                         Usual Suspects, The (1995) 1995.000000000   \n",
       "\n",
       "   genre_film-noir  genre_documentary  genre_war  genre_horror  \\\n",
       "0                0                  0          0             0   \n",
       "1                0                  0          0             0   \n",
       "2                0                  0          0             0   \n",
       "3                0                  0          0             0   \n",
       "4                0                  0          0             0   \n",
       "\n",
       "   genre_thriller  genre_crime  genre_animation  genre_(no genres listed)  \\\n",
       "0               0            0                0                         0   \n",
       "1               0            0                0                         0   \n",
       "2               1            0                0                         0   \n",
       "3               1            0                0                         0   \n",
       "4               1            1                0                         0   \n",
       "\n",
       "   genre_comedy  genre_musical  genre_romance  genre_sci-fi  genre_adventure  \\\n",
       "0             0              0              0             0                1   \n",
       "1             0              0              0             1                1   \n",
       "2             0              0              0             1                0   \n",
       "3             0              0              0             0                0   \n",
       "4             0              0              0             0                0   \n",
       "\n",
       "   genre_action  genre_fantasy  genre_mystery  genre_imax  genre_western  \\\n",
       "0             0              1              0           0              0   \n",
       "1             0              1              1           0              0   \n",
       "2             0              0              1           0              0   \n",
       "3             0              0              1           0              0   \n",
       "4             0              0              1           0              0   \n",
       "\n",
       "   genre_drama  genre_children                    top_1_tagId  \\\n",
       "0            0               1                      adventure   \n",
       "1            1               0                   dark fantasy   \n",
       "2            0               0                         future   \n",
       "3            0               0                  serial killer   \n",
       "4            0               0  oscar (best supporting actor)   \n",
       "\n",
       "         top_2_tagId           top_3_tagId      top_4_tagId      top_5_tagId  \\\n",
       "0             jungle              children             kids  special effects   \n",
       "1  visually stunning                visual          surreal      imagination   \n",
       "2          time loop           time travel  science fiction           sci fi   \n",
       "3          detective  police investigation  powerful ending             dark   \n",
       "4    surprise ending            plot twist   twists & turns     twist ending   \n",
       "\n",
       "   tag_original  tag_mentor  tag_great ending  tag_dialogue  \\\n",
       "0   0.719000000 0.610000000       0.429500000   0.372750000   \n",
       "1   0.884500000 0.472000000       0.732750000   0.659500000   \n",
       "2   0.953750000 0.607250000       0.952000000   0.590500000   \n",
       "3   0.873500000 0.700250000       0.968750000   0.691750000   \n",
       "4   0.900250000 0.733000000       0.988500000   0.827250000   \n",
       "\n",
       "   tag_good soundtrack  tag_comedy  tag_action   tag_tense  tag_relationships  \\\n",
       "0          0.246250000 0.540250000 0.646000000 0.120500000        0.101250000   \n",
       "1          0.738500000 0.057500000 0.091500000 0.138500000        0.154250000   \n",
       "2          0.651750000 0.070000000 0.162000000 0.276250000        0.116000000   \n",
       "3          0.744250000 0.087250000 0.361250000 0.893000000        0.173250000   \n",
       "4          0.838750000 0.457500000 0.725250000 0.775500000        0.198750000   \n",
       "\n",
       "   tag_horror  imdb_avg_rating  imdb_qnt_votes  movie_recency  timestamp_year  \n",
       "0 0.064000000      6.000000000   240.000000000   10.000000000            2005  \n",
       "1 0.024000000      6.000000000  3151.000000000   10.000000000            2005  \n",
       "2 0.025250000      5.100000000   391.000000000   10.000000000            2005  \n",
       "3 0.379500000      3.700000000    33.000000000   10.000000000            2005  \n",
       "4 0.028750000      4.200000000    33.000000000   10.000000000            2005  "
      ]
     },
     "execution_count": 4,
     "metadata": {},
     "output_type": "execute_result"
    }
   ],
   "source": [
    "# Load rating data (first 100k rows) --> BECAUSE THIS IS A CHALLENGE! IT'S ONLY A DEMO OF MY WORK \n",
    "df = pd.read_csv('model_input/main_table.csv', sep=';', index_col=None, nrows=100000) \n",
    "# We add how old was the movie when the rating took place \n",
    "df['movie_recency'] = df['date'].str[:4].astype(int) - df['movie_year'].astype(float)\n",
    "df['timestamp_year']=df['date'].str[:4].astype(int)\n",
    "df.head()"
   ]
  },
  {
   "cell_type": "markdown",
   "metadata": {},
   "source": [
    "### Features based on past user behavior:\n",
    "*Big question: Is it better to watch some time behind? Or an amount of movies? We'll go for the later*\n",
    "- How many movies does the user has rated?\n",
    "- Average rate of the user --> Past 20 movies\n",
    "- Average rate of the user --> Past 5 movies\n",
    "- Amount of highs\n",
    "- Rate of highs\n",
    "- Trend of rating (past 20movies vs past 5movies)\n",
    "- Years from the first rated movie \n",
    "\n",
    "We could add: \n",
    "- Average of how old were the movies they liked (target=1)\n",
    "- Average of how old were the movies they rated\n",
    "- Every metric but for each genre (if we have enough data)\n",
    "- How many tags did the user applied to movies\n",
    "- Most used tag applied for user"
   ]
  },
  {
   "cell_type": "code",
   "execution_count": 5,
   "metadata": {},
   "outputs": [],
   "source": [
    "df['ub_mean_past_20_rates']=df.groupby('userId')['rating'].rolling(window=20, min_periods=1).mean().shift(1).reset_index()['rating'].values\n",
    "df['ub_mean_past_5_rates']=df.groupby('userId')['rating'].rolling(window=5, min_periods=1).mean().shift(1).reset_index()['rating'].values\n",
    "df['ub_qnt_highs']=df.groupby('userId')['target'].rolling(window=10000, min_periods=1).sum().shift(1).reset_index()['target'].values\n",
    "df['ub_high_pct']=df.groupby('userId')['target'].rolling(window=10000, min_periods=1).mean().shift(1).reset_index()['target'].values\n",
    "df['ub_qnt_rated']=df.groupby('userId')['rating'].rolling(window=10000, min_periods=1).count().shift(1).reset_index()['rating'].values\n",
    "df['ub_trend_rating']= (df['ub_mean_past_5_rates'] / df['ub_mean_past_20_rates'])-1\n",
    "df['ub_year_1st_rated'] = df.groupby('userId')['timestamp_year'].rolling(window=10000, min_periods=1).min().shift(1).reset_index()['timestamp_year'].values"
   ]
  },
  {
   "cell_type": "code",
   "execution_count": 6,
   "metadata": {},
   "outputs": [],
   "source": [
    "# We drop the already used columns\n",
    "df.drop(columns=['rating','title','movieId','timestamp_year'],inplace=True)"
   ]
  },
  {
   "cell_type": "code",
   "execution_count": 7,
   "metadata": {},
   "outputs": [],
   "source": [
    "df.set_index('userId',inplace=True)"
   ]
  },
  {
   "cell_type": "markdown",
   "metadata": {},
   "source": [
    "## Split Train, Test, and Out of Time sample: \n",
    "* Without containing the same users between train and test (to check how well the model generalizes)\n",
    "* For the out of time sample we'll take the last year (to check how well does the model holds it's performance)"
   ]
  },
  {
   "cell_type": "markdown",
   "metadata": {},
   "source": [
    "### First, we take out the OOT sample"
   ]
  },
  {
   "cell_type": "code",
   "execution_count": 8,
   "metadata": {},
   "outputs": [
    {
     "name": "stderr",
     "output_type": "stream",
     "text": [
      "C:\\Users\\ruizf\\AppData\\Roaming\\Python\\Python37\\site-packages\\pandas\\core\\frame.py:4312: SettingWithCopyWarning: \n",
      "A value is trying to be set on a copy of a slice from a DataFrame\n",
      "\n",
      "See the caveats in the documentation: https://pandas.pydata.org/pandas-docs/stable/user_guide/indexing.html#returning-a-view-versus-a-copy\n",
      "  errors=errors,\n"
     ]
    },
    {
     "data": {
      "text/html": [
       "<div>\n",
       "<style scoped>\n",
       "    .dataframe tbody tr th:only-of-type {\n",
       "        vertical-align: middle;\n",
       "    }\n",
       "\n",
       "    .dataframe tbody tr th {\n",
       "        vertical-align: top;\n",
       "    }\n",
       "\n",
       "    .dataframe thead th {\n",
       "        text-align: right;\n",
       "    }\n",
       "</style>\n",
       "<table border=\"1\" class=\"dataframe\">\n",
       "  <thead>\n",
       "    <tr style=\"text-align: right;\">\n",
       "      <th></th>\n",
       "      <th>target</th>\n",
       "      <th>movie_year</th>\n",
       "      <th>genre_film-noir</th>\n",
       "      <th>genre_documentary</th>\n",
       "      <th>genre_war</th>\n",
       "      <th>genre_horror</th>\n",
       "      <th>genre_thriller</th>\n",
       "      <th>genre_crime</th>\n",
       "      <th>genre_animation</th>\n",
       "      <th>genre_(no genres listed)</th>\n",
       "      <th>genre_comedy</th>\n",
       "      <th>genre_musical</th>\n",
       "      <th>genre_romance</th>\n",
       "      <th>genre_sci-fi</th>\n",
       "      <th>genre_adventure</th>\n",
       "      <th>genre_action</th>\n",
       "      <th>genre_fantasy</th>\n",
       "      <th>genre_mystery</th>\n",
       "      <th>genre_imax</th>\n",
       "      <th>genre_western</th>\n",
       "      <th>genre_drama</th>\n",
       "      <th>genre_children</th>\n",
       "      <th>top_1_tagId</th>\n",
       "      <th>top_2_tagId</th>\n",
       "      <th>top_3_tagId</th>\n",
       "      <th>top_4_tagId</th>\n",
       "      <th>top_5_tagId</th>\n",
       "      <th>tag_original</th>\n",
       "      <th>tag_mentor</th>\n",
       "      <th>tag_great ending</th>\n",
       "      <th>tag_dialogue</th>\n",
       "      <th>tag_good soundtrack</th>\n",
       "      <th>tag_comedy</th>\n",
       "      <th>tag_action</th>\n",
       "      <th>tag_tense</th>\n",
       "      <th>tag_relationships</th>\n",
       "      <th>tag_horror</th>\n",
       "      <th>imdb_avg_rating</th>\n",
       "      <th>imdb_qnt_votes</th>\n",
       "      <th>movie_recency</th>\n",
       "      <th>ub_mean_past_20_rates</th>\n",
       "      <th>ub_mean_past_5_rates</th>\n",
       "      <th>ub_qnt_highs</th>\n",
       "      <th>ub_high_pct</th>\n",
       "      <th>ub_qnt_rated</th>\n",
       "      <th>ub_trend_rating</th>\n",
       "      <th>ub_year_1st_rated</th>\n",
       "    </tr>\n",
       "    <tr>\n",
       "      <th>userId</th>\n",
       "      <th></th>\n",
       "      <th></th>\n",
       "      <th></th>\n",
       "      <th></th>\n",
       "      <th></th>\n",
       "      <th></th>\n",
       "      <th></th>\n",
       "      <th></th>\n",
       "      <th></th>\n",
       "      <th></th>\n",
       "      <th></th>\n",
       "      <th></th>\n",
       "      <th></th>\n",
       "      <th></th>\n",
       "      <th></th>\n",
       "      <th></th>\n",
       "      <th></th>\n",
       "      <th></th>\n",
       "      <th></th>\n",
       "      <th></th>\n",
       "      <th></th>\n",
       "      <th></th>\n",
       "      <th></th>\n",
       "      <th></th>\n",
       "      <th></th>\n",
       "      <th></th>\n",
       "      <th></th>\n",
       "      <th></th>\n",
       "      <th></th>\n",
       "      <th></th>\n",
       "      <th></th>\n",
       "      <th></th>\n",
       "      <th></th>\n",
       "      <th></th>\n",
       "      <th></th>\n",
       "      <th></th>\n",
       "      <th></th>\n",
       "      <th></th>\n",
       "      <th></th>\n",
       "      <th></th>\n",
       "      <th></th>\n",
       "      <th></th>\n",
       "      <th></th>\n",
       "      <th></th>\n",
       "      <th></th>\n",
       "      <th></th>\n",
       "      <th></th>\n",
       "    </tr>\n",
       "  </thead>\n",
       "  <tbody>\n",
       "    <tr>\n",
       "      <th>31</th>\n",
       "      <td>0</td>\n",
       "      <td>1995.000000000</td>\n",
       "      <td>0</td>\n",
       "      <td>0</td>\n",
       "      <td>0</td>\n",
       "      <td>0</td>\n",
       "      <td>0</td>\n",
       "      <td>0</td>\n",
       "      <td>1</td>\n",
       "      <td>0</td>\n",
       "      <td>1</td>\n",
       "      <td>0</td>\n",
       "      <td>0</td>\n",
       "      <td>0</td>\n",
       "      <td>1</td>\n",
       "      <td>0</td>\n",
       "      <td>1</td>\n",
       "      <td>0</td>\n",
       "      <td>0</td>\n",
       "      <td>0</td>\n",
       "      <td>0</td>\n",
       "      <td>1</td>\n",
       "      <td>toys</td>\n",
       "      <td>computer animation</td>\n",
       "      <td>pixar animation</td>\n",
       "      <td>kids and family</td>\n",
       "      <td>animation</td>\n",
       "      <td>0.879250000</td>\n",
       "      <td>0.649250000</td>\n",
       "      <td>0.631500000</td>\n",
       "      <td>0.637500000</td>\n",
       "      <td>0.733750000</td>\n",
       "      <td>0.618000000</td>\n",
       "      <td>0.670500000</td>\n",
       "      <td>0.333500000</td>\n",
       "      <td>0.116500000</td>\n",
       "      <td>0.047250000</td>\n",
       "      <td>5.700000000</td>\n",
       "      <td>1847.000000000</td>\n",
       "      <td>20.000000000</td>\n",
       "      <td>3.075000000</td>\n",
       "      <td>2.800000000</td>\n",
       "      <td>6.000000000</td>\n",
       "      <td>0.193548387</td>\n",
       "      <td>31.000000000</td>\n",
       "      <td>-0.089430894</td>\n",
       "      <td>2008.000000000</td>\n",
       "    </tr>\n",
       "    <tr>\n",
       "      <th>31</th>\n",
       "      <td>1</td>\n",
       "      <td>1995.000000000</td>\n",
       "      <td>0</td>\n",
       "      <td>0</td>\n",
       "      <td>1</td>\n",
       "      <td>0</td>\n",
       "      <td>0</td>\n",
       "      <td>0</td>\n",
       "      <td>0</td>\n",
       "      <td>0</td>\n",
       "      <td>0</td>\n",
       "      <td>0</td>\n",
       "      <td>0</td>\n",
       "      <td>0</td>\n",
       "      <td>0</td>\n",
       "      <td>1</td>\n",
       "      <td>0</td>\n",
       "      <td>0</td>\n",
       "      <td>0</td>\n",
       "      <td>0</td>\n",
       "      <td>1</td>\n",
       "      <td>0</td>\n",
       "      <td>historical</td>\n",
       "      <td>oscar (best picture)</td>\n",
       "      <td>history</td>\n",
       "      <td>oscar (best directing)</td>\n",
       "      <td>courage</td>\n",
       "      <td>0.810000000</td>\n",
       "      <td>0.826250000</td>\n",
       "      <td>0.820500000</td>\n",
       "      <td>0.652000000</td>\n",
       "      <td>0.633250000</td>\n",
       "      <td>0.238000000</td>\n",
       "      <td>0.911250000</td>\n",
       "      <td>0.649000000</td>\n",
       "      <td>0.111000000</td>\n",
       "      <td>0.094500000</td>\n",
       "      <td>4.400000000</td>\n",
       "      <td>505.000000000</td>\n",
       "      <td>20.000000000</td>\n",
       "      <td>3.000000000</td>\n",
       "      <td>3.000000000</td>\n",
       "      <td>0.000000000</td>\n",
       "      <td>0.000000000</td>\n",
       "      <td>1.000000000</td>\n",
       "      <td>0.000000000</td>\n",
       "      <td>2015.000000000</td>\n",
       "    </tr>\n",
       "    <tr>\n",
       "      <th>31</th>\n",
       "      <td>1</td>\n",
       "      <td>1977.000000000</td>\n",
       "      <td>0</td>\n",
       "      <td>0</td>\n",
       "      <td>0</td>\n",
       "      <td>0</td>\n",
       "      <td>0</td>\n",
       "      <td>0</td>\n",
       "      <td>0</td>\n",
       "      <td>0</td>\n",
       "      <td>0</td>\n",
       "      <td>0</td>\n",
       "      <td>0</td>\n",
       "      <td>1</td>\n",
       "      <td>1</td>\n",
       "      <td>1</td>\n",
       "      <td>0</td>\n",
       "      <td>0</td>\n",
       "      <td>0</td>\n",
       "      <td>0</td>\n",
       "      <td>0</td>\n",
       "      <td>0</td>\n",
       "      <td>space opera</td>\n",
       "      <td>scifi</td>\n",
       "      <td>sci fi</td>\n",
       "      <td>trilogy</td>\n",
       "      <td>good versus evil</td>\n",
       "      <td>0.941750000</td>\n",
       "      <td>0.892750000</td>\n",
       "      <td>0.889250000</td>\n",
       "      <td>0.866500000</td>\n",
       "      <td>0.570250000</td>\n",
       "      <td>0.389750000</td>\n",
       "      <td>0.908000000</td>\n",
       "      <td>0.468000000</td>\n",
       "      <td>0.077250000</td>\n",
       "      <td>0.088250000</td>\n",
       "      <td>NaN</td>\n",
       "      <td>NaN</td>\n",
       "      <td>38.000000000</td>\n",
       "      <td>4.000000000</td>\n",
       "      <td>4.000000000</td>\n",
       "      <td>1.000000000</td>\n",
       "      <td>0.500000000</td>\n",
       "      <td>2.000000000</td>\n",
       "      <td>0.000000000</td>\n",
       "      <td>2015.000000000</td>\n",
       "    </tr>\n",
       "  </tbody>\n",
       "</table>\n",
       "</div>"
      ],
      "text/plain": [
       "        target     movie_year  genre_film-noir  genre_documentary  genre_war  \\\n",
       "userId                                                                         \n",
       "31           0 1995.000000000                0                  0          0   \n",
       "31           1 1995.000000000                0                  0          1   \n",
       "31           1 1977.000000000                0                  0          0   \n",
       "\n",
       "        genre_horror  genre_thriller  genre_crime  genre_animation  \\\n",
       "userId                                                               \n",
       "31                 0               0            0                1   \n",
       "31                 0               0            0                0   \n",
       "31                 0               0            0                0   \n",
       "\n",
       "        genre_(no genres listed)  genre_comedy  genre_musical  genre_romance  \\\n",
       "userId                                                                         \n",
       "31                             0             1              0              0   \n",
       "31                             0             0              0              0   \n",
       "31                             0             0              0              0   \n",
       "\n",
       "        genre_sci-fi  genre_adventure  genre_action  genre_fantasy  \\\n",
       "userId                                                               \n",
       "31                 0                1             0              1   \n",
       "31                 0                0             1              0   \n",
       "31                 1                1             1              0   \n",
       "\n",
       "        genre_mystery  genre_imax  genre_western  genre_drama  genre_children  \\\n",
       "userId                                                                          \n",
       "31                  0           0              0            0               1   \n",
       "31                  0           0              0            1               0   \n",
       "31                  0           0              0            0               0   \n",
       "\n",
       "        top_1_tagId           top_2_tagId      top_3_tagId  \\\n",
       "userId                                                       \n",
       "31             toys    computer animation  pixar animation   \n",
       "31       historical  oscar (best picture)          history   \n",
       "31      space opera                 scifi           sci fi   \n",
       "\n",
       "                   top_4_tagId       top_5_tagId  tag_original  tag_mentor  \\\n",
       "userId                                                                       \n",
       "31             kids and family         animation   0.879250000 0.649250000   \n",
       "31      oscar (best directing)           courage   0.810000000 0.826250000   \n",
       "31                     trilogy  good versus evil   0.941750000 0.892750000   \n",
       "\n",
       "        tag_great ending  tag_dialogue  tag_good soundtrack  tag_comedy  \\\n",
       "userId                                                                    \n",
       "31           0.631500000   0.637500000          0.733750000 0.618000000   \n",
       "31           0.820500000   0.652000000          0.633250000 0.238000000   \n",
       "31           0.889250000   0.866500000          0.570250000 0.389750000   \n",
       "\n",
       "        tag_action   tag_tense  tag_relationships  tag_horror  \\\n",
       "userId                                                          \n",
       "31     0.670500000 0.333500000        0.116500000 0.047250000   \n",
       "31     0.911250000 0.649000000        0.111000000 0.094500000   \n",
       "31     0.908000000 0.468000000        0.077250000 0.088250000   \n",
       "\n",
       "        imdb_avg_rating  imdb_qnt_votes  movie_recency  ub_mean_past_20_rates  \\\n",
       "userId                                                                          \n",
       "31          5.700000000  1847.000000000   20.000000000            3.075000000   \n",
       "31          4.400000000   505.000000000   20.000000000            3.000000000   \n",
       "31                  NaN             NaN   38.000000000            4.000000000   \n",
       "\n",
       "        ub_mean_past_5_rates  ub_qnt_highs  ub_high_pct  ub_qnt_rated  \\\n",
       "userId                                                                  \n",
       "31               2.800000000   6.000000000  0.193548387  31.000000000   \n",
       "31               3.000000000   0.000000000  0.000000000   1.000000000   \n",
       "31               4.000000000   1.000000000  0.500000000   2.000000000   \n",
       "\n",
       "        ub_trend_rating  ub_year_1st_rated  \n",
       "userId                                      \n",
       "31         -0.089430894     2008.000000000  \n",
       "31          0.000000000     2015.000000000  \n",
       "31          0.000000000     2015.000000000  "
      ]
     },
     "execution_count": 8,
     "metadata": {},
     "output_type": "execute_result"
    }
   ],
   "source": [
    "max_year = df['date'].str[:4].max()\n",
    "df_oot = df[df['date'].str[:4]==max_year]\n",
    "df_noot = df[df['date'].str[:4]!=max_year]\n",
    "\n",
    "# we drop date cols \n",
    "df_oot.drop(columns=['date','timestamp'],inplace=True)\n",
    "df_noot.drop(columns=['date','timestamp'],inplace=True)\n",
    "\n",
    "df_oot.head(3)"
   ]
  },
  {
   "cell_type": "markdown",
   "metadata": {},
   "source": [
    "### Then we split the rest (df not oot):\n",
    "* Train sample --> 50% of the remaining data \n",
    "* Dev sample --> 25% of the remaining data (used to validate each iteration)\n",
    "* Val sample --> 25% of the remaining data (used only to validate the final model)"
   ]
  },
  {
   "cell_type": "code",
   "execution_count": 9,
   "metadata": {},
   "outputs": [],
   "source": [
    "# We define an useful function to split the dataset without overlapping users\n",
    "def split_nonoverlapping_idx(data, target_col='target'):\n",
    "    # Definimos X e Y\n",
    "    X = data.drop(columns=target_col)\n",
    "    y = data[[target_col]]\n",
    "    # Y la variable por la cual armaremos los grupos\n",
    "    groups = data.index.values\n",
    "    n_splits=2\n",
    "    group_kfold = GroupKFold(n_splits=n_splits)\n",
    "    group_kfold.get_n_splits(X, y, groups)\n",
    "    \n",
    "    # tomaremos la ultima combinacion\n",
    "    list_train_idx=[]\n",
    "    list_test_idx=[]\n",
    "    iterator = 0\n",
    "    for train_index, test_index in group_kfold.split(X, y, groups):\n",
    "        iterator+=1\n",
    "        if iterator==n_splits:\n",
    "            list_train_idx.append(train_index)\n",
    "            list_test_idx.append(test_index)\n",
    "\n",
    "    # En base a los indexes separados, armamos los dataframes de train y test\n",
    "    X_train_aux, X_test_aux = X.iloc[list_train_idx[0]], X.iloc[list_test_idx[0]]\n",
    "    y_train_aux, y_test_aux = y.iloc[list_train_idx[0]], y.iloc[list_test_idx[0]]\n",
    "    # devolvemos los resultados\n",
    "\n",
    "    return X_train_aux, y_train_aux, X_test_aux, y_test_aux"
   ]
  },
  {
   "cell_type": "code",
   "execution_count": 10,
   "metadata": {},
   "outputs": [],
   "source": [
    "# First we split the data to get the TRAIN sample\n",
    "X_train, y_train, X_test_v1, y_test_v1 = split_nonoverlapping_idx(df_noot)\n",
    "# Use the \"Test\" part to build a df and divide it again\n",
    "df_test = X_test_v1\n",
    "df_test['target'] = y_test_v1.values\n",
    "# Split TEST into DEV and VAL \n",
    "X_dev, y_dev, X_val, y_val = split_nonoverlapping_idx(df_test)"
   ]
  },
  {
   "cell_type": "markdown",
   "metadata": {},
   "source": [
    "# Feature engineering and Preprocessing"
   ]
  },
  {
   "cell_type": "markdown",
   "metadata": {},
   "source": [
    "- If the user has plenty past behaviour information --> OK\n",
    "- If the user has none past behaviour information --> we compute NaN value\n",
    "- If the user has some past behaviour --> ???? --> **Credibility metric**"
   ]
  },
  {
   "cell_type": "markdown",
   "metadata": {},
   "source": [
    "### The main difference for the following features:\n",
    "- We'll use OTHER USERS behaviour to build features for one user"
   ]
  },
  {
   "cell_type": "markdown",
   "metadata": {},
   "source": [
    "### Preprocessing (Pipeline)"
   ]
  },
  {
   "cell_type": "markdown",
   "metadata": {},
   "source": [
    "## Pipeline preprocesamiento\n",
    "\n",
    "### Categorical Treatment:\n",
    "* Variables Categóricas:\n",
    "    1. Método para imputar missings categóricos (utilizado: se reemplazarán missings con la palabra \"missing\")\n",
    "    2. Método para quitar niveles muy poco frecuentes (utilizado: si aparece en menos del 2% de registros se imputa como \"Rare\")\n",
    "    3. Método para convertir en numérica las variables categóricas (utilizado: genera dummies/flags para cada valor de cada variable)\n",
    "\n",
    "### Numerical Treatment\n",
    "* Variables Numéricas:\n",
    "    1. Método para imputación de missings en variables numéricas (utilizado: imputaremos con el valor medio de la variable, y a la vez colocaremos un flag de missing)\n",
    "    2. Método para Capping/Flooring en variables numéricas\n",
    "\n",
    "### General Treatment\n",
    "* Aplicable tanto a variables numéricas como categóricas:\n",
    "    1. Método para quitar variables (utilizado: quita variables que tengan el mismo valor en el 99.5% de los registros)\n",
    "    2. Método de resampling, si fuera necesario (según datos y el target a predecir luego)"
   ]
  },
  {
   "cell_type": "code",
   "execution_count": 11,
   "metadata": {},
   "outputs": [],
   "source": [
    "# Tomamos una lista con los atributos del dataframe X. Será útil para el pipel\n",
    "featnames=list(X_train.columns)\n",
    "\n",
    "# Creamos pipeline de preprocesamiento\n",
    "pipe = Pipeline([\n",
    "    # Selecciona todas las columnas disponibles en el dataframe de train\n",
    "    ('selector', FeatureSelector(columns=featnames))\n",
    "    \n",
    "    # Categorical Treatment\n",
    "    ,('categ_imputer', CategoricalImputer(imputation_method='missing') ) # Coloca texto \"missing\" donde hay NaNs en variables categóricas\n",
    "    ,('categ_rare_encoder', RareLabelEncoder(tol=0.1, n_categories=1) ) # Método para quitar niveles muy poco frecuentes (niveles = valores de variables categóricas)\n",
    "    ,('categ_encoder', ce.one_hot.OneHotEncoder(use_cat_names=True)) # Método para convertir categóricas a numéricas. Genera 1 dummy por cada nivel de cada variable\n",
    "    \n",
    "        \n",
    "#     ,('pre_outlier_removal', Winsorizer(capping_method='quantiles', fold=0.01, missing_values='ignore')) # removemos outliers en los percentiles 5 y 95 (aquí ignoramos missings)\n",
    "    \n",
    "    # Numerical Treatment\n",
    "    ,('numerical_missing_indicator', AddMissingIndicator(missing_only=True) ) # Coloca flag donde hay missings en las variables numéricas\n",
    "    ,('numerical_imputer', ArbitraryNumberImputer(arbitrary_number=0) ) # Reemplaza missings por 0 (parece una muy mala opcion!! aunque no es tan mala si usamos Decision Trees, y además luego lo pondremos a prueba)\n",
    "    \n",
    "    # General Treatment\n",
    "    ,('outlier_removal', Winsorizer(capping_method='quantiles', fold=0.02, missing_values='raise')) # removemos outliers en los percentiles 5 y 95\n",
    "    ,('drop_nzv', DropConstantFeatures(tol=0.95)) # quita variables que tengan el mismo valor en el 90% de los registros\n",
    "    ,('correlated_treatment', DropCorrelatedFeatures(method='pearson', threshold=0.8)) # Quita variables que tengan una correlación mayor a 0.8 (dropea el primer correlacionado que encuentra)\n",
    "    ,('resampling', 'passthrough') # colocamos espacio para método de resampling, si fuera necesario (útil para problemas de clasificacion con clases desbalanceadas)\n",
    "    \n",
    "    # Nothing\n",
    "    ,('nada','passthrough') # Para que el resampling no quede último ingresamos un step inútil\n",
    "])"
   ]
  },
  {
   "cell_type": "code",
   "execution_count": 12,
   "metadata": {},
   "outputs": [],
   "source": [
    "# Guardamos una copia del pipeline de procesamiento antes de fittearlo\n",
    "pipe_clean = deepcopy(pipe)"
   ]
  },
  {
   "cell_type": "markdown",
   "metadata": {},
   "source": [
    "### Fit Pipeline"
   ]
  },
  {
   "cell_type": "code",
   "execution_count": 13,
   "metadata": {},
   "outputs": [
    {
     "name": "stderr",
     "output_type": "stream",
     "text": [
      "C:\\Users\\ruizf\\AppData\\Roaming\\Python\\Python37\\site-packages\\category_encoders\\utils.py:21: FutureWarning: is_categorical is deprecated and will be removed in a future version.  Use is_categorical_dtype instead\n",
      "  elif pd.api.types.is_categorical(cols):\n"
     ]
    },
    {
     "name": "stdout",
     "output_type": "stream",
     "text": [
      "Wall time: 1.16 s\n"
     ]
    }
   ],
   "source": [
    "%%time \n",
    "# Fitteamos el pipeline a los datos X e Y que tenemos en train (es decir, la clase ya sabrá que pasos seguir para imputar los missings, pero aún no lo ejecutará)\n",
    "pipe_fitted = pipe.fit(X_train, y_train)"
   ]
  },
  {
   "cell_type": "markdown",
   "metadata": {},
   "source": [
    "### Transform train data"
   ]
  },
  {
   "cell_type": "code",
   "execution_count": 14,
   "metadata": {},
   "outputs": [
    {
     "data": {
      "text/plain": [
       "(49209, 46)"
      ]
     },
     "execution_count": 14,
     "metadata": {},
     "output_type": "execute_result"
    },
    {
     "data": {
      "text/plain": [
       "(49209, 30)"
      ]
     },
     "execution_count": 14,
     "metadata": {},
     "output_type": "execute_result"
    },
    {
     "data": {
      "text/plain": [
       "(24624, 46)"
      ]
     },
     "execution_count": 14,
     "metadata": {},
     "output_type": "execute_result"
    },
    {
     "data": {
      "text/plain": [
       "(24624, 30)"
      ]
     },
     "execution_count": 14,
     "metadata": {},
     "output_type": "execute_result"
    }
   ],
   "source": [
    "# Aquí sí se ejecutan esos pasos, y se transforma (se preprocesa) el dataframe de entrada (nótese: para transformar los datos solo requiere X, porque ya \"aprendió\" la relación entre las X y las Y de train)\n",
    "X_train_prep = pipe_fitted.transform(X_train)\n",
    "\n",
    "# # Y aplicamos el resampleo si lo hubiera (de nuevo, en este caso no utilizaremos, tiene más sentido para clasificación con clases desbalanceadas)\n",
    "# if pipe_fitted['resampling']=='passthrough':\n",
    "#     # este sería el caso donde no se utiliza resampling\n",
    "#     X_train_prepnres, y_train_prepnres = X_train_prep.copy(), y_train.copy()\n",
    "# else:\n",
    "#     # se aplica resapmling\n",
    "#     X_train_prepnres , y_train_prepnres = pipe_fitted['resampling'].fit_resample(X_train_prep, y_train)\n",
    "\n",
    "# Lo mismo para los datos de validación\n",
    "X_dev_prep = pipe_fitted.transform(X_dev)\n",
    "\n",
    "# Vemos si las dimensiones del dataframe cambiaron (deberían haber cambiado)\n",
    "X_train.shape\n",
    "X_train_prep.shape\n",
    "\n",
    "X_dev.shape\n",
    "X_dev_prep.shape"
   ]
  },
  {
   "cell_type": "markdown",
   "metadata": {},
   "source": [
    "### Model"
   ]
  },
  {
   "cell_type": "code",
   "execution_count": 16,
   "metadata": {},
   "outputs": [],
   "source": [
    "# define the model\n",
    "model = lgb.LGBMClassifier()"
   ]
  },
  {
   "cell_type": "code",
   "execution_count": 17,
   "metadata": {},
   "outputs": [
    {
     "name": "stderr",
     "output_type": "stream",
     "text": [
      "C:\\Users\\ruizf\\anaconda3\\lib\\site-packages\\sklearn\\utils\\validation.py:63: DataConversionWarning: A column-vector y was passed when a 1d array was expected. Please change the shape of y to (n_samples, ), for example using ravel().\n",
      "  return f(*args, **kwargs)\n"
     ]
    },
    {
     "data": {
      "text/plain": [
       "LGBMClassifier()"
      ]
     },
     "execution_count": 17,
     "metadata": {},
     "output_type": "execute_result"
    }
   ],
   "source": [
    "# Lo fitteamos a la data de train\n",
    "model.fit(X_train_prep, y_train)"
   ]
  },
  {
   "cell_type": "code",
   "execution_count": 18,
   "metadata": {},
   "outputs": [],
   "source": [
    "# Definimos aquellos parámetros que queremos colocar, pero que queremos NO mover luego\n",
    "FIXED_PARAMS = {         \n",
    "                'random_state': 0,  \n",
    "                'n_estimators':200,\n",
    "                'objective':'binary',\n",
    "                'boosting_type':'gbdt'\n",
    "                     }"
   ]
  },
  {
   "cell_type": "code",
   "execution_count": 19,
   "metadata": {},
   "outputs": [],
   "source": [
    "from skopt.space import Real, Integer, Categorical\n",
    "cant_columnas = X_train_prep.shape[1]\n",
    "space= [          \n",
    "             Integer(2, 50, name='max_depth') # maxima profundidad de cada árbol (aquí sí es mejor que sean profundos, porque no se concatenan, son independientes)\n",
    "            ,Real(0.3, 0.85, name='subsample') # porcentaje de filas que puede usar cada árbol\n",
    "            ,Integer(round(cant_columnas*0.3), round(cant_columnas*1), name='max_features') # máxima cantidad de atributos (columnas) que puede usar cada árbol\n",
    "            ,Real(0.001, 1, name='learning_rate') # tasa de aorebduzahe arbol a arbol\n",
    "    \n",
    "            ,Integer(round(len(X_train)*0.01), round(len(X_train)*0.1), name='min_child_samples') # mínima cantidad de registros para abrir una hoja\n",
    "    \n",
    "            ,Real(100, 1000,'log-uniform', name='reg_alpha') # L1 regularization\n",
    "            ,Real(100, 1000,'log-uniform', name='reg_lambda') # L2 regularization\n",
    "            \n",
    "            ]\n",
    "# listamos los nombres de los parámetros cuyo espacio de búsqueda acabamos de definir\n",
    "param_names = ['max_depth','subsample','max_features','learning_rate','min_child_samples','reg_alpha','reg_lambda']"
   ]
  },
  {
   "cell_type": "code",
   "execution_count": 20,
   "metadata": {},
   "outputs": [],
   "source": [
    "# Define a function to optimize metrics\n",
    "def eval_metrics(y_true, y_pred):\n",
    "    # KS\n",
    "#     ks = ks_score(y_true, y_pred)\n",
    "    # AUC\n",
    "    auc = roc_auc_score(y_true, y_pred)\n",
    "#     return[('ks',ks,True),('auc',auc,True)]\n",
    "    return[('auc',auc,True)]"
   ]
  },
  {
   "cell_type": "code",
   "execution_count": 21,
   "metadata": {},
   "outputs": [],
   "source": [
    "# Metric to optimize\n",
    "LOSS_METRIC='auc'"
   ]
  },
  {
   "cell_type": "code",
   "execution_count": 22,
   "metadata": {},
   "outputs": [],
   "source": [
    "results=[]"
   ]
  },
  {
   "cell_type": "code",
   "execution_count": 23,
   "metadata": {},
   "outputs": [],
   "source": [
    "@use_named_args(space)\n",
    "def objective(**params):\n",
    "    \"\"\"HP Search objective function\"\"\"\n",
    "    #set params\n",
    "    model.set_params(**FIXED_PARAMS)\n",
    "    model.set_params(**params)\n",
    "    # train\n",
    "    model_fitted = model.fit(X_train_prep, y_train, \n",
    "                             eval_set=[(X_dev_prep, y_dev), (X_train_prep, y_train)],\n",
    "                            eval_metric=eval_metrics,\n",
    "                            early_stopping_rounds=50,\n",
    "                            verbose=100)\n",
    "    # get training results\n",
    "    results_dict = model_fitted.get_params()\n",
    "    results_dict['n_estimators'] = model_fitted.best_iteration_\n",
    "    scores_train={f'{k}_train': v for k,v in model_fitted.best_score_['training'].items()}\n",
    "    \n",
    "    scores_dev={f'{k}_dev': v for k,v in model_fitted.best_score_['valid_0'].items()}\n",
    "    \n",
    "    results_dict.update(scores_train)\n",
    "    results_dict.update(scores_dev)\n",
    "    \n",
    "    # append result to results list\n",
    "    results.append(results_dict)\n",
    "    # minus validation score\n",
    "    loss = - model_fitted.best_score_['valid_0'][LOSS_METRIC]\n",
    "    return loss"
   ]
  },
  {
   "cell_type": "code",
   "execution_count": 24,
   "metadata": {},
   "outputs": [
    {
     "data": {
      "application/vnd.jupyter.widget-view+json": {
       "model_id": "8f1b73f75afe4099b41bd30f0e3ade94",
       "version_major": 2,
       "version_minor": 0
      },
      "text/plain": [
       "Gaussian Process:   0%|          | 0/50 [00:00<?, ?it/s]"
      ]
     },
     "metadata": {},
     "output_type": "display_data"
    },
    {
     "name": "stdout",
     "output_type": "stream",
     "text": [
      "Iteration No: 1 started. Evaluating function at random point.\n"
     ]
    },
    {
     "name": "stderr",
     "output_type": "stream",
     "text": [
      "C:\\Users\\ruizf\\anaconda3\\lib\\site-packages\\sklearn\\utils\\validation.py:63: DataConversionWarning: A column-vector y was passed when a 1d array was expected. Please change the shape of y to (n_samples, ), for example using ravel().\n",
      "  return f(*args, **kwargs)\n"
     ]
    },
    {
     "name": "stdout",
     "output_type": "stream",
     "text": [
      "Training until validation scores don't improve for 50 rounds\n",
      "Early stopping, best iteration is:\n",
      "[14]\ttraining's binary_logloss: 0.586022\ttraining's auc: 0.75651\tvalid_0's binary_logloss: 0.597848\tvalid_0's auc: 0.743126\n",
      "Iteration No: 1 ended. Evaluation done at random point.\n",
      "Time taken: 3.3534\n",
      "Function value obtained: -0.7431\n",
      "Current minimum: -0.7431\n",
      "Iteration No: 2 started. Evaluating function at random point.\n"
     ]
    },
    {
     "name": "stderr",
     "output_type": "stream",
     "text": [
      "C:\\Users\\ruizf\\anaconda3\\lib\\site-packages\\sklearn\\utils\\validation.py:63: DataConversionWarning: A column-vector y was passed when a 1d array was expected. Please change the shape of y to (n_samples, ), for example using ravel().\n",
      "  return f(*args, **kwargs)\n"
     ]
    },
    {
     "name": "stdout",
     "output_type": "stream",
     "text": [
      "Training until validation scores don't improve for 50 rounds\n",
      "Early stopping, best iteration is:\n",
      "[15]\ttraining's binary_logloss: 0.584877\ttraining's auc: 0.758094\tvalid_0's binary_logloss: 0.596187\tvalid_0's auc: 0.745342\n",
      "Iteration No: 2 ended. Evaluation done at random point.\n",
      "Time taken: 3.7360\n",
      "Function value obtained: -0.7453\n",
      "Current minimum: -0.7453\n",
      "Iteration No: 3 started. Evaluating function at random point.\n"
     ]
    },
    {
     "name": "stderr",
     "output_type": "stream",
     "text": [
      "C:\\Users\\ruizf\\anaconda3\\lib\\site-packages\\sklearn\\utils\\validation.py:63: DataConversionWarning: A column-vector y was passed when a 1d array was expected. Please change the shape of y to (n_samples, ), for example using ravel().\n",
      "  return f(*args, **kwargs)\n"
     ]
    },
    {
     "name": "stdout",
     "output_type": "stream",
     "text": [
      "Training until validation scores don't improve for 50 rounds\n",
      "Early stopping, best iteration is:\n",
      "[8]\ttraining's binary_logloss: 0.601613\ttraining's auc: 0.742585\tvalid_0's binary_logloss: 0.607698\tvalid_0's auc: 0.73435\n",
      "Iteration No: 3 ended. Evaluation done at random point.\n",
      "Time taken: 2.7169\n",
      "Function value obtained: -0.7343\n",
      "Current minimum: -0.7453\n",
      "Iteration No: 4 started. Evaluating function at random point.\n"
     ]
    },
    {
     "name": "stderr",
     "output_type": "stream",
     "text": [
      "C:\\Users\\ruizf\\anaconda3\\lib\\site-packages\\sklearn\\utils\\validation.py:63: DataConversionWarning: A column-vector y was passed when a 1d array was expected. Please change the shape of y to (n_samples, ), for example using ravel().\n",
      "  return f(*args, **kwargs)\n"
     ]
    },
    {
     "name": "stdout",
     "output_type": "stream",
     "text": [
      "Training until validation scores don't improve for 50 rounds\n",
      "Early stopping, best iteration is:\n",
      "[14]\ttraining's binary_logloss: 0.58936\ttraining's auc: 0.753737\tvalid_0's binary_logloss: 0.599403\tvalid_0's auc: 0.742197\n",
      "Iteration No: 4 ended. Evaluation done at random point.\n",
      "Time taken: 4.1962\n",
      "Function value obtained: -0.7422\n",
      "Current minimum: -0.7453\n",
      "Iteration No: 5 started. Evaluating function at random point.\n"
     ]
    },
    {
     "name": "stderr",
     "output_type": "stream",
     "text": [
      "C:\\Users\\ruizf\\anaconda3\\lib\\site-packages\\sklearn\\utils\\validation.py:63: DataConversionWarning: A column-vector y was passed when a 1d array was expected. Please change the shape of y to (n_samples, ), for example using ravel().\n",
      "  return f(*args, **kwargs)\n"
     ]
    },
    {
     "name": "stdout",
     "output_type": "stream",
     "text": [
      "Training until validation scores don't improve for 50 rounds\n",
      "Early stopping, best iteration is:\n",
      "[22]\ttraining's binary_logloss: 0.577177\ttraining's auc: 0.765063\tvalid_0's binary_logloss: 0.597178\tvalid_0's auc: 0.743531\n",
      "Iteration No: 5 ended. Evaluation done at random point.\n",
      "Time taken: 4.8843\n",
      "Function value obtained: -0.7435\n",
      "Current minimum: -0.7453\n",
      "Iteration No: 6 started. Evaluating function at random point.\n"
     ]
    },
    {
     "name": "stderr",
     "output_type": "stream",
     "text": [
      "C:\\Users\\ruizf\\anaconda3\\lib\\site-packages\\sklearn\\utils\\validation.py:63: DataConversionWarning: A column-vector y was passed when a 1d array was expected. Please change the shape of y to (n_samples, ), for example using ravel().\n",
      "  return f(*args, **kwargs)\n"
     ]
    },
    {
     "name": "stdout",
     "output_type": "stream",
     "text": [
      "Training until validation scores don't improve for 50 rounds\n",
      "Early stopping, best iteration is:\n",
      "[9]\ttraining's binary_logloss: 0.591928\ttraining's auc: 0.751461\tvalid_0's binary_logloss: 0.601177\tvalid_0's auc: 0.740331\n",
      "Iteration No: 6 ended. Evaluation done at random point.\n",
      "Time taken: 4.2077\n",
      "Function value obtained: -0.7403\n",
      "Current minimum: -0.7453\n",
      "Iteration No: 7 started. Evaluating function at random point.\n"
     ]
    },
    {
     "name": "stderr",
     "output_type": "stream",
     "text": [
      "C:\\Users\\ruizf\\anaconda3\\lib\\site-packages\\sklearn\\utils\\validation.py:63: DataConversionWarning: A column-vector y was passed when a 1d array was expected. Please change the shape of y to (n_samples, ), for example using ravel().\n",
      "  return f(*args, **kwargs)\n"
     ]
    },
    {
     "name": "stdout",
     "output_type": "stream",
     "text": [
      "Training until validation scores don't improve for 50 rounds\n",
      "Early stopping, best iteration is:\n",
      "[41]\ttraining's binary_logloss: 0.593768\ttraining's auc: 0.755142\tvalid_0's binary_logloss: 0.601605\tvalid_0's auc: 0.745472\n",
      "Iteration No: 7 ended. Evaluation done at random point.\n",
      "Time taken: 6.4737\n",
      "Function value obtained: -0.7455\n",
      "Current minimum: -0.7455\n",
      "Iteration No: 8 started. Evaluating function at random point.\n"
     ]
    },
    {
     "name": "stderr",
     "output_type": "stream",
     "text": [
      "C:\\Users\\ruizf\\anaconda3\\lib\\site-packages\\sklearn\\utils\\validation.py:63: DataConversionWarning: A column-vector y was passed when a 1d array was expected. Please change the shape of y to (n_samples, ), for example using ravel().\n",
      "  return f(*args, **kwargs)\n"
     ]
    },
    {
     "name": "stdout",
     "output_type": "stream",
     "text": [
      "Training until validation scores don't improve for 50 rounds\n",
      "Early stopping, best iteration is:\n",
      "[15]\ttraining's binary_logloss: 0.591913\ttraining's auc: 0.751002\tvalid_0's binary_logloss: 0.602235\tvalid_0's auc: 0.738022\n",
      "Iteration No: 8 ended. Evaluation done at random point.\n",
      "Time taken: 4.5242\n",
      "Function value obtained: -0.7380\n",
      "Current minimum: -0.7455\n",
      "Iteration No: 9 started. Evaluating function at random point.\n"
     ]
    },
    {
     "name": "stderr",
     "output_type": "stream",
     "text": [
      "C:\\Users\\ruizf\\anaconda3\\lib\\site-packages\\sklearn\\utils\\validation.py:63: DataConversionWarning: A column-vector y was passed when a 1d array was expected. Please change the shape of y to (n_samples, ), for example using ravel().\n",
      "  return f(*args, **kwargs)\n"
     ]
    },
    {
     "name": "stdout",
     "output_type": "stream",
     "text": [
      "Training until validation scores don't improve for 50 rounds\n",
      "Early stopping, best iteration is:\n",
      "[11]\ttraining's binary_logloss: 0.591411\ttraining's auc: 0.752873\tvalid_0's binary_logloss: 0.599761\tvalid_0's auc: 0.74311\n",
      "Iteration No: 9 ended. Evaluation done at random point.\n",
      "Time taken: 4.0482\n",
      "Function value obtained: -0.7431\n",
      "Current minimum: -0.7455\n",
      "Iteration No: 10 started. Evaluating function at random point.\n"
     ]
    },
    {
     "name": "stderr",
     "output_type": "stream",
     "text": [
      "C:\\Users\\ruizf\\anaconda3\\lib\\site-packages\\sklearn\\utils\\validation.py:63: DataConversionWarning: A column-vector y was passed when a 1d array was expected. Please change the shape of y to (n_samples, ), for example using ravel().\n",
      "  return f(*args, **kwargs)\n"
     ]
    },
    {
     "name": "stdout",
     "output_type": "stream",
     "text": [
      "Training until validation scores don't improve for 50 rounds\n",
      "[100]\ttraining's binary_logloss: 0.630237\ttraining's auc: 0.738364\tvalid_0's binary_logloss: 0.632421\tvalid_0's auc: 0.736775\n",
      "[200]\ttraining's binary_logloss: 0.610943\ttraining's auc: 0.746507\tvalid_0's binary_logloss: 0.614411\tvalid_0's auc: 0.742527\n",
      "Did not meet early stopping. Best iteration is:\n",
      "[200]\ttraining's binary_logloss: 0.610943\ttraining's auc: 0.746507\tvalid_0's binary_logloss: 0.614411\tvalid_0's auc: 0.742527\n",
      "Iteration No: 10 ended. Evaluation done at random point.\n",
      "Time taken: 15.2834\n",
      "Function value obtained: -0.7425\n",
      "Current minimum: -0.7455\n",
      "Iteration No: 11 started. Searching for the next optimal point.\n"
     ]
    },
    {
     "name": "stderr",
     "output_type": "stream",
     "text": [
      "C:\\Users\\ruizf\\anaconda3\\lib\\site-packages\\sklearn\\utils\\validation.py:63: DataConversionWarning: A column-vector y was passed when a 1d array was expected. Please change the shape of y to (n_samples, ), for example using ravel().\n",
      "  return f(*args, **kwargs)\n"
     ]
    },
    {
     "name": "stdout",
     "output_type": "stream",
     "text": [
      "Training until validation scores don't improve for 50 rounds\n",
      "Early stopping, best iteration is:\n",
      "[35]\ttraining's binary_logloss: 0.58508\ttraining's auc: 0.758693\tvalid_0's binary_logloss: 0.595958\tvalid_0's auc: 0.746709\n",
      "Iteration No: 11 ended. Search finished for the next optimal point.\n",
      "Time taken: 6.7704\n",
      "Function value obtained: -0.7467\n",
      "Current minimum: -0.7467\n",
      "Iteration No: 12 started. Searching for the next optimal point.\n"
     ]
    },
    {
     "name": "stderr",
     "output_type": "stream",
     "text": [
      "C:\\Users\\ruizf\\anaconda3\\lib\\site-packages\\sklearn\\utils\\validation.py:63: DataConversionWarning: A column-vector y was passed when a 1d array was expected. Please change the shape of y to (n_samples, ), for example using ravel().\n",
      "  return f(*args, **kwargs)\n"
     ]
    },
    {
     "name": "stdout",
     "output_type": "stream",
     "text": [
      "Training until validation scores don't improve for 50 rounds\n",
      "[100]\ttraining's binary_logloss: 0.682446\ttraining's auc: 0.716834\tvalid_0's binary_logloss: 0.682992\tvalid_0's auc: 0.718572\n",
      "[200]\ttraining's binary_logloss: 0.673448\ttraining's auc: 0.718103\tvalid_0's binary_logloss: 0.674146\tvalid_0's auc: 0.720134\n",
      "Did not meet early stopping. Best iteration is:\n",
      "[200]\ttraining's binary_logloss: 0.673448\ttraining's auc: 0.718103\tvalid_0's binary_logloss: 0.674146\tvalid_0's auc: 0.720134\n",
      "Iteration No: 12 ended. Search finished for the next optimal point.\n",
      "Time taken: 11.9234\n",
      "Function value obtained: -0.7201\n",
      "Current minimum: -0.7467\n",
      "Iteration No: 13 started. Searching for the next optimal point.\n"
     ]
    },
    {
     "name": "stderr",
     "output_type": "stream",
     "text": [
      "C:\\Users\\ruizf\\anaconda3\\lib\\site-packages\\sklearn\\utils\\validation.py:63: DataConversionWarning: A column-vector y was passed when a 1d array was expected. Please change the shape of y to (n_samples, ), for example using ravel().\n",
      "  return f(*args, **kwargs)\n"
     ]
    },
    {
     "name": "stdout",
     "output_type": "stream",
     "text": [
      "Training until validation scores don't improve for 50 rounds\n",
      "[100]\ttraining's binary_logloss: 0.685178\ttraining's auc: 0.704682\tvalid_0's binary_logloss: 0.685595\tvalid_0's auc: 0.708299\n",
      "[200]\ttraining's binary_logloss: 0.678409\ttraining's auc: 0.713034\tvalid_0's binary_logloss: 0.678902\tvalid_0's auc: 0.715955\n",
      "Did not meet early stopping. Best iteration is:\n",
      "[200]\ttraining's binary_logloss: 0.678409\ttraining's auc: 0.713034\tvalid_0's binary_logloss: 0.678902\tvalid_0's auc: 0.715955\n",
      "Iteration No: 13 ended. Search finished for the next optimal point.\n",
      "Time taken: 11.6308\n",
      "Function value obtained: -0.7160\n",
      "Current minimum: -0.7467\n",
      "Iteration No: 14 started. Searching for the next optimal point.\n"
     ]
    },
    {
     "name": "stderr",
     "output_type": "stream",
     "text": [
      "C:\\Users\\ruizf\\anaconda3\\lib\\site-packages\\sklearn\\utils\\validation.py:63: DataConversionWarning: A column-vector y was passed when a 1d array was expected. Please change the shape of y to (n_samples, ), for example using ravel().\n",
      "  return f(*args, **kwargs)\n"
     ]
    },
    {
     "name": "stdout",
     "output_type": "stream",
     "text": [
      "Training until validation scores don't improve for 50 rounds\n",
      "Early stopping, best iteration is:\n",
      "[23]\ttraining's binary_logloss: 0.575564\ttraining's auc: 0.767095\tvalid_0's binary_logloss: 0.592498\tvalid_0's auc: 0.749372\n",
      "Iteration No: 14 ended. Search finished for the next optimal point.\n",
      "Time taken: 5.5820\n",
      "Function value obtained: -0.7494\n",
      "Current minimum: -0.7494\n",
      "Iteration No: 15 started. Searching for the next optimal point.\n"
     ]
    },
    {
     "name": "stderr",
     "output_type": "stream",
     "text": [
      "C:\\Users\\ruizf\\anaconda3\\lib\\site-packages\\sklearn\\utils\\validation.py:63: DataConversionWarning: A column-vector y was passed when a 1d array was expected. Please change the shape of y to (n_samples, ), for example using ravel().\n",
      "  return f(*args, **kwargs)\n"
     ]
    },
    {
     "name": "stdout",
     "output_type": "stream",
     "text": [
      "Training until validation scores don't improve for 50 rounds\n",
      "Early stopping, best iteration is:\n",
      "[28]\ttraining's binary_logloss: 0.614628\ttraining's auc: 0.738113\tvalid_0's binary_logloss: 0.61589\tvalid_0's auc: 0.737248\n",
      "Iteration No: 15 ended. Search finished for the next optimal point.\n",
      "Time taken: 5.2914\n",
      "Function value obtained: -0.7372\n",
      "Current minimum: -0.7494\n",
      "Iteration No: 16 started. Searching for the next optimal point.\n"
     ]
    },
    {
     "name": "stderr",
     "output_type": "stream",
     "text": [
      "C:\\Users\\ruizf\\anaconda3\\lib\\site-packages\\sklearn\\utils\\validation.py:63: DataConversionWarning: A column-vector y was passed when a 1d array was expected. Please change the shape of y to (n_samples, ), for example using ravel().\n",
      "  return f(*args, **kwargs)\n"
     ]
    },
    {
     "name": "stdout",
     "output_type": "stream",
     "text": [
      "Training until validation scores don't improve for 50 rounds\n",
      "Early stopping, best iteration is:\n",
      "[46]\ttraining's binary_logloss: 0.569758\ttraining's auc: 0.774041\tvalid_0's binary_logloss: 0.590625\tvalid_0's auc: 0.751516\n",
      "Iteration No: 16 ended. Search finished for the next optimal point.\n",
      "Time taken: 6.9928\n",
      "Function value obtained: -0.7515\n",
      "Current minimum: -0.7515\n",
      "Iteration No: 17 started. Searching for the next optimal point.\n"
     ]
    },
    {
     "name": "stderr",
     "output_type": "stream",
     "text": [
      "C:\\Users\\ruizf\\anaconda3\\lib\\site-packages\\sklearn\\utils\\validation.py:63: DataConversionWarning: A column-vector y was passed when a 1d array was expected. Please change the shape of y to (n_samples, ), for example using ravel().\n",
      "  return f(*args, **kwargs)\n"
     ]
    },
    {
     "name": "stdout",
     "output_type": "stream",
     "text": [
      "Training until validation scores don't improve for 50 rounds\n",
      "Early stopping, best iteration is:\n",
      "[30]\ttraining's binary_logloss: 0.576669\ttraining's auc: 0.765549\tvalid_0's binary_logloss: 0.592134\tvalid_0's auc: 0.749266\n",
      "Iteration No: 17 ended. Search finished for the next optimal point.\n",
      "Time taken: 6.0120\n",
      "Function value obtained: -0.7493\n",
      "Current minimum: -0.7515\n",
      "Iteration No: 18 started. Searching for the next optimal point.\n"
     ]
    },
    {
     "name": "stderr",
     "output_type": "stream",
     "text": [
      "C:\\Users\\ruizf\\anaconda3\\lib\\site-packages\\sklearn\\utils\\validation.py:63: DataConversionWarning: A column-vector y was passed when a 1d array was expected. Please change the shape of y to (n_samples, ), for example using ravel().\n",
      "  return f(*args, **kwargs)\n"
     ]
    },
    {
     "name": "stdout",
     "output_type": "stream",
     "text": [
      "Training until validation scores don't improve for 50 rounds\n",
      "Early stopping, best iteration is:\n",
      "[20]\ttraining's binary_logloss: 0.570567\ttraining's auc: 0.772404\tvalid_0's binary_logloss: 0.592298\tvalid_0's auc: 0.749522\n",
      "Iteration No: 18 ended. Search finished for the next optimal point.\n",
      "Time taken: 5.4800\n",
      "Function value obtained: -0.7495\n",
      "Current minimum: -0.7515\n",
      "Iteration No: 19 started. Searching for the next optimal point.\n"
     ]
    },
    {
     "name": "stderr",
     "output_type": "stream",
     "text": [
      "C:\\Users\\ruizf\\anaconda3\\lib\\site-packages\\sklearn\\utils\\validation.py:63: DataConversionWarning: A column-vector y was passed when a 1d array was expected. Please change the shape of y to (n_samples, ), for example using ravel().\n",
      "  return f(*args, **kwargs)\n"
     ]
    },
    {
     "name": "stdout",
     "output_type": "stream",
     "text": [
      "Training until validation scores don't improve for 50 rounds\n",
      "Early stopping, best iteration is:\n",
      "[9]\ttraining's binary_logloss: 0.604094\ttraining's auc: 0.746467\tvalid_0's binary_logloss: 0.60904\tvalid_0's auc: 0.740132\n",
      "Iteration No: 19 ended. Search finished for the next optimal point.\n",
      "Time taken: 4.1328\n",
      "Function value obtained: -0.7401\n",
      "Current minimum: -0.7515\n",
      "Iteration No: 20 started. Searching for the next optimal point.\n"
     ]
    },
    {
     "name": "stderr",
     "output_type": "stream",
     "text": [
      "C:\\Users\\ruizf\\anaconda3\\lib\\site-packages\\sklearn\\utils\\validation.py:63: DataConversionWarning: A column-vector y was passed when a 1d array was expected. Please change the shape of y to (n_samples, ), for example using ravel().\n",
      "  return f(*args, **kwargs)\n"
     ]
    },
    {
     "name": "stdout",
     "output_type": "stream",
     "text": [
      "Training until validation scores don't improve for 50 rounds\n",
      "Early stopping, best iteration is:\n",
      "[10]\ttraining's binary_logloss: 0.610496\ttraining's auc: 0.739535\tvalid_0's binary_logloss: 0.613069\tvalid_0's auc: 0.73639\n",
      "Iteration No: 20 ended. Search finished for the next optimal point.\n",
      "Time taken: 4.3042\n",
      "Function value obtained: -0.7364\n",
      "Current minimum: -0.7515\n",
      "Iteration No: 21 started. Searching for the next optimal point.\n"
     ]
    },
    {
     "name": "stderr",
     "output_type": "stream",
     "text": [
      "C:\\Users\\ruizf\\anaconda3\\lib\\site-packages\\sklearn\\utils\\validation.py:63: DataConversionWarning: A column-vector y was passed when a 1d array was expected. Please change the shape of y to (n_samples, ), for example using ravel().\n",
      "  return f(*args, **kwargs)\n"
     ]
    },
    {
     "name": "stdout",
     "output_type": "stream",
     "text": [
      "Training until validation scores don't improve for 50 rounds\n",
      "Early stopping, best iteration is:\n",
      "[17]\ttraining's binary_logloss: 0.577472\ttraining's auc: 0.764662\tvalid_0's binary_logloss: 0.597937\tvalid_0's auc: 0.742581\n",
      "Iteration No: 21 ended. Search finished for the next optimal point.\n",
      "Time taken: 4.9876\n",
      "Function value obtained: -0.7426\n",
      "Current minimum: -0.7515\n",
      "Iteration No: 22 started. Searching for the next optimal point.\n"
     ]
    },
    {
     "name": "stderr",
     "output_type": "stream",
     "text": [
      "C:\\Users\\ruizf\\anaconda3\\lib\\site-packages\\sklearn\\utils\\validation.py:63: DataConversionWarning: A column-vector y was passed when a 1d array was expected. Please change the shape of y to (n_samples, ), for example using ravel().\n",
      "  return f(*args, **kwargs)\n"
     ]
    },
    {
     "name": "stdout",
     "output_type": "stream",
     "text": [
      "Training until validation scores don't improve for 50 rounds\n",
      "[100]\ttraining's binary_logloss: 0.567052\ttraining's auc: 0.77659\tvalid_0's binary_logloss: 0.589249\tvalid_0's auc: 0.752625\n",
      "Early stopping, best iteration is:\n",
      "[91]\ttraining's binary_logloss: 0.56711\ttraining's auc: 0.776578\tvalid_0's binary_logloss: 0.589236\tvalid_0's auc: 0.752688\n",
      "Iteration No: 22 ended. Search finished for the next optimal point.\n",
      "Time taken: 10.3760\n",
      "Function value obtained: -0.7527\n",
      "Current minimum: -0.7527\n",
      "Iteration No: 23 started. Searching for the next optimal point.\n"
     ]
    },
    {
     "name": "stderr",
     "output_type": "stream",
     "text": [
      "C:\\Users\\ruizf\\anaconda3\\lib\\site-packages\\sklearn\\utils\\validation.py:63: DataConversionWarning: A column-vector y was passed when a 1d array was expected. Please change the shape of y to (n_samples, ), for example using ravel().\n",
      "  return f(*args, **kwargs)\n"
     ]
    },
    {
     "name": "stdout",
     "output_type": "stream",
     "text": [
      "Training until validation scores don't improve for 50 rounds\n",
      "Early stopping, best iteration is:\n",
      "[19]\ttraining's binary_logloss: 0.578213\ttraining's auc: 0.764056\tvalid_0's binary_logloss: 0.596348\tvalid_0's auc: 0.744371\n",
      "Iteration No: 23 ended. Search finished for the next optimal point.\n",
      "Time taken: 5.4528\n",
      "Function value obtained: -0.7444\n",
      "Current minimum: -0.7527\n",
      "Iteration No: 24 started. Searching for the next optimal point.\n"
     ]
    },
    {
     "name": "stderr",
     "output_type": "stream",
     "text": [
      "C:\\Users\\ruizf\\anaconda3\\lib\\site-packages\\sklearn\\utils\\validation.py:63: DataConversionWarning: A column-vector y was passed when a 1d array was expected. Please change the shape of y to (n_samples, ), for example using ravel().\n",
      "  return f(*args, **kwargs)\n"
     ]
    },
    {
     "name": "stdout",
     "output_type": "stream",
     "text": [
      "Training until validation scores don't improve for 50 rounds\n",
      "[100]\ttraining's binary_logloss: 0.576314\ttraining's auc: 0.766858\tvalid_0's binary_logloss: 0.590731\tvalid_0's auc: 0.751434\n",
      "Early stopping, best iteration is:\n",
      "[108]\ttraining's binary_logloss: 0.576167\ttraining's auc: 0.766991\tvalid_0's binary_logloss: 0.590646\tvalid_0's auc: 0.751495\n",
      "Iteration No: 24 ended. Search finished for the next optimal point.\n",
      "Time taken: 11.4212\n",
      "Function value obtained: -0.7515\n",
      "Current minimum: -0.7527\n",
      "Iteration No: 25 started. Searching for the next optimal point.\n"
     ]
    },
    {
     "name": "stderr",
     "output_type": "stream",
     "text": [
      "C:\\Users\\ruizf\\anaconda3\\lib\\site-packages\\sklearn\\utils\\validation.py:63: DataConversionWarning: A column-vector y was passed when a 1d array was expected. Please change the shape of y to (n_samples, ), for example using ravel().\n",
      "  return f(*args, **kwargs)\n"
     ]
    },
    {
     "name": "stdout",
     "output_type": "stream",
     "text": [
      "Training until validation scores don't improve for 50 rounds\n",
      "Early stopping, best iteration is:\n",
      "[31]\ttraining's binary_logloss: 0.573535\ttraining's auc: 0.769573\tvalid_0's binary_logloss: 0.592349\tvalid_0's auc: 0.749386\n",
      "Iteration No: 25 ended. Search finished for the next optimal point.\n",
      "Time taken: 6.2963\n",
      "Function value obtained: -0.7494\n",
      "Current minimum: -0.7527\n",
      "Iteration No: 26 started. Searching for the next optimal point.\n"
     ]
    },
    {
     "name": "stderr",
     "output_type": "stream",
     "text": [
      "C:\\Users\\ruizf\\anaconda3\\lib\\site-packages\\sklearn\\utils\\validation.py:63: DataConversionWarning: A column-vector y was passed when a 1d array was expected. Please change the shape of y to (n_samples, ), for example using ravel().\n",
      "  return f(*args, **kwargs)\n"
     ]
    },
    {
     "name": "stdout",
     "output_type": "stream",
     "text": [
      "Training until validation scores don't improve for 50 rounds\n",
      "[100]\ttraining's binary_logloss: 0.57664\ttraining's auc: 0.766389\tvalid_0's binary_logloss: 0.590539\tvalid_0's auc: 0.751473\n",
      "Early stopping, best iteration is:\n",
      "[96]\ttraining's binary_logloss: 0.57664\ttraining's auc: 0.766389\tvalid_0's binary_logloss: 0.590539\tvalid_0's auc: 0.751473\n",
      "Iteration No: 26 ended. Search finished for the next optimal point.\n",
      "Time taken: 10.4719\n",
      "Function value obtained: -0.7515\n",
      "Current minimum: -0.7527\n",
      "Iteration No: 27 started. Searching for the next optimal point.\n"
     ]
    },
    {
     "name": "stderr",
     "output_type": "stream",
     "text": [
      "C:\\Users\\ruizf\\anaconda3\\lib\\site-packages\\sklearn\\utils\\validation.py:63: DataConversionWarning: A column-vector y was passed when a 1d array was expected. Please change the shape of y to (n_samples, ), for example using ravel().\n",
      "  return f(*args, **kwargs)\n"
     ]
    },
    {
     "name": "stdout",
     "output_type": "stream",
     "text": [
      "Training until validation scores don't improve for 50 rounds\n",
      "Early stopping, best iteration is:\n",
      "[27]\ttraining's binary_logloss: 0.567369\ttraining's auc: 0.775867\tvalid_0's binary_logloss: 0.590491\tvalid_0's auc: 0.751161\n",
      "Iteration No: 27 ended. Search finished for the next optimal point.\n",
      "Time taken: 6.0722\n",
      "Function value obtained: -0.7512\n",
      "Current minimum: -0.7527\n",
      "Iteration No: 28 started. Searching for the next optimal point.\n"
     ]
    },
    {
     "name": "stderr",
     "output_type": "stream",
     "text": [
      "C:\\Users\\ruizf\\anaconda3\\lib\\site-packages\\sklearn\\utils\\validation.py:63: DataConversionWarning: A column-vector y was passed when a 1d array was expected. Please change the shape of y to (n_samples, ), for example using ravel().\n",
      "  return f(*args, **kwargs)\n"
     ]
    },
    {
     "name": "stdout",
     "output_type": "stream",
     "text": [
      "Training until validation scores don't improve for 50 rounds\n",
      "[100]\ttraining's binary_logloss: 0.579149\ttraining's auc: 0.763973\tvalid_0's binary_logloss: 0.5936\tvalid_0's auc: 0.748707\n",
      "[200]\ttraining's binary_logloss: 0.576899\ttraining's auc: 0.765793\tvalid_0's binary_logloss: 0.592929\tvalid_0's auc: 0.749091\n",
      "Did not meet early stopping. Best iteration is:\n",
      "[200]\ttraining's binary_logloss: 0.576899\ttraining's auc: 0.765793\tvalid_0's binary_logloss: 0.592929\tvalid_0's auc: 0.749091\n",
      "Iteration No: 28 ended. Search finished for the next optimal point.\n",
      "Time taken: 13.8118\n",
      "Function value obtained: -0.7491\n",
      "Current minimum: -0.7527\n",
      "Iteration No: 29 started. Searching for the next optimal point.\n"
     ]
    },
    {
     "name": "stderr",
     "output_type": "stream",
     "text": [
      "C:\\Users\\ruizf\\anaconda3\\lib\\site-packages\\sklearn\\utils\\validation.py:63: DataConversionWarning: A column-vector y was passed when a 1d array was expected. Please change the shape of y to (n_samples, ), for example using ravel().\n",
      "  return f(*args, **kwargs)\n"
     ]
    },
    {
     "name": "stdout",
     "output_type": "stream",
     "text": [
      "Training until validation scores don't improve for 50 rounds\n",
      "Early stopping, best iteration is:\n",
      "[27]\ttraining's binary_logloss: 0.577054\ttraining's auc: 0.765353\tvalid_0's binary_logloss: 0.593034\tvalid_0's auc: 0.748264\n",
      "Iteration No: 29 ended. Search finished for the next optimal point.\n",
      "Time taken: 5.9990\n",
      "Function value obtained: -0.7483\n",
      "Current minimum: -0.7527\n",
      "Iteration No: 30 started. Searching for the next optimal point.\n"
     ]
    },
    {
     "name": "stderr",
     "output_type": "stream",
     "text": [
      "C:\\Users\\ruizf\\anaconda3\\lib\\site-packages\\sklearn\\utils\\validation.py:63: DataConversionWarning: A column-vector y was passed when a 1d array was expected. Please change the shape of y to (n_samples, ), for example using ravel().\n",
      "  return f(*args, **kwargs)\n"
     ]
    },
    {
     "name": "stdout",
     "output_type": "stream",
     "text": [
      "Training until validation scores don't improve for 50 rounds\n",
      "Early stopping, best iteration is:\n",
      "[38]\ttraining's binary_logloss: 0.567868\ttraining's auc: 0.775721\tvalid_0's binary_logloss: 0.58954\tvalid_0's auc: 0.752331\n",
      "Iteration No: 30 ended. Search finished for the next optimal point.\n",
      "Time taken: 6.9056\n",
      "Function value obtained: -0.7523\n",
      "Current minimum: -0.7527\n",
      "Iteration No: 31 started. Searching for the next optimal point.\n"
     ]
    },
    {
     "name": "stderr",
     "output_type": "stream",
     "text": [
      "C:\\Users\\ruizf\\anaconda3\\lib\\site-packages\\sklearn\\utils\\validation.py:63: DataConversionWarning: A column-vector y was passed when a 1d array was expected. Please change the shape of y to (n_samples, ), for example using ravel().\n",
      "  return f(*args, **kwargs)\n"
     ]
    },
    {
     "name": "stdout",
     "output_type": "stream",
     "text": [
      "Training until validation scores don't improve for 50 rounds\n",
      "Early stopping, best iteration is:\n",
      "[40]\ttraining's binary_logloss: 0.573955\ttraining's auc: 0.769105\tvalid_0's binary_logloss: 0.590981\tvalid_0's auc: 0.750875\n",
      "Iteration No: 31 ended. Search finished for the next optimal point.\n",
      "Time taken: 6.5100\n",
      "Function value obtained: -0.7509\n",
      "Current minimum: -0.7527\n",
      "Iteration No: 32 started. Searching for the next optimal point.\n"
     ]
    },
    {
     "name": "stderr",
     "output_type": "stream",
     "text": [
      "C:\\Users\\ruizf\\anaconda3\\lib\\site-packages\\sklearn\\utils\\validation.py:63: DataConversionWarning: A column-vector y was passed when a 1d array was expected. Please change the shape of y to (n_samples, ), for example using ravel().\n",
      "  return f(*args, **kwargs)\n"
     ]
    },
    {
     "name": "stdout",
     "output_type": "stream",
     "text": [
      "Training until validation scores don't improve for 50 rounds\n",
      "Early stopping, best iteration is:\n",
      "[34]\ttraining's binary_logloss: 0.567827\ttraining's auc: 0.775605\tvalid_0's binary_logloss: 0.59005\tvalid_0's auc: 0.751887\n",
      "Iteration No: 32 ended. Search finished for the next optimal point.\n",
      "Time taken: 6.6767\n",
      "Function value obtained: -0.7519\n",
      "Current minimum: -0.7527\n",
      "Iteration No: 33 started. Searching for the next optimal point.\n"
     ]
    },
    {
     "name": "stderr",
     "output_type": "stream",
     "text": [
      "C:\\Users\\ruizf\\anaconda3\\lib\\site-packages\\sklearn\\utils\\validation.py:63: DataConversionWarning: A column-vector y was passed when a 1d array was expected. Please change the shape of y to (n_samples, ), for example using ravel().\n",
      "  return f(*args, **kwargs)\n"
     ]
    },
    {
     "name": "stdout",
     "output_type": "stream",
     "text": [
      "Training until validation scores don't improve for 50 rounds\n",
      "Early stopping, best iteration is:\n",
      "[46]\ttraining's binary_logloss: 0.570369\ttraining's auc: 0.772779\tvalid_0's binary_logloss: 0.590655\tvalid_0's auc: 0.751119\n",
      "Iteration No: 33 ended. Search finished for the next optimal point.\n",
      "Time taken: 7.3332\n",
      "Function value obtained: -0.7511\n",
      "Current minimum: -0.7527\n",
      "Iteration No: 34 started. Searching for the next optimal point.\n"
     ]
    },
    {
     "name": "stderr",
     "output_type": "stream",
     "text": [
      "C:\\Users\\ruizf\\anaconda3\\lib\\site-packages\\sklearn\\utils\\validation.py:63: DataConversionWarning: A column-vector y was passed when a 1d array was expected. Please change the shape of y to (n_samples, ), for example using ravel().\n",
      "  return f(*args, **kwargs)\n"
     ]
    },
    {
     "name": "stdout",
     "output_type": "stream",
     "text": [
      "Training until validation scores don't improve for 50 rounds\n",
      "Early stopping, best iteration is:\n",
      "[27]\ttraining's binary_logloss: 0.609276\ttraining's auc: 0.743505\tvalid_0's binary_logloss: 0.613307\tvalid_0's auc: 0.738842\n",
      "Iteration No: 34 ended. Search finished for the next optimal point.\n",
      "Time taken: 5.4150\n",
      "Function value obtained: -0.7388\n",
      "Current minimum: -0.7527\n",
      "Iteration No: 35 started. Searching for the next optimal point.\n"
     ]
    },
    {
     "name": "stderr",
     "output_type": "stream",
     "text": [
      "C:\\Users\\ruizf\\anaconda3\\lib\\site-packages\\sklearn\\utils\\validation.py:63: DataConversionWarning: A column-vector y was passed when a 1d array was expected. Please change the shape of y to (n_samples, ), for example using ravel().\n",
      "  return f(*args, **kwargs)\n"
     ]
    },
    {
     "name": "stdout",
     "output_type": "stream",
     "text": [
      "Training until validation scores don't improve for 50 rounds\n",
      "Early stopping, best iteration is:\n",
      "[23]\ttraining's binary_logloss: 0.573247\ttraining's auc: 0.769215\tvalid_0's binary_logloss: 0.595064\tvalid_0's auc: 0.746199\n",
      "Iteration No: 35 ended. Search finished for the next optimal point.\n",
      "Time taken: 5.6552\n",
      "Function value obtained: -0.7462\n",
      "Current minimum: -0.7527\n",
      "Iteration No: 36 started. Searching for the next optimal point.\n"
     ]
    },
    {
     "name": "stderr",
     "output_type": "stream",
     "text": [
      "C:\\Users\\ruizf\\anaconda3\\lib\\site-packages\\sklearn\\utils\\validation.py:63: DataConversionWarning: A column-vector y was passed when a 1d array was expected. Please change the shape of y to (n_samples, ), for example using ravel().\n",
      "  return f(*args, **kwargs)\n"
     ]
    },
    {
     "name": "stdout",
     "output_type": "stream",
     "text": [
      "Training until validation scores don't improve for 50 rounds\n",
      "Early stopping, best iteration is:\n",
      "[29]\ttraining's binary_logloss: 0.571708\ttraining's auc: 0.771175\tvalid_0's binary_logloss: 0.591382\tvalid_0's auc: 0.750296\n",
      "Iteration No: 36 ended. Search finished for the next optimal point.\n",
      "Time taken: 6.7267\n",
      "Function value obtained: -0.7503\n",
      "Current minimum: -0.7527\n",
      "Iteration No: 37 started. Searching for the next optimal point.\n"
     ]
    },
    {
     "name": "stderr",
     "output_type": "stream",
     "text": [
      "C:\\Users\\ruizf\\anaconda3\\lib\\site-packages\\sklearn\\utils\\validation.py:63: DataConversionWarning: A column-vector y was passed when a 1d array was expected. Please change the shape of y to (n_samples, ), for example using ravel().\n",
      "  return f(*args, **kwargs)\n"
     ]
    },
    {
     "name": "stdout",
     "output_type": "stream",
     "text": [
      "Training until validation scores don't improve for 50 rounds\n",
      "[100]\ttraining's binary_logloss: 0.684749\ttraining's auc: 0.711705\tvalid_0's binary_logloss: 0.685383\tvalid_0's auc: 0.710303\n",
      "[200]\ttraining's binary_logloss: 0.677653\ttraining's auc: 0.720049\tvalid_0's binary_logloss: 0.67855\tvalid_0's auc: 0.717905\n",
      "Did not meet early stopping. Best iteration is:\n",
      "[200]\ttraining's binary_logloss: 0.677653\ttraining's auc: 0.720049\tvalid_0's binary_logloss: 0.67855\tvalid_0's auc: 0.717905\n",
      "Iteration No: 37 ended. Search finished for the next optimal point.\n",
      "Time taken: 11.7896\n",
      "Function value obtained: -0.7179\n",
      "Current minimum: -0.7527\n",
      "Iteration No: 38 started. Searching for the next optimal point.\n"
     ]
    },
    {
     "name": "stderr",
     "output_type": "stream",
     "text": [
      "C:\\Users\\ruizf\\anaconda3\\lib\\site-packages\\sklearn\\utils\\validation.py:63: DataConversionWarning: A column-vector y was passed when a 1d array was expected. Please change the shape of y to (n_samples, ), for example using ravel().\n",
      "  return f(*args, **kwargs)\n"
     ]
    },
    {
     "name": "stdout",
     "output_type": "stream",
     "text": [
      "Training until validation scores don't improve for 50 rounds\n",
      "[100]\ttraining's binary_logloss: 0.575082\ttraining's auc: 0.767805\tvalid_0's binary_logloss: 0.590355\tvalid_0's auc: 0.751586\n",
      "Early stopping, best iteration is:\n",
      "[94]\ttraining's binary_logloss: 0.575093\ttraining's auc: 0.767796\tvalid_0's binary_logloss: 0.59037\tvalid_0's auc: 0.751587\n",
      "Iteration No: 38 ended. Search finished for the next optimal point.\n",
      "Time taken: 11.3538\n",
      "Function value obtained: -0.7516\n",
      "Current minimum: -0.7527\n",
      "Iteration No: 39 started. Searching for the next optimal point.\n"
     ]
    },
    {
     "name": "stderr",
     "output_type": "stream",
     "text": [
      "C:\\Users\\ruizf\\anaconda3\\lib\\site-packages\\sklearn\\utils\\validation.py:63: DataConversionWarning: A column-vector y was passed when a 1d array was expected. Please change the shape of y to (n_samples, ), for example using ravel().\n",
      "  return f(*args, **kwargs)\n"
     ]
    },
    {
     "name": "stdout",
     "output_type": "stream",
     "text": [
      "Training until validation scores don't improve for 50 rounds\n",
      "[100]\ttraining's binary_logloss: 0.575126\ttraining's auc: 0.767743\tvalid_0's binary_logloss: 0.590299\tvalid_0's auc: 0.751395\n",
      "Early stopping, best iteration is:\n",
      "[97]\ttraining's binary_logloss: 0.575126\ttraining's auc: 0.767743\tvalid_0's binary_logloss: 0.590299\tvalid_0's auc: 0.751395\n",
      "Iteration No: 39 ended. Search finished for the next optimal point.\n",
      "Time taken: 10.7330\n",
      "Function value obtained: -0.7514\n",
      "Current minimum: -0.7527\n",
      "Iteration No: 40 started. Searching for the next optimal point.\n"
     ]
    },
    {
     "name": "stderr",
     "output_type": "stream",
     "text": [
      "C:\\Users\\ruizf\\anaconda3\\lib\\site-packages\\sklearn\\utils\\validation.py:63: DataConversionWarning: A column-vector y was passed when a 1d array was expected. Please change the shape of y to (n_samples, ), for example using ravel().\n",
      "  return f(*args, **kwargs)\n"
     ]
    },
    {
     "name": "stdout",
     "output_type": "stream",
     "text": [
      "Training until validation scores don't improve for 50 rounds\n",
      "Early stopping, best iteration is:\n",
      "[31]\ttraining's binary_logloss: 0.579056\ttraining's auc: 0.763181\tvalid_0's binary_logloss: 0.593968\tvalid_0's auc: 0.74714\n",
      "Iteration No: 40 ended. Search finished for the next optimal point.\n",
      "Time taken: 6.4838\n",
      "Function value obtained: -0.7471\n",
      "Current minimum: -0.7527\n",
      "Iteration No: 41 started. Searching for the next optimal point.\n"
     ]
    },
    {
     "name": "stderr",
     "output_type": "stream",
     "text": [
      "C:\\Users\\ruizf\\anaconda3\\lib\\site-packages\\sklearn\\utils\\validation.py:63: DataConversionWarning: A column-vector y was passed when a 1d array was expected. Please change the shape of y to (n_samples, ), for example using ravel().\n",
      "  return f(*args, **kwargs)\n"
     ]
    },
    {
     "name": "stdout",
     "output_type": "stream",
     "text": [
      "Training until validation scores don't improve for 50 rounds\n",
      "Early stopping, best iteration is:\n",
      "[24]\ttraining's binary_logloss: 0.579621\ttraining's auc: 0.763084\tvalid_0's binary_logloss: 0.594543\tvalid_0's auc: 0.746938\n",
      "Iteration No: 41 ended. Search finished for the next optimal point.\n",
      "Time taken: 5.8426\n",
      "Function value obtained: -0.7469\n",
      "Current minimum: -0.7527\n",
      "Iteration No: 42 started. Searching for the next optimal point.\n"
     ]
    },
    {
     "name": "stderr",
     "output_type": "stream",
     "text": [
      "C:\\Users\\ruizf\\anaconda3\\lib\\site-packages\\sklearn\\utils\\validation.py:63: DataConversionWarning: A column-vector y was passed when a 1d array was expected. Please change the shape of y to (n_samples, ), for example using ravel().\n",
      "  return f(*args, **kwargs)\n"
     ]
    },
    {
     "name": "stdout",
     "output_type": "stream",
     "text": [
      "Training until validation scores don't improve for 50 rounds\n",
      "Early stopping, best iteration is:\n",
      "[22]\ttraining's binary_logloss: 0.607235\ttraining's auc: 0.746064\tvalid_0's binary_logloss: 0.611433\tvalid_0's auc: 0.741001\n",
      "Iteration No: 42 ended. Search finished for the next optimal point.\n",
      "Time taken: 5.4185\n",
      "Function value obtained: -0.7410\n",
      "Current minimum: -0.7527\n",
      "Iteration No: 43 started. Searching for the next optimal point.\n"
     ]
    },
    {
     "name": "stderr",
     "output_type": "stream",
     "text": [
      "C:\\Users\\ruizf\\anaconda3\\lib\\site-packages\\sklearn\\utils\\validation.py:63: DataConversionWarning: A column-vector y was passed when a 1d array was expected. Please change the shape of y to (n_samples, ), for example using ravel().\n",
      "  return f(*args, **kwargs)\n"
     ]
    },
    {
     "name": "stdout",
     "output_type": "stream",
     "text": [
      "Training until validation scores don't improve for 50 rounds\n",
      "[100]\ttraining's binary_logloss: 0.679276\ttraining's auc: 0.733023\tvalid_0's binary_logloss: 0.6803\tvalid_0's auc: 0.726282\n",
      "[200]\ttraining's binary_logloss: 0.667722\ttraining's auc: 0.73821\tvalid_0's binary_logloss: 0.669446\tvalid_0's auc: 0.731007\n",
      "Did not meet early stopping. Best iteration is:\n",
      "[200]\ttraining's binary_logloss: 0.667722\ttraining's auc: 0.73821\tvalid_0's binary_logloss: 0.669446\tvalid_0's auc: 0.731007\n",
      "Iteration No: 43 ended. Search finished for the next optimal point.\n",
      "Time taken: 13.0342\n",
      "Function value obtained: -0.7310\n",
      "Current minimum: -0.7527\n",
      "Iteration No: 44 started. Searching for the next optimal point.\n"
     ]
    },
    {
     "name": "stderr",
     "output_type": "stream",
     "text": [
      "C:\\Users\\ruizf\\anaconda3\\lib\\site-packages\\sklearn\\utils\\validation.py:63: DataConversionWarning: A column-vector y was passed when a 1d array was expected. Please change the shape of y to (n_samples, ), for example using ravel().\n",
      "  return f(*args, **kwargs)\n"
     ]
    },
    {
     "name": "stdout",
     "output_type": "stream",
     "text": [
      "Training until validation scores don't improve for 50 rounds\n",
      "[100]\ttraining's binary_logloss: 0.570167\ttraining's auc: 0.773301\tvalid_0's binary_logloss: 0.589965\tvalid_0's auc: 0.752138\n",
      "Early stopping, best iteration is:\n",
      "[74]\ttraining's binary_logloss: 0.570252\ttraining's auc: 0.773257\tvalid_0's binary_logloss: 0.589987\tvalid_0's auc: 0.752179\n",
      "Iteration No: 44 ended. Search finished for the next optimal point.\n",
      "Time taken: 9.5454\n",
      "Function value obtained: -0.7522\n",
      "Current minimum: -0.7527\n",
      "Iteration No: 45 started. Searching for the next optimal point.\n"
     ]
    },
    {
     "name": "stderr",
     "output_type": "stream",
     "text": [
      "C:\\Users\\ruizf\\anaconda3\\lib\\site-packages\\sklearn\\utils\\validation.py:63: DataConversionWarning: A column-vector y was passed when a 1d array was expected. Please change the shape of y to (n_samples, ), for example using ravel().\n",
      "  return f(*args, **kwargs)\n"
     ]
    },
    {
     "name": "stdout",
     "output_type": "stream",
     "text": [
      "Training until validation scores don't improve for 50 rounds\n",
      "[100]\ttraining's binary_logloss: 0.575501\ttraining's auc: 0.767123\tvalid_0's binary_logloss: 0.59022\tvalid_0's auc: 0.751532\n",
      "Early stopping, best iteration is:\n",
      "[72]\ttraining's binary_logloss: 0.575501\ttraining's auc: 0.767123\tvalid_0's binary_logloss: 0.59022\tvalid_0's auc: 0.751532\n",
      "Iteration No: 45 ended. Search finished for the next optimal point.\n",
      "Time taken: 9.4681\n",
      "Function value obtained: -0.7515\n",
      "Current minimum: -0.7527\n",
      "Iteration No: 46 started. Searching for the next optimal point.\n"
     ]
    },
    {
     "name": "stderr",
     "output_type": "stream",
     "text": [
      "C:\\Users\\ruizf\\anaconda3\\lib\\site-packages\\sklearn\\utils\\validation.py:63: DataConversionWarning: A column-vector y was passed when a 1d array was expected. Please change the shape of y to (n_samples, ), for example using ravel().\n",
      "  return f(*args, **kwargs)\n"
     ]
    },
    {
     "name": "stdout",
     "output_type": "stream",
     "text": [
      "Training until validation scores don't improve for 50 rounds\n",
      "[100]\ttraining's binary_logloss: 0.607226\ttraining's auc: 0.746438\tvalid_0's binary_logloss: 0.611445\tvalid_0's auc: 0.741343\n",
      "Early stopping, best iteration is:\n",
      "[74]\ttraining's binary_logloss: 0.607226\ttraining's auc: 0.746438\tvalid_0's binary_logloss: 0.611445\tvalid_0's auc: 0.741343\n",
      "Iteration No: 46 ended. Search finished for the next optimal point.\n",
      "Time taken: 9.2320\n",
      "Function value obtained: -0.7413\n",
      "Current minimum: -0.7527\n",
      "Iteration No: 47 started. Searching for the next optimal point.\n"
     ]
    },
    {
     "name": "stderr",
     "output_type": "stream",
     "text": [
      "C:\\Users\\ruizf\\anaconda3\\lib\\site-packages\\sklearn\\utils\\validation.py:63: DataConversionWarning: A column-vector y was passed when a 1d array was expected. Please change the shape of y to (n_samples, ), for example using ravel().\n",
      "  return f(*args, **kwargs)\n"
     ]
    },
    {
     "name": "stdout",
     "output_type": "stream",
     "text": [
      "Training until validation scores don't improve for 50 rounds\n",
      "Early stopping, best iteration is:\n",
      "[7]\ttraining's binary_logloss: 0.608448\ttraining's auc: 0.740283\tvalid_0's binary_logloss: 0.610977\tvalid_0's auc: 0.737069\n",
      "Iteration No: 47 ended. Search finished for the next optimal point.\n",
      "Time taken: 4.6419\n",
      "Function value obtained: -0.7371\n",
      "Current minimum: -0.7527\n",
      "Iteration No: 48 started. Searching for the next optimal point.\n"
     ]
    },
    {
     "name": "stderr",
     "output_type": "stream",
     "text": [
      "C:\\Users\\ruizf\\anaconda3\\lib\\site-packages\\sklearn\\utils\\validation.py:63: DataConversionWarning: A column-vector y was passed when a 1d array was expected. Please change the shape of y to (n_samples, ), for example using ravel().\n",
      "  return f(*args, **kwargs)\n"
     ]
    },
    {
     "name": "stdout",
     "output_type": "stream",
     "text": [
      "Training until validation scores don't improve for 50 rounds\n",
      "[100]\ttraining's binary_logloss: 0.579641\ttraining's auc: 0.764648\tvalid_0's binary_logloss: 0.592109\tvalid_0's auc: 0.750821\n",
      "[200]\ttraining's binary_logloss: 0.57533\ttraining's auc: 0.768067\tvalid_0's binary_logloss: 0.589806\tvalid_0's auc: 0.752629\n",
      "Did not meet early stopping. Best iteration is:\n",
      "[200]\ttraining's binary_logloss: 0.57533\ttraining's auc: 0.768067\tvalid_0's binary_logloss: 0.589806\tvalid_0's auc: 0.752629\n",
      "Iteration No: 48 ended. Search finished for the next optimal point.\n",
      "Time taken: 14.8165\n",
      "Function value obtained: -0.7526\n",
      "Current minimum: -0.7527\n",
      "Iteration No: 49 started. Searching for the next optimal point.\n"
     ]
    },
    {
     "name": "stderr",
     "output_type": "stream",
     "text": [
      "C:\\Users\\ruizf\\anaconda3\\lib\\site-packages\\sklearn\\utils\\validation.py:63: DataConversionWarning: A column-vector y was passed when a 1d array was expected. Please change the shape of y to (n_samples, ), for example using ravel().\n",
      "  return f(*args, **kwargs)\n"
     ]
    },
    {
     "name": "stdout",
     "output_type": "stream",
     "text": [
      "Training until validation scores don't improve for 50 rounds\n",
      "Early stopping, best iteration is:\n",
      "[34]\ttraining's binary_logloss: 0.580141\ttraining's auc: 0.762754\tvalid_0's binary_logloss: 0.593158\tvalid_0's auc: 0.748583\n",
      "Iteration No: 49 ended. Search finished for the next optimal point.\n",
      "Time taken: 6.8833\n",
      "Function value obtained: -0.7486\n",
      "Current minimum: -0.7527\n",
      "Iteration No: 50 started. Searching for the next optimal point.\n"
     ]
    },
    {
     "name": "stderr",
     "output_type": "stream",
     "text": [
      "C:\\Users\\ruizf\\anaconda3\\lib\\site-packages\\sklearn\\utils\\validation.py:63: DataConversionWarning: A column-vector y was passed when a 1d array was expected. Please change the shape of y to (n_samples, ), for example using ravel().\n",
      "  return f(*args, **kwargs)\n"
     ]
    },
    {
     "name": "stdout",
     "output_type": "stream",
     "text": [
      "Training until validation scores don't improve for 50 rounds\n",
      "Early stopping, best iteration is:\n",
      "[11]\ttraining's binary_logloss: 0.575761\ttraining's auc: 0.766557\tvalid_0's binary_logloss: 0.596643\tvalid_0's auc: 0.743868\n",
      "Iteration No: 50 ended. Search finished for the next optimal point.\n",
      "Time taken: 5.3826\n",
      "Function value obtained: -0.7439\n",
      "Current minimum: -0.7527\n"
     ]
    }
   ],
   "source": [
    "# Armamos una calse con tqdm para poder ver el progreso de la búsqueda\n",
    "class tqdm_skopt(object):\n",
    "    def __init__(self, **kwargs):\n",
    "        self._bar = tqdm(**kwargs)\n",
    "    def __call__(self, res):\n",
    "        self._bar.update()\n",
    "        \n",
    "# Cantidad de iteraciones para la búsqueda (utilizar muchas, aqui usamos 50 solo por probar)\n",
    "n_calls = 50\n",
    "\n",
    "# Búsqueda\n",
    "res = gp_minimize(\n",
    "                    objective\n",
    "                    ,space\n",
    "                    ,n_calls = n_calls\n",
    "                    ,n_initial_points = int(round(n_calls*0.2)) # Cantidad de iteraciones iniciales random (20% es significativo, pero dando mucho espacio para que el algoritmo optimice)\n",
    "                    ,n_jobs=1\n",
    "                    ,random_state = 0\n",
    "                    ,verbose=1\n",
    "                    ,callback=[tqdm_skopt(total=n_calls, desc=\"Gaussian Process\")]\n",
    "                    )"
   ]
  },
  {
   "cell_type": "markdown",
   "metadata": {},
   "source": [
    "# Let's see the results of the search"
   ]
  },
  {
   "cell_type": "code",
   "execution_count": 25,
   "metadata": {},
   "outputs": [],
   "source": [
    "# Armamos un dataframe a partir de los resultados que fuimos recabando en cada iteracion\n",
    "df_hpsearch = pd.DataFrame.from_dict(results)"
   ]
  },
  {
   "cell_type": "code",
   "execution_count": 26,
   "metadata": {},
   "outputs": [
    {
     "data": {
      "text/plain": [
       "['max_depth',\n",
       " 'subsample',\n",
       " 'max_features',\n",
       " 'learning_rate',\n",
       " 'min_child_samples',\n",
       " 'reg_alpha',\n",
       " 'reg_lambda']"
      ]
     },
     "execution_count": 26,
     "metadata": {},
     "output_type": "execute_result"
    }
   ],
   "source": [
    "param_names"
   ]
  },
  {
   "cell_type": "code",
   "execution_count": 27,
   "metadata": {},
   "outputs": [],
   "source": [
    "# Armamos un dataframe a partir de los resultados que fuimos recabando en cada iteracion\n",
    "df_hpsearch = pd.DataFrame.from_dict(results)\n",
    "# Establecemos el orden en el que queremos mostrar las columnas (solo mostraremos los hiperparámetros que usamos)\n",
    "cols_order = param_names + ['auc_train', 'auc_dev']\n",
    "# aplicamos ese orden de columnas\n",
    "df_hpsearch = df_hpsearch[cols_order]\n",
    "# convertimos el index en una columna, que indicará el número de iteracion al que correponden los resultados\n",
    "df_hpsearch = df_hpsearch.reset_index().rename(columns={'index':'n_iteracion'})\n",
    "# ordenamos el dataframe según cómo le fue a la métrica elegida en Validacion\n",
    "df_hpsearch.sort_values(by=str(LOSS_METRIC+'_dev'), ascending=False, inplace=True)\n",
    "# quitamos el index que queda (queda desordenado, de esta forma lo colocaremos de 0 a n)\n",
    "df_hpsearch.reset_index(drop=True, inplace=True)\n",
    "df_hpsearch['diff_train_dev'] = df_hpsearch['auc_train'] - df_hpsearch['auc_dev']"
   ]
  },
  {
   "cell_type": "code",
   "execution_count": 28,
   "metadata": {},
   "outputs": [
    {
     "data": {
      "text/html": [
       "<div>\n",
       "<style scoped>\n",
       "    .dataframe tbody tr th:only-of-type {\n",
       "        vertical-align: middle;\n",
       "    }\n",
       "\n",
       "    .dataframe tbody tr th {\n",
       "        vertical-align: top;\n",
       "    }\n",
       "\n",
       "    .dataframe thead th {\n",
       "        text-align: right;\n",
       "    }\n",
       "</style>\n",
       "<table border=\"1\" class=\"dataframe\">\n",
       "  <thead>\n",
       "    <tr style=\"text-align: right;\">\n",
       "      <th></th>\n",
       "      <th>n_iteracion</th>\n",
       "      <th>max_depth</th>\n",
       "      <th>subsample</th>\n",
       "      <th>max_features</th>\n",
       "      <th>learning_rate</th>\n",
       "      <th>min_child_samples</th>\n",
       "      <th>reg_alpha</th>\n",
       "      <th>reg_lambda</th>\n",
       "      <th>auc_train</th>\n",
       "      <th>auc_dev</th>\n",
       "      <th>diff_train_dev</th>\n",
       "    </tr>\n",
       "  </thead>\n",
       "  <tbody>\n",
       "    <tr>\n",
       "      <th>0</th>\n",
       "      <td>21</td>\n",
       "      <td>9</td>\n",
       "      <td>0.850000000</td>\n",
       "      <td>9</td>\n",
       "      <td>0.116799465</td>\n",
       "      <td>492</td>\n",
       "      <td>100.000000000</td>\n",
       "      <td>100.000000000</td>\n",
       "      <td>0.776578439</td>\n",
       "      <td>0.752687915</td>\n",
       "      <td>0.023890524</td>\n",
       "    </tr>\n",
       "    <tr>\n",
       "      <th>1</th>\n",
       "      <td>47</td>\n",
       "      <td>50</td>\n",
       "      <td>0.683180077</td>\n",
       "      <td>9</td>\n",
       "      <td>0.100143196</td>\n",
       "      <td>3958</td>\n",
       "      <td>100.000000000</td>\n",
       "      <td>1000.000000000</td>\n",
       "      <td>0.768067411</td>\n",
       "      <td>0.752629175</td>\n",
       "      <td>0.015438236</td>\n",
       "    </tr>\n",
       "    <tr>\n",
       "      <th>2</th>\n",
       "      <td>29</td>\n",
       "      <td>50</td>\n",
       "      <td>0.816541243</td>\n",
       "      <td>30</td>\n",
       "      <td>0.251763962</td>\n",
       "      <td>492</td>\n",
       "      <td>100.000000000</td>\n",
       "      <td>100.000000000</td>\n",
       "      <td>0.775720866</td>\n",
       "      <td>0.752331256</td>\n",
       "      <td>0.023389610</td>\n",
       "    </tr>\n",
       "    <tr>\n",
       "      <th>3</th>\n",
       "      <td>43</td>\n",
       "      <td>18</td>\n",
       "      <td>0.318448891</td>\n",
       "      <td>20</td>\n",
       "      <td>0.180957119</td>\n",
       "      <td>1363</td>\n",
       "      <td>102.341129767</td>\n",
       "      <td>257.656094799</td>\n",
       "      <td>0.773256502</td>\n",
       "      <td>0.752178836</td>\n",
       "      <td>0.021077666</td>\n",
       "    </tr>\n",
       "    <tr>\n",
       "      <th>4</th>\n",
       "      <td>31</td>\n",
       "      <td>27</td>\n",
       "      <td>0.850000000</td>\n",
       "      <td>9</td>\n",
       "      <td>0.305512631</td>\n",
       "      <td>492</td>\n",
       "      <td>100.000000000</td>\n",
       "      <td>100.000000000</td>\n",
       "      <td>0.775604804</td>\n",
       "      <td>0.751887295</td>\n",
       "      <td>0.023717509</td>\n",
       "    </tr>\n",
       "    <tr>\n",
       "      <th>5</th>\n",
       "      <td>37</td>\n",
       "      <td>50</td>\n",
       "      <td>0.850000000</td>\n",
       "      <td>9</td>\n",
       "      <td>0.161602401</td>\n",
       "      <td>4921</td>\n",
       "      <td>100.000000000</td>\n",
       "      <td>100.000000000</td>\n",
       "      <td>0.767796101</td>\n",
       "      <td>0.751586513</td>\n",
       "      <td>0.016209589</td>\n",
       "    </tr>\n",
       "    <tr>\n",
       "      <th>6</th>\n",
       "      <td>44</td>\n",
       "      <td>41</td>\n",
       "      <td>0.300000000</td>\n",
       "      <td>14</td>\n",
       "      <td>0.241521377</td>\n",
       "      <td>4921</td>\n",
       "      <td>100.000000000</td>\n",
       "      <td>100.000000000</td>\n",
       "      <td>0.767122527</td>\n",
       "      <td>0.751532474</td>\n",
       "      <td>0.015590053</td>\n",
       "    </tr>\n",
       "    <tr>\n",
       "      <th>7</th>\n",
       "      <td>15</td>\n",
       "      <td>50</td>\n",
       "      <td>0.850000000</td>\n",
       "      <td>30</td>\n",
       "      <td>0.345656342</td>\n",
       "      <td>492</td>\n",
       "      <td>100.000000000</td>\n",
       "      <td>1000.000000000</td>\n",
       "      <td>0.774040519</td>\n",
       "      <td>0.751515632</td>\n",
       "      <td>0.022524888</td>\n",
       "    </tr>\n",
       "    <tr>\n",
       "      <th>8</th>\n",
       "      <td>23</td>\n",
       "      <td>37</td>\n",
       "      <td>0.770758626</td>\n",
       "      <td>15</td>\n",
       "      <td>0.198204211</td>\n",
       "      <td>4561</td>\n",
       "      <td>100.681745684</td>\n",
       "      <td>853.451122986</td>\n",
       "      <td>0.766990941</td>\n",
       "      <td>0.751494798</td>\n",
       "      <td>0.015496143</td>\n",
       "    </tr>\n",
       "    <tr>\n",
       "      <th>9</th>\n",
       "      <td>25</td>\n",
       "      <td>50</td>\n",
       "      <td>0.850000000</td>\n",
       "      <td>9</td>\n",
       "      <td>0.300454343</td>\n",
       "      <td>4921</td>\n",
       "      <td>100.000000000</td>\n",
       "      <td>1000.000000000</td>\n",
       "      <td>0.766388504</td>\n",
       "      <td>0.751473130</td>\n",
       "      <td>0.014915373</td>\n",
       "    </tr>\n",
       "    <tr>\n",
       "      <th>10</th>\n",
       "      <td>38</td>\n",
       "      <td>50</td>\n",
       "      <td>0.850000000</td>\n",
       "      <td>9</td>\n",
       "      <td>0.204129118</td>\n",
       "      <td>4921</td>\n",
       "      <td>100.000000000</td>\n",
       "      <td>100.000000000</td>\n",
       "      <td>0.767743290</td>\n",
       "      <td>0.751395171</td>\n",
       "      <td>0.016348120</td>\n",
       "    </tr>\n",
       "    <tr>\n",
       "      <th>11</th>\n",
       "      <td>26</td>\n",
       "      <td>23</td>\n",
       "      <td>0.679237519</td>\n",
       "      <td>30</td>\n",
       "      <td>0.400761586</td>\n",
       "      <td>492</td>\n",
       "      <td>100.000000000</td>\n",
       "      <td>100.000000000</td>\n",
       "      <td>0.775867054</td>\n",
       "      <td>0.751160579</td>\n",
       "      <td>0.024706476</td>\n",
       "    </tr>\n",
       "    <tr>\n",
       "      <th>12</th>\n",
       "      <td>32</td>\n",
       "      <td>50</td>\n",
       "      <td>0.589428630</td>\n",
       "      <td>9</td>\n",
       "      <td>0.297377722</td>\n",
       "      <td>1593</td>\n",
       "      <td>100.000000000</td>\n",
       "      <td>100.000000000</td>\n",
       "      <td>0.772778597</td>\n",
       "      <td>0.751118817</td>\n",
       "      <td>0.021659781</td>\n",
       "    </tr>\n",
       "    <tr>\n",
       "      <th>13</th>\n",
       "      <td>30</td>\n",
       "      <td>43</td>\n",
       "      <td>0.300227492</td>\n",
       "      <td>14</td>\n",
       "      <td>0.328480053</td>\n",
       "      <td>3121</td>\n",
       "      <td>114.182448997</td>\n",
       "      <td>136.152694679</td>\n",
       "      <td>0.769104776</td>\n",
       "      <td>0.750875381</td>\n",
       "      <td>0.018229394</td>\n",
       "    </tr>\n",
       "    <tr>\n",
       "      <th>14</th>\n",
       "      <td>35</td>\n",
       "      <td>50</td>\n",
       "      <td>0.300000000</td>\n",
       "      <td>9</td>\n",
       "      <td>0.438008982</td>\n",
       "      <td>1774</td>\n",
       "      <td>100.000000000</td>\n",
       "      <td>100.000000000</td>\n",
       "      <td>0.771175483</td>\n",
       "      <td>0.750296160</td>\n",
       "      <td>0.020879323</td>\n",
       "    </tr>\n",
       "    <tr>\n",
       "      <th>15</th>\n",
       "      <td>17</td>\n",
       "      <td>40</td>\n",
       "      <td>0.300000000</td>\n",
       "      <td>22</td>\n",
       "      <td>0.666171501</td>\n",
       "      <td>492</td>\n",
       "      <td>100.000000000</td>\n",
       "      <td>391.709109851</td>\n",
       "      <td>0.772403679</td>\n",
       "      <td>0.749522321</td>\n",
       "      <td>0.022881358</td>\n",
       "    </tr>\n",
       "    <tr>\n",
       "      <th>16</th>\n",
       "      <td>24</td>\n",
       "      <td>25</td>\n",
       "      <td>0.488697654</td>\n",
       "      <td>30</td>\n",
       "      <td>0.448831156</td>\n",
       "      <td>1388</td>\n",
       "      <td>115.744734660</td>\n",
       "      <td>515.024099841</td>\n",
       "      <td>0.769573094</td>\n",
       "      <td>0.749386463</td>\n",
       "      <td>0.020186631</td>\n",
       "    </tr>\n",
       "    <tr>\n",
       "      <th>17</th>\n",
       "      <td>13</td>\n",
       "      <td>7</td>\n",
       "      <td>0.850000000</td>\n",
       "      <td>15</td>\n",
       "      <td>0.568402098</td>\n",
       "      <td>2398</td>\n",
       "      <td>100.000000000</td>\n",
       "      <td>151.859295692</td>\n",
       "      <td>0.767095110</td>\n",
       "      <td>0.749371583</td>\n",
       "      <td>0.017723527</td>\n",
       "    </tr>\n",
       "    <tr>\n",
       "      <th>18</th>\n",
       "      <td>16</td>\n",
       "      <td>10</td>\n",
       "      <td>0.300000000</td>\n",
       "      <td>23</td>\n",
       "      <td>0.584460006</td>\n",
       "      <td>4921</td>\n",
       "      <td>100.000000000</td>\n",
       "      <td>146.767111505</td>\n",
       "      <td>0.765549094</td>\n",
       "      <td>0.749266084</td>\n",
       "      <td>0.016283009</td>\n",
       "    </tr>\n",
       "    <tr>\n",
       "      <th>19</th>\n",
       "      <td>27</td>\n",
       "      <td>2</td>\n",
       "      <td>0.850000000</td>\n",
       "      <td>30</td>\n",
       "      <td>0.199589189</td>\n",
       "      <td>492</td>\n",
       "      <td>100.000000000</td>\n",
       "      <td>1000.000000000</td>\n",
       "      <td>0.765793085</td>\n",
       "      <td>0.749091324</td>\n",
       "      <td>0.016701762</td>\n",
       "    </tr>\n",
       "    <tr>\n",
       "      <th>20</th>\n",
       "      <td>48</td>\n",
       "      <td>36</td>\n",
       "      <td>0.354947580</td>\n",
       "      <td>28</td>\n",
       "      <td>0.541463321</td>\n",
       "      <td>4665</td>\n",
       "      <td>124.076941007</td>\n",
       "      <td>951.729832453</td>\n",
       "      <td>0.762754153</td>\n",
       "      <td>0.748582667</td>\n",
       "      <td>0.014171487</td>\n",
       "    </tr>\n",
       "    <tr>\n",
       "      <th>21</th>\n",
       "      <td>28</td>\n",
       "      <td>49</td>\n",
       "      <td>0.478097583</td>\n",
       "      <td>27</td>\n",
       "      <td>0.596194464</td>\n",
       "      <td>4535</td>\n",
       "      <td>103.487442139</td>\n",
       "      <td>108.483679291</td>\n",
       "      <td>0.765352949</td>\n",
       "      <td>0.748263881</td>\n",
       "      <td>0.017089068</td>\n",
       "    </tr>\n",
       "    <tr>\n",
       "      <th>22</th>\n",
       "      <td>39</td>\n",
       "      <td>4</td>\n",
       "      <td>0.303888843</td>\n",
       "      <td>28</td>\n",
       "      <td>0.850097679</td>\n",
       "      <td>4464</td>\n",
       "      <td>105.670497320</td>\n",
       "      <td>651.522441618</td>\n",
       "      <td>0.763180767</td>\n",
       "      <td>0.747140197</td>\n",
       "      <td>0.016040570</td>\n",
       "    </tr>\n",
       "    <tr>\n",
       "      <th>23</th>\n",
       "      <td>40</td>\n",
       "      <td>19</td>\n",
       "      <td>0.849886540</td>\n",
       "      <td>14</td>\n",
       "      <td>0.746115685</td>\n",
       "      <td>4270</td>\n",
       "      <td>113.489548932</td>\n",
       "      <td>947.621055961</td>\n",
       "      <td>0.763084462</td>\n",
       "      <td>0.746937753</td>\n",
       "      <td>0.016146710</td>\n",
       "    </tr>\n",
       "    <tr>\n",
       "      <th>24</th>\n",
       "      <td>10</td>\n",
       "      <td>2</td>\n",
       "      <td>0.769198096</td>\n",
       "      <td>22</td>\n",
       "      <td>0.352409908</td>\n",
       "      <td>1031</td>\n",
       "      <td>261.501025010</td>\n",
       "      <td>134.983362105</td>\n",
       "      <td>0.758692661</td>\n",
       "      <td>0.746708887</td>\n",
       "      <td>0.011983774</td>\n",
       "    </tr>\n",
       "    <tr>\n",
       "      <th>25</th>\n",
       "      <td>34</td>\n",
       "      <td>44</td>\n",
       "      <td>0.606648389</td>\n",
       "      <td>11</td>\n",
       "      <td>0.979120474</td>\n",
       "      <td>1308</td>\n",
       "      <td>103.020552883</td>\n",
       "      <td>750.415235920</td>\n",
       "      <td>0.769215333</td>\n",
       "      <td>0.746199171</td>\n",
       "      <td>0.023016162</td>\n",
       "    </tr>\n",
       "    <tr>\n",
       "      <th>26</th>\n",
       "      <td>6</td>\n",
       "      <td>7</td>\n",
       "      <td>0.833394987</td>\n",
       "      <td>23</td>\n",
       "      <td>0.171738676</td>\n",
       "      <td>2078</td>\n",
       "      <td>563.230469624</td>\n",
       "      <td>405.350458615</td>\n",
       "      <td>0.755142120</td>\n",
       "      <td>0.745471983</td>\n",
       "      <td>0.009670137</td>\n",
       "    </tr>\n",
       "    <tr>\n",
       "      <th>27</th>\n",
       "      <td>1</td>\n",
       "      <td>5</td>\n",
       "      <td>0.449960962</td>\n",
       "      <td>19</td>\n",
       "      <td>0.812356560</td>\n",
       "      <td>2618</td>\n",
       "      <td>247.049964660</td>\n",
       "      <td>685.612557698</td>\n",
       "      <td>0.758093621</td>\n",
       "      <td>0.745341567</td>\n",
       "      <td>0.012752054</td>\n",
       "    </tr>\n",
       "    <tr>\n",
       "      <th>28</th>\n",
       "      <td>22</td>\n",
       "      <td>49</td>\n",
       "      <td>0.300000000</td>\n",
       "      <td>29</td>\n",
       "      <td>1.000000000</td>\n",
       "      <td>4921</td>\n",
       "      <td>100.000000000</td>\n",
       "      <td>100.000000000</td>\n",
       "      <td>0.764055945</td>\n",
       "      <td>0.744370920</td>\n",
       "      <td>0.019685025</td>\n",
       "    </tr>\n",
       "    <tr>\n",
       "      <th>29</th>\n",
       "      <td>49</td>\n",
       "      <td>49</td>\n",
       "      <td>0.793450165</td>\n",
       "      <td>21</td>\n",
       "      <td>0.883162909</td>\n",
       "      <td>1062</td>\n",
       "      <td>103.839038287</td>\n",
       "      <td>109.868995439</td>\n",
       "      <td>0.766556747</td>\n",
       "      <td>0.743867996</td>\n",
       "      <td>0.022688751</td>\n",
       "    </tr>\n",
       "    <tr>\n",
       "      <th>30</th>\n",
       "      <td>4</td>\n",
       "      <td>7</td>\n",
       "      <td>0.560480231</td>\n",
       "      <td>13</td>\n",
       "      <td>0.737181259</td>\n",
       "      <td>1451</td>\n",
       "      <td>136.526882465</td>\n",
       "      <td>210.931289563</td>\n",
       "      <td>0.765063348</td>\n",
       "      <td>0.743530983</td>\n",
       "      <td>0.021532365</td>\n",
       "    </tr>\n",
       "    <tr>\n",
       "      <th>31</th>\n",
       "      <td>0</td>\n",
       "      <td>30</td>\n",
       "      <td>0.764346162</td>\n",
       "      <td>27</td>\n",
       "      <td>0.847404487</td>\n",
       "      <td>3254</td>\n",
       "      <td>242.315785729</td>\n",
       "      <td>198.396774204</td>\n",
       "      <td>0.756509820</td>\n",
       "      <td>0.743126308</td>\n",
       "      <td>0.013383512</td>\n",
       "    </tr>\n",
       "    <tr>\n",
       "      <th>32</th>\n",
       "      <td>8</td>\n",
       "      <td>30</td>\n",
       "      <td>0.527902724</td>\n",
       "      <td>19</td>\n",
       "      <td>0.623886591</td>\n",
       "      <td>1989</td>\n",
       "      <td>472.881498166</td>\n",
       "      <td>207.587759737</td>\n",
       "      <td>0.752872730</td>\n",
       "      <td>0.743109743</td>\n",
       "      <td>0.009762987</td>\n",
       "    </tr>\n",
       "    <tr>\n",
       "      <th>33</th>\n",
       "      <td>20</td>\n",
       "      <td>42</td>\n",
       "      <td>0.838825157</td>\n",
       "      <td>25</td>\n",
       "      <td>0.990777440</td>\n",
       "      <td>2464</td>\n",
       "      <td>111.756091280</td>\n",
       "      <td>233.055641978</td>\n",
       "      <td>0.764662493</td>\n",
       "      <td>0.742580760</td>\n",
       "      <td>0.022081733</td>\n",
       "    </tr>\n",
       "    <tr>\n",
       "      <th>34</th>\n",
       "      <td>9</td>\n",
       "      <td>39</td>\n",
       "      <td>0.822264079</td>\n",
       "      <td>23</td>\n",
       "      <td>0.014558064</td>\n",
       "      <td>3251</td>\n",
       "      <td>471.693216726</td>\n",
       "      <td>937.443284943</td>\n",
       "      <td>0.746507076</td>\n",
       "      <td>0.742526804</td>\n",
       "      <td>0.003980272</td>\n",
       "    </tr>\n",
       "    <tr>\n",
       "      <th>35</th>\n",
       "      <td>3</td>\n",
       "      <td>40</td>\n",
       "      <td>0.586262614</td>\n",
       "      <td>23</td>\n",
       "      <td>0.720912022</td>\n",
       "      <td>3070</td>\n",
       "      <td>344.645989731</td>\n",
       "      <td>573.608560803</td>\n",
       "      <td>0.753736773</td>\n",
       "      <td>0.742197400</td>\n",
       "      <td>0.011539373</td>\n",
       "    </tr>\n",
       "    <tr>\n",
       "      <th>36</th>\n",
       "      <td>45</td>\n",
       "      <td>15</td>\n",
       "      <td>0.846588476</td>\n",
       "      <td>22</td>\n",
       "      <td>0.076376927</td>\n",
       "      <td>1811</td>\n",
       "      <td>894.073852402</td>\n",
       "      <td>427.074479930</td>\n",
       "      <td>0.746438032</td>\n",
       "      <td>0.741342725</td>\n",
       "      <td>0.005095307</td>\n",
       "    </tr>\n",
       "    <tr>\n",
       "      <th>37</th>\n",
       "      <td>41</td>\n",
       "      <td>49</td>\n",
       "      <td>0.642976773</td>\n",
       "      <td>25</td>\n",
       "      <td>0.213770803</td>\n",
       "      <td>1412</td>\n",
       "      <td>884.679722080</td>\n",
       "      <td>176.329928448</td>\n",
       "      <td>0.746064052</td>\n",
       "      <td>0.741001325</td>\n",
       "      <td>0.005062728</td>\n",
       "    </tr>\n",
       "    <tr>\n",
       "      <th>38</th>\n",
       "      <td>5</td>\n",
       "      <td>9</td>\n",
       "      <td>0.422276764</td>\n",
       "      <td>17</td>\n",
       "      <td>0.902695877</td>\n",
       "      <td>2485</td>\n",
       "      <td>410.264045232</td>\n",
       "      <td>798.635448772</td>\n",
       "      <td>0.751461122</td>\n",
       "      <td>0.740331088</td>\n",
       "      <td>0.011130034</td>\n",
       "    </tr>\n",
       "    <tr>\n",
       "      <th>39</th>\n",
       "      <td>18</td>\n",
       "      <td>18</td>\n",
       "      <td>0.844832335</td>\n",
       "      <td>18</td>\n",
       "      <td>0.554821588</td>\n",
       "      <td>732</td>\n",
       "      <td>836.106399382</td>\n",
       "      <td>411.424059997</td>\n",
       "      <td>0.746467331</td>\n",
       "      <td>0.740132017</td>\n",
       "      <td>0.006335314</td>\n",
       "    </tr>\n",
       "    <tr>\n",
       "      <th>40</th>\n",
       "      <td>33</td>\n",
       "      <td>24</td>\n",
       "      <td>0.358315819</td>\n",
       "      <td>12</td>\n",
       "      <td>0.334353234</td>\n",
       "      <td>1854</td>\n",
       "      <td>952.317900197</td>\n",
       "      <td>109.633432667</td>\n",
       "      <td>0.743505017</td>\n",
       "      <td>0.738841585</td>\n",
       "      <td>0.004663432</td>\n",
       "    </tr>\n",
       "    <tr>\n",
       "      <th>41</th>\n",
       "      <td>7</td>\n",
       "      <td>18</td>\n",
       "      <td>0.321133985</td>\n",
       "      <td>22</td>\n",
       "      <td>0.958990319</td>\n",
       "      <td>3383</td>\n",
       "      <td>431.577578158</td>\n",
       "      <td>989.235214108</td>\n",
       "      <td>0.751002263</td>\n",
       "      <td>0.738021983</td>\n",
       "      <td>0.012980280</td>\n",
       "    </tr>\n",
       "    <tr>\n",
       "      <th>42</th>\n",
       "      <td>14</td>\n",
       "      <td>2</td>\n",
       "      <td>0.850000000</td>\n",
       "      <td>30</td>\n",
       "      <td>0.400858995</td>\n",
       "      <td>4921</td>\n",
       "      <td>1000.000000000</td>\n",
       "      <td>1000.000000000</td>\n",
       "      <td>0.738112521</td>\n",
       "      <td>0.737247784</td>\n",
       "      <td>0.000864737</td>\n",
       "    </tr>\n",
       "    <tr>\n",
       "      <th>43</th>\n",
       "      <td>46</td>\n",
       "      <td>41</td>\n",
       "      <td>0.848553348</td>\n",
       "      <td>19</td>\n",
       "      <td>0.775246282</td>\n",
       "      <td>4719</td>\n",
       "      <td>903.434663027</td>\n",
       "      <td>666.420240504</td>\n",
       "      <td>0.740283000</td>\n",
       "      <td>0.737068502</td>\n",
       "      <td>0.003214498</td>\n",
       "    </tr>\n",
       "    <tr>\n",
       "      <th>44</th>\n",
       "      <td>19</td>\n",
       "      <td>15</td>\n",
       "      <td>0.305239260</td>\n",
       "      <td>24</td>\n",
       "      <td>0.639165343</td>\n",
       "      <td>3809</td>\n",
       "      <td>946.665915383</td>\n",
       "      <td>580.892116588</td>\n",
       "      <td>0.739534687</td>\n",
       "      <td>0.736389583</td>\n",
       "      <td>0.003145104</td>\n",
       "    </tr>\n",
       "    <tr>\n",
       "      <th>45</th>\n",
       "      <td>2</td>\n",
       "      <td>18</td>\n",
       "      <td>0.656494530</td>\n",
       "      <td>17</td>\n",
       "      <td>0.957198004</td>\n",
       "      <td>1114</td>\n",
       "      <td>741.459200167</td>\n",
       "      <td>297.582950389</td>\n",
       "      <td>0.742585349</td>\n",
       "      <td>0.734349790</td>\n",
       "      <td>0.008235559</td>\n",
       "    </tr>\n",
       "    <tr>\n",
       "      <th>46</th>\n",
       "      <td>42</td>\n",
       "      <td>48</td>\n",
       "      <td>0.780745314</td>\n",
       "      <td>18</td>\n",
       "      <td>0.001174739</td>\n",
       "      <td>899</td>\n",
       "      <td>103.903054335</td>\n",
       "      <td>278.577381750</td>\n",
       "      <td>0.738210260</td>\n",
       "      <td>0.731006906</td>\n",
       "      <td>0.007203355</td>\n",
       "    </tr>\n",
       "    <tr>\n",
       "      <th>47</th>\n",
       "      <td>11</td>\n",
       "      <td>2</td>\n",
       "      <td>0.457844884</td>\n",
       "      <td>25</td>\n",
       "      <td>0.001000000</td>\n",
       "      <td>1450</td>\n",
       "      <td>100.000000000</td>\n",
       "      <td>103.323100353</td>\n",
       "      <td>0.718102821</td>\n",
       "      <td>0.720133786</td>\n",
       "      <td>-0.002030965</td>\n",
       "    </tr>\n",
       "    <tr>\n",
       "      <th>48</th>\n",
       "      <td>36</td>\n",
       "      <td>50</td>\n",
       "      <td>0.300000000</td>\n",
       "      <td>30</td>\n",
       "      <td>0.001000000</td>\n",
       "      <td>492</td>\n",
       "      <td>1000.000000000</td>\n",
       "      <td>100.000000000</td>\n",
       "      <td>0.720048730</td>\n",
       "      <td>0.717905085</td>\n",
       "      <td>0.002143645</td>\n",
       "    </tr>\n",
       "    <tr>\n",
       "      <th>49</th>\n",
       "      <td>12</td>\n",
       "      <td>2</td>\n",
       "      <td>0.300000000</td>\n",
       "      <td>9</td>\n",
       "      <td>0.001000000</td>\n",
       "      <td>492</td>\n",
       "      <td>1000.000000000</td>\n",
       "      <td>100.000000000</td>\n",
       "      <td>0.713033618</td>\n",
       "      <td>0.715955097</td>\n",
       "      <td>-0.002921478</td>\n",
       "    </tr>\n",
       "  </tbody>\n",
       "</table>\n",
       "</div>"
      ],
      "text/plain": [
       "    n_iteracion  max_depth   subsample  max_features  learning_rate  \\\n",
       "0            21          9 0.850000000             9    0.116799465   \n",
       "1            47         50 0.683180077             9    0.100143196   \n",
       "2            29         50 0.816541243            30    0.251763962   \n",
       "3            43         18 0.318448891            20    0.180957119   \n",
       "4            31         27 0.850000000             9    0.305512631   \n",
       "5            37         50 0.850000000             9    0.161602401   \n",
       "6            44         41 0.300000000            14    0.241521377   \n",
       "7            15         50 0.850000000            30    0.345656342   \n",
       "8            23         37 0.770758626            15    0.198204211   \n",
       "9            25         50 0.850000000             9    0.300454343   \n",
       "10           38         50 0.850000000             9    0.204129118   \n",
       "11           26         23 0.679237519            30    0.400761586   \n",
       "12           32         50 0.589428630             9    0.297377722   \n",
       "13           30         43 0.300227492            14    0.328480053   \n",
       "14           35         50 0.300000000             9    0.438008982   \n",
       "15           17         40 0.300000000            22    0.666171501   \n",
       "16           24         25 0.488697654            30    0.448831156   \n",
       "17           13          7 0.850000000            15    0.568402098   \n",
       "18           16         10 0.300000000            23    0.584460006   \n",
       "19           27          2 0.850000000            30    0.199589189   \n",
       "20           48         36 0.354947580            28    0.541463321   \n",
       "21           28         49 0.478097583            27    0.596194464   \n",
       "22           39          4 0.303888843            28    0.850097679   \n",
       "23           40         19 0.849886540            14    0.746115685   \n",
       "24           10          2 0.769198096            22    0.352409908   \n",
       "25           34         44 0.606648389            11    0.979120474   \n",
       "26            6          7 0.833394987            23    0.171738676   \n",
       "27            1          5 0.449960962            19    0.812356560   \n",
       "28           22         49 0.300000000            29    1.000000000   \n",
       "29           49         49 0.793450165            21    0.883162909   \n",
       "30            4          7 0.560480231            13    0.737181259   \n",
       "31            0         30 0.764346162            27    0.847404487   \n",
       "32            8         30 0.527902724            19    0.623886591   \n",
       "33           20         42 0.838825157            25    0.990777440   \n",
       "34            9         39 0.822264079            23    0.014558064   \n",
       "35            3         40 0.586262614            23    0.720912022   \n",
       "36           45         15 0.846588476            22    0.076376927   \n",
       "37           41         49 0.642976773            25    0.213770803   \n",
       "38            5          9 0.422276764            17    0.902695877   \n",
       "39           18         18 0.844832335            18    0.554821588   \n",
       "40           33         24 0.358315819            12    0.334353234   \n",
       "41            7         18 0.321133985            22    0.958990319   \n",
       "42           14          2 0.850000000            30    0.400858995   \n",
       "43           46         41 0.848553348            19    0.775246282   \n",
       "44           19         15 0.305239260            24    0.639165343   \n",
       "45            2         18 0.656494530            17    0.957198004   \n",
       "46           42         48 0.780745314            18    0.001174739   \n",
       "47           11          2 0.457844884            25    0.001000000   \n",
       "48           36         50 0.300000000            30    0.001000000   \n",
       "49           12          2 0.300000000             9    0.001000000   \n",
       "\n",
       "    min_child_samples      reg_alpha     reg_lambda   auc_train     auc_dev  \\\n",
       "0                 492  100.000000000  100.000000000 0.776578439 0.752687915   \n",
       "1                3958  100.000000000 1000.000000000 0.768067411 0.752629175   \n",
       "2                 492  100.000000000  100.000000000 0.775720866 0.752331256   \n",
       "3                1363  102.341129767  257.656094799 0.773256502 0.752178836   \n",
       "4                 492  100.000000000  100.000000000 0.775604804 0.751887295   \n",
       "5                4921  100.000000000  100.000000000 0.767796101 0.751586513   \n",
       "6                4921  100.000000000  100.000000000 0.767122527 0.751532474   \n",
       "7                 492  100.000000000 1000.000000000 0.774040519 0.751515632   \n",
       "8                4561  100.681745684  853.451122986 0.766990941 0.751494798   \n",
       "9                4921  100.000000000 1000.000000000 0.766388504 0.751473130   \n",
       "10               4921  100.000000000  100.000000000 0.767743290 0.751395171   \n",
       "11                492  100.000000000  100.000000000 0.775867054 0.751160579   \n",
       "12               1593  100.000000000  100.000000000 0.772778597 0.751118817   \n",
       "13               3121  114.182448997  136.152694679 0.769104776 0.750875381   \n",
       "14               1774  100.000000000  100.000000000 0.771175483 0.750296160   \n",
       "15                492  100.000000000  391.709109851 0.772403679 0.749522321   \n",
       "16               1388  115.744734660  515.024099841 0.769573094 0.749386463   \n",
       "17               2398  100.000000000  151.859295692 0.767095110 0.749371583   \n",
       "18               4921  100.000000000  146.767111505 0.765549094 0.749266084   \n",
       "19                492  100.000000000 1000.000000000 0.765793085 0.749091324   \n",
       "20               4665  124.076941007  951.729832453 0.762754153 0.748582667   \n",
       "21               4535  103.487442139  108.483679291 0.765352949 0.748263881   \n",
       "22               4464  105.670497320  651.522441618 0.763180767 0.747140197   \n",
       "23               4270  113.489548932  947.621055961 0.763084462 0.746937753   \n",
       "24               1031  261.501025010  134.983362105 0.758692661 0.746708887   \n",
       "25               1308  103.020552883  750.415235920 0.769215333 0.746199171   \n",
       "26               2078  563.230469624  405.350458615 0.755142120 0.745471983   \n",
       "27               2618  247.049964660  685.612557698 0.758093621 0.745341567   \n",
       "28               4921  100.000000000  100.000000000 0.764055945 0.744370920   \n",
       "29               1062  103.839038287  109.868995439 0.766556747 0.743867996   \n",
       "30               1451  136.526882465  210.931289563 0.765063348 0.743530983   \n",
       "31               3254  242.315785729  198.396774204 0.756509820 0.743126308   \n",
       "32               1989  472.881498166  207.587759737 0.752872730 0.743109743   \n",
       "33               2464  111.756091280  233.055641978 0.764662493 0.742580760   \n",
       "34               3251  471.693216726  937.443284943 0.746507076 0.742526804   \n",
       "35               3070  344.645989731  573.608560803 0.753736773 0.742197400   \n",
       "36               1811  894.073852402  427.074479930 0.746438032 0.741342725   \n",
       "37               1412  884.679722080  176.329928448 0.746064052 0.741001325   \n",
       "38               2485  410.264045232  798.635448772 0.751461122 0.740331088   \n",
       "39                732  836.106399382  411.424059997 0.746467331 0.740132017   \n",
       "40               1854  952.317900197  109.633432667 0.743505017 0.738841585   \n",
       "41               3383  431.577578158  989.235214108 0.751002263 0.738021983   \n",
       "42               4921 1000.000000000 1000.000000000 0.738112521 0.737247784   \n",
       "43               4719  903.434663027  666.420240504 0.740283000 0.737068502   \n",
       "44               3809  946.665915383  580.892116588 0.739534687 0.736389583   \n",
       "45               1114  741.459200167  297.582950389 0.742585349 0.734349790   \n",
       "46                899  103.903054335  278.577381750 0.738210260 0.731006906   \n",
       "47               1450  100.000000000  103.323100353 0.718102821 0.720133786   \n",
       "48                492 1000.000000000  100.000000000 0.720048730 0.717905085   \n",
       "49                492 1000.000000000  100.000000000 0.713033618 0.715955097   \n",
       "\n",
       "    diff_train_dev  \n",
       "0      0.023890524  \n",
       "1      0.015438236  \n",
       "2      0.023389610  \n",
       "3      0.021077666  \n",
       "4      0.023717509  \n",
       "5      0.016209589  \n",
       "6      0.015590053  \n",
       "7      0.022524888  \n",
       "8      0.015496143  \n",
       "9      0.014915373  \n",
       "10     0.016348120  \n",
       "11     0.024706476  \n",
       "12     0.021659781  \n",
       "13     0.018229394  \n",
       "14     0.020879323  \n",
       "15     0.022881358  \n",
       "16     0.020186631  \n",
       "17     0.017723527  \n",
       "18     0.016283009  \n",
       "19     0.016701762  \n",
       "20     0.014171487  \n",
       "21     0.017089068  \n",
       "22     0.016040570  \n",
       "23     0.016146710  \n",
       "24     0.011983774  \n",
       "25     0.023016162  \n",
       "26     0.009670137  \n",
       "27     0.012752054  \n",
       "28     0.019685025  \n",
       "29     0.022688751  \n",
       "30     0.021532365  \n",
       "31     0.013383512  \n",
       "32     0.009762987  \n",
       "33     0.022081733  \n",
       "34     0.003980272  \n",
       "35     0.011539373  \n",
       "36     0.005095307  \n",
       "37     0.005062728  \n",
       "38     0.011130034  \n",
       "39     0.006335314  \n",
       "40     0.004663432  \n",
       "41     0.012980280  \n",
       "42     0.000864737  \n",
       "43     0.003214498  \n",
       "44     0.003145104  \n",
       "45     0.008235559  \n",
       "46     0.007203355  \n",
       "47    -0.002030965  \n",
       "48     0.002143645  \n",
       "49    -0.002921478  "
      ]
     },
     "execution_count": 28,
     "metadata": {},
     "output_type": "execute_result"
    }
   ],
   "source": [
    "df_hpsearch"
   ]
  },
  {
   "cell_type": "markdown",
   "metadata": {},
   "source": [
    "Export the search as an excel file to explore it more comfortably"
   ]
  },
  {
   "cell_type": "code",
   "execution_count": 57,
   "metadata": {},
   "outputs": [],
   "source": [
    "# Exportamos excel con resultados\n",
    "df_hpsearch.to_excel('model/model_hpsearch.xlsx')"
   ]
  },
  {
   "cell_type": "markdown",
   "metadata": {},
   "source": [
    "## Get the best hyperparameters"
   ]
  },
  {
   "cell_type": "code",
   "execution_count": 30,
   "metadata": {},
   "outputs": [
    {
     "data": {
      "text/plain": [
       "{'max_depth': 9,\n",
       " 'subsample': 0.85,\n",
       " 'max_features': 9,\n",
       " 'learning_rate': 0.11679946457287535,\n",
       " 'min_child_samples': 492.0,\n",
       " 'reg_alpha': 100.0,\n",
       " 'reg_lambda': 100.0,\n",
       " 'random_state': 0,\n",
       " 'n_estimators': 200,\n",
       " 'objective': 'binary',\n",
       " 'boosting_type': 'gbdt'}"
      ]
     },
     "execution_count": 30,
     "metadata": {},
     "output_type": "execute_result"
    }
   ],
   "source": [
    "# Tomamos la primer fila de los mejores hiperparámetros y la convertimos en diccionario\n",
    "best_params = df_hpsearch.iloc[0][param_names].to_dict()\n",
    "# Agregamos los hiperparámetros que no modificamos (los fijos)\n",
    "best_params.update(FIXED_PARAMS)\n",
    "# Convertimos a Int (entero) aquellos parámetros que quedan guardados como float\n",
    "best_params['n_estimators'] = int(best_params['n_estimators'])\n",
    "best_params['max_depth'] = int(best_params['max_depth'])\n",
    "best_params['max_features'] = int(best_params['max_features'])\n",
    "\n",
    "best_params"
   ]
  },
  {
   "cell_type": "markdown",
   "metadata": {},
   "source": [
    "### Set the best parameters to the model"
   ]
  },
  {
   "cell_type": "code",
   "execution_count": 31,
   "metadata": {},
   "outputs": [],
   "source": [
    "model_fitted = lgb.LGBMClassifier().set_params(**best_params)"
   ]
  },
  {
   "cell_type": "markdown",
   "metadata": {},
   "source": [
    "## Performance in other samples"
   ]
  },
  {
   "cell_type": "markdown",
   "metadata": {},
   "source": [
    "### Does the model hold it's performance in another validation set? "
   ]
  },
  {
   "cell_type": "code",
   "execution_count": 32,
   "metadata": {},
   "outputs": [
    {
     "data": {
      "text/plain": [
       "array([0.834655  , 0.34344223, 0.51359362, ..., 0.4769057 , 0.58991018,\n",
       "       0.33428778])"
      ]
     },
     "execution_count": 32,
     "metadata": {},
     "output_type": "execute_result"
    }
   ],
   "source": [
    "# Transform X_val using the preprocessing pipeline\n",
    "X_val_prep = pipe_fitted.transform(X_val)\n",
    "# then we predict the target\n",
    "y_val_pred = model.predict_proba(X_val_prep)\n",
    "y_val_pred=pd.DataFrame(y_val_pred)[1].values\n",
    "y_val_pred"
   ]
  },
  {
   "cell_type": "code",
   "execution_count": 33,
   "metadata": {},
   "outputs": [
    {
     "name": "stdout",
     "output_type": "stream",
     "text": [
      "AUC Val: 0.7402487850224584\n"
     ]
    }
   ],
   "source": [
    "auc_val = roc_auc_score(y_val['target'].values, y_val_pred)\n",
    "print(f\"AUC Val: {auc_val}\")"
   ]
  },
  {
   "cell_type": "markdown",
   "metadata": {},
   "source": [
    "### Does the model hold it's performance over time?"
   ]
  },
  {
   "cell_type": "code",
   "execution_count": 34,
   "metadata": {},
   "outputs": [],
   "source": [
    "# Same process for the Out of Time sample\n",
    "# Split X and y from OOT sample and transform the X using the preprocessing pipeline\n",
    "X_oot, y_oot = df_oot.drop(columns='target'), df_oot[['target']]\n",
    "X_oot_prep = pipe_fitted.transform(X_oot)\n",
    "# then we predict the target\n",
    "y_oot_pred = model.predict_proba(X_oot_prep)\n",
    "y_oot_pred=pd.DataFrame(y_oot_pred)[1].values"
   ]
  },
  {
   "cell_type": "code",
   "execution_count": 35,
   "metadata": {},
   "outputs": [
    {
     "name": "stdout",
     "output_type": "stream",
     "text": [
      "AUC OOT: 0.7123919110974128\n"
     ]
    }
   ],
   "source": [
    "auc_oot = roc_auc_score(y_oot, y_oot_pred)\n",
    "print(f\"AUC OOT: {auc_oot}\")"
   ]
  },
  {
   "cell_type": "markdown",
   "metadata": {},
   "source": [
    "## Feature Importance (SHAP)"
   ]
  },
  {
   "cell_type": "code",
   "execution_count": 38,
   "metadata": {},
   "outputs": [],
   "source": [
    "# # Utilizamos el explicador de SHAP\n",
    "# explainer = shap.TreeExplainer(model)\n",
    "# # Y pedimos que nos otorgue los valores de importancia que tendrá en el dataframe de validacion\n",
    "# shap_values = explainer.shap_values(X_val_prep)"
   ]
  },
  {
   "cell_type": "code",
   "execution_count": 39,
   "metadata": {},
   "outputs": [
    {
     "data": {
      "text/plain": [
       "(49209, 30)"
      ]
     },
     "execution_count": 39,
     "metadata": {},
     "output_type": "execute_result"
    }
   ],
   "source": [
    "X_train_prep.shape"
   ]
  },
  {
   "cell_type": "code",
   "execution_count": 40,
   "metadata": {},
   "outputs": [
    {
     "data": {
      "text/plain": [
       "(24604, 30)"
      ]
     },
     "execution_count": 40,
     "metadata": {},
     "output_type": "execute_result"
    }
   ],
   "source": [
    "X_val_prep.shape"
   ]
  },
  {
   "cell_type": "code",
   "execution_count": 41,
   "metadata": {},
   "outputs": [],
   "source": [
    "explainer = shap.Explainer(model, X_val_prep)"
   ]
  },
  {
   "cell_type": "code",
   "execution_count": 42,
   "metadata": {},
   "outputs": [],
   "source": [
    "shap_values = explainer(X_val_prep,  check_additivity=False)"
   ]
  },
  {
   "cell_type": "code",
   "execution_count": 43,
   "metadata": {},
   "outputs": [
    {
     "data": {
      "image/png": "[encoded data removed]",
      "text/plain": [
       "<Figure size 800x950 with 1 Axes>"
      ]
     },
     "metadata": {},
     "output_type": "display_data"
    }
   ],
   "source": [
    "# Graficamos solo la importancia de cada variable\n",
    "shap.summary_plot(shap_values, X_val_prep, plot_type=\"bar\")"
   ]
  },
  {
   "cell_type": "code",
   "execution_count": 44,
   "metadata": {},
   "outputs": [
    {
     "data": {
      "image/png": "[encoded data removed]",
      "text/plain": [
       "<Figure size 800x950 with 2 Axes>"
      ]
     },
     "metadata": {},
     "output_type": "display_data"
    }
   ],
   "source": [
    "# Graficamos \n",
    "shap.summary_plot(shap_values, X_val_prep)"
   ]
  },
  {
   "cell_type": "markdown",
   "metadata": {},
   "source": [
    "# Final Classification (optimizing F1 Score)"
   ]
  },
  {
   "cell_type": "code",
   "execution_count": 46,
   "metadata": {},
   "outputs": [
    {
     "data": {
      "text/plain": [
       "<matplotlib.collections.PathCollection at 0x1c014945a88>"
      ]
     },
     "execution_count": 46,
     "metadata": {},
     "output_type": "execute_result"
    },
    {
     "data": {
      "text/plain": [
       "[<matplotlib.lines.Line2D at 0x1c01482f188>]"
      ]
     },
     "execution_count": 46,
     "metadata": {},
     "output_type": "execute_result"
    },
    {
     "data": {
      "text/plain": [
       "[<matplotlib.lines.Line2D at 0x1c014952ec8>]"
      ]
     },
     "execution_count": 46,
     "metadata": {},
     "output_type": "execute_result"
    },
    {
     "data": {
      "text/plain": [
       "Text(0, 0.5, 'Recall')"
      ]
     },
     "execution_count": 46,
     "metadata": {},
     "output_type": "execute_result"
    },
    {
     "data": {
      "text/plain": [
       "Text(0.5, 0, 'Precision')"
      ]
     },
     "execution_count": 46,
     "metadata": {},
     "output_type": "execute_result"
    },
    {
     "data": {
      "text/plain": [
       "Text(0.5, 1.0, 'Precision Recall Curve')"
      ]
     },
     "execution_count": 46,
     "metadata": {},
     "output_type": "execute_result"
    },
    {
     "data": {
      "text/plain": [
       "Text(0, 0.5, 'F1 Score')"
      ]
     },
     "execution_count": 46,
     "metadata": {},
     "output_type": "execute_result"
    },
    {
     "data": {
      "text/plain": [
       "<matplotlib.legend.Legend at 0x1c014993988>"
      ]
     },
     "execution_count": 46,
     "metadata": {},
     "output_type": "execute_result"
    },
    {
     "data": {
      "image/png": "[encoded data removed]",
      "text/plain": [
       "<Figure size 640x480 with 2 Axes>"
      ]
     },
     "metadata": {},
     "output_type": "display_data"
    }
   ],
   "source": [
    "plt.style.use('default')\n",
    "probs = y_val_pred\n",
    "precision, recall, thresholds = precision_recall_curve(y_val, y_val_pred)\n",
    "sns.set_theme()\n",
    "current_thld = np.argwhere((thresholds >0.499) & (thresholds < 0.501))\n",
    "f_scores = (2* precision * recall) / (precision + recall)\n",
    "max_f = np.argmax(f_scores)\n",
    "plt.scatter(precision, recall, c=f_scores, cmap='RdYlGn', s=20)\n",
    "plt.plot(precision[current_thld], recall[current_thld], 'ob', label=\"0.5 Threshold\", markersize=10)\n",
    "plt.plot(precision[max_f], recall[max_f], \"o\", c='aqua',label=\"{:.2f} Threshold\".format(thresholds[np.argmax(f_scores)]), markersize=10)\n",
    "plt.ylabel('Recall')\n",
    "plt.xlabel('Precision')\n",
    "plt.title(\"Precision Recall Curve\")\n",
    "cbr = plt.colorbar()\n",
    "cbr.ax.set_ylabel(\"F1 Score\")\n",
    "plt.legend()\n",
    "plt.show()\n",
    "plt.style.use('default')"
   ]
  },
  {
   "cell_type": "code",
   "execution_count": 47,
   "metadata": {},
   "outputs": [
    {
     "name": "stdout",
     "output_type": "stream",
     "text": [
      "Threshold that maximizes F1 score: 0.35647\n"
     ]
    }
   ],
   "source": [
    "max_threshold = thresholds[max_f]\n",
    "print(\"Threshold that maximizes F1 score: {:.5f}\".format(max_threshold))"
   ]
  },
  {
   "cell_type": "code",
   "execution_count": 48,
   "metadata": {},
   "outputs": [
    {
     "data": {
      "text/plain": [
       "<sklearn.metrics._plot.confusion_matrix.ConfusionMatrixDisplay at 0x1c014912f08>"
      ]
     },
     "execution_count": 48,
     "metadata": {},
     "output_type": "execute_result"
    },
    {
     "data": {
      "text/plain": [
       "Text(0.5, 1.0, 'Confusion matrix')"
      ]
     },
     "execution_count": 48,
     "metadata": {},
     "output_type": "execute_result"
    },
    {
     "data": {
      "image/png": "[encoded data removed]",
      "text/plain": [
       "<Figure size 640x480 with 2 Axes>"
      ]
     },
     "metadata": {},
     "output_type": "display_data"
    }
   ],
   "source": [
    "test_probs = y_val_pred \n",
    "test_preds = (test_probs > max_threshold).astype(int)\n",
    "cm = confusion_matrix(y_val, test_preds, normalize=\"all\")\n",
    "disp= ConfusionMatrixDisplay(confusion_matrix=cm, display_labels=[\"Not High\",\"High Rating\"])\n",
    "disp.plot(include_values=True, cmap=plt.cm.Blues, xticks_rotation=\"horizontal\", colorbar=True)\n",
    "disp.ax_.set_title(\"Confusion matrix\")\n",
    "plt.show()"
   ]
  },
  {
   "cell_type": "markdown",
   "metadata": {},
   "source": [
    "### Output - Dataframe with predictions (includes Training, Test, and Out of time) --> it's the input dataset"
   ]
  },
  {
   "cell_type": "code",
   "execution_count": 49,
   "metadata": {},
   "outputs": [],
   "source": [
    "X_final = df.drop(columns=['timestamp','date','target'])\n",
    "X_final_prep = pipe_fitted.transform(X_final)\n",
    "y_final = df[['target']]"
   ]
  },
  {
   "cell_type": "code",
   "execution_count": 50,
   "metadata": {},
   "outputs": [],
   "source": [
    "predictions = pd.DataFrame(model.predict_proba(X_final_prep))[1]"
   ]
  },
  {
   "cell_type": "code",
   "execution_count": 51,
   "metadata": {},
   "outputs": [],
   "source": [
    "df['predictions'] = np.array(predictions>max_threshold, dtype='int')"
   ]
  },
  {
   "cell_type": "markdown",
   "metadata": {},
   "source": [
    "## Export Output, Model and Pipeline"
   ]
  },
  {
   "cell_type": "code",
   "execution_count": 56,
   "metadata": {},
   "outputs": [],
   "source": [
    "df.to_csv('outputs/df_with_predictions.csv')"
   ]
  },
  {
   "cell_type": "code",
   "execution_count": 55,
   "metadata": {},
   "outputs": [
    {
     "data": {
      "text/plain": [
       "['model/model.joblib']"
      ]
     },
     "execution_count": 55,
     "metadata": {},
     "output_type": "execute_result"
    },
    {
     "data": {
      "text/plain": [
       "['model/pipe.joblib']"
      ]
     },
     "execution_count": 55,
     "metadata": {},
     "output_type": "execute_result"
    },
    {
     "data": {
      "text/plain": [
       "['model/pipe_fitted.joblib']"
      ]
     },
     "execution_count": 55,
     "metadata": {},
     "output_type": "execute_result"
    }
   ],
   "source": [
    "# Export model\n",
    "joblib.dump(model, 'model/model.joblib')\n",
    "# Export pipeline\n",
    "joblib.dump(pipe, 'model/pipe.joblib')\n",
    "joblib.dump(pipe_fitted, 'model/pipe_fitted.joblib')"
   ]
  },
  {
   "cell_type": "markdown",
   "metadata": {},
   "source": [
    "# Business and Model Insights --> spoken"
   ]
  },
  {
   "cell_type": "code",
   "execution_count": 54,
   "metadata": {},
   "outputs": [
    {
     "name": "stdout",
     "output_type": "stream",
     "text": [
      "El script tarda 7.999396197001139 minutos en correr\n"
     ]
    }
   ],
   "source": [
    "# Calculate total time of execution\n",
    "end_time = time.time()\n",
    "print(f\"El script tarda {(end_time - start_time)/60} minutos en correr\")"
   ]
  }
 ],
 "metadata": {
  "kernelspec": {
   "display_name": "Python 3",
   "language": "python",
   "name": "python3"
  },
  "language_info": {
   "codemirror_mode": {
    "name": "ipython",
    "version": 3
   },
   "file_extension": ".py",
   "mimetype": "text/x-python",
   "name": "python",
   "nbconvert_exporter": "python",
   "pygments_lexer": "ipython3",
   "version": "3.7.6"
  },
  "latex_envs": {
   "LaTeX_envs_menu_present": true,
   "autoclose": false,
   "autocomplete": true,
   "bibliofile": "biblio.bib",
   "cite_by": "apalike",
   "current_citInitial": 1,
   "eqLabelWithNumbers": true,
   "eqNumInitial": 1,
   "hotkeys": {
    "equation": "Ctrl-E",
    "itemize": "Ctrl-I"
   },
   "labels_anchors": false,
   "latex_user_defs": false,
   "report_style_numbering": false,
   "user_envs_cfg": false
  },
  "toc": {
   "base_numbering": 1,
   "nav_menu": {},
   "number_sections": true,
   "sideBar": true,
   "skip_h1_title": false,
   "title_cell": "Table of Contents",
   "title_sidebar": "Contents",
   "toc_cell": false,
   "toc_position": {},
   "toc_section_display": true,
   "toc_window_display": false
  },
  "varInspector": {
   "cols": {
    "lenName": 16,
    "lenType": 16,
    "lenVar": 40
   },
   "kernels_config": {
    "python": {
     "delete_cmd_postfix": "",
     "delete_cmd_prefix": "del ",
     "library": "var_list.py",
     "varRefreshCmd": "print(var_dic_list())"
    },
    "r": {
     "delete_cmd_postfix": ") ",
     "delete_cmd_prefix": "rm(",
     "library": "var_list.r",
     "varRefreshCmd": "cat(var_dic_list()) "
    }
   },
   "position": {
    "height": "453.844px",
    "left": "990.2px",
    "right": "20px",
    "top": "120px",
    "width": "800px"
   },
   "types_to_exclude": [
    "module",
    "function",
    "builtin_function_or_method",
    "instance",
    "_Feature"
   ],
   "window_display": false
  }
 },
 "nbformat": 4,
 "nbformat_minor": 4
}
